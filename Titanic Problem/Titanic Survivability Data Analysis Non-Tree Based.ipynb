{
 "cells": [
  {
   "cell_type": "code",
   "execution_count": 18,
   "metadata": {},
   "outputs": [],
   "source": [
    "import pandas as pd\n",
    "import numpy as np\n",
    "import scipy.optimize as op\n",
    "from sklearn.model_selection import train_test_split"
   ]
  },
  {
   "cell_type": "code",
   "execution_count": 19,
   "metadata": {},
   "outputs": [],
   "source": [
    "from sklearn.neighbors import KNeighborsClassifier\n",
    "from sklearn.tree import DecisionTreeClassifier\n",
    "from sklearn.ensemble import RandomForestClassifier\n",
    "from sklearn.naive_bayes import GaussianNB\n",
    "from sklearn.svm import SVC\n",
    "from sklearn.linear_model import LogisticRegression\n",
    "import xgboost as xgb"
   ]
  },
  {
   "cell_type": "code",
   "execution_count": 20,
   "metadata": {},
   "outputs": [],
   "source": [
    "# Cross Validation (K-fold)\n",
    "\n",
    "from sklearn.model_selection import KFold\n",
    "from sklearn.model_selection import cross_val_score\n",
    "k_fold = KFold(n_splits=10, shuffle=True, random_state=0)"
   ]
  },
  {
   "cell_type": "code",
   "execution_count": 21,
   "metadata": {},
   "outputs": [],
   "source": [
    "# Hyper Parameter Optimization and Computation\n",
    "from sklearn.model_selection import RandomizedSearchCV, GridSearchCV"
   ]
  },
  {
   "cell_type": "code",
   "execution_count": 22,
   "metadata": {},
   "outputs": [],
   "source": [
    "train = pd.read_csv (r\"C:\\Users\\admin\\Desktop\\Datasets\\Titanic_Kaggle\\train_nt_clean.csv\")\n",
    "test = pd.read_csv (r\"C:\\Users\\admin\\Desktop\\Datasets\\Titanic_Kaggle\\test_nt_clean.csv\")"
   ]
  },
  {
   "cell_type": "code",
   "execution_count": 23,
   "metadata": {},
   "outputs": [
    {
     "data": {
      "text/html": [
       "<div>\n",
       "<style scoped>\n",
       "    .dataframe tbody tr th:only-of-type {\n",
       "        vertical-align: middle;\n",
       "    }\n",
       "\n",
       "    .dataframe tbody tr th {\n",
       "        vertical-align: top;\n",
       "    }\n",
       "\n",
       "    .dataframe thead th {\n",
       "        text-align: right;\n",
       "    }\n",
       "</style>\n",
       "<table border=\"1\" class=\"dataframe\">\n",
       "  <thead>\n",
       "    <tr style=\"text-align: right;\">\n",
       "      <th></th>\n",
       "      <th>Survived</th>\n",
       "      <th>Sex</th>\n",
       "      <th>Fare</th>\n",
       "      <th>Cabin</th>\n",
       "      <th>Embarked</th>\n",
       "      <th>Title</th>\n",
       "      <th>Age</th>\n",
       "      <th>Pclass_1</th>\n",
       "      <th>Pclass_2</th>\n",
       "      <th>Pclass_3</th>\n",
       "      <th>...</th>\n",
       "      <th>Age_5</th>\n",
       "      <th>Fam_1</th>\n",
       "      <th>Fam_2</th>\n",
       "      <th>Fam_3</th>\n",
       "      <th>Fam_4</th>\n",
       "      <th>Fam_5</th>\n",
       "      <th>Fam_6</th>\n",
       "      <th>Fam_7</th>\n",
       "      <th>Fam_8</th>\n",
       "      <th>Fam_11</th>\n",
       "    </tr>\n",
       "  </thead>\n",
       "  <tbody>\n",
       "    <tr>\n",
       "      <th>0</th>\n",
       "      <td>0</td>\n",
       "      <td>0.647587</td>\n",
       "      <td>0.014151</td>\n",
       "      <td>0.837262</td>\n",
       "      <td>0.725028</td>\n",
       "      <td>0.580247</td>\n",
       "      <td>2.0</td>\n",
       "      <td>0</td>\n",
       "      <td>0</td>\n",
       "      <td>1</td>\n",
       "      <td>...</td>\n",
       "      <td>0</td>\n",
       "      <td>0</td>\n",
       "      <td>1</td>\n",
       "      <td>0</td>\n",
       "      <td>0</td>\n",
       "      <td>0</td>\n",
       "      <td>0</td>\n",
       "      <td>0</td>\n",
       "      <td>0</td>\n",
       "      <td>0</td>\n",
       "    </tr>\n",
       "    <tr>\n",
       "      <th>1</th>\n",
       "      <td>1</td>\n",
       "      <td>0.352413</td>\n",
       "      <td>0.139136</td>\n",
       "      <td>0.837262</td>\n",
       "      <td>0.188552</td>\n",
       "      <td>0.140292</td>\n",
       "      <td>4.0</td>\n",
       "      <td>1</td>\n",
       "      <td>0</td>\n",
       "      <td>0</td>\n",
       "      <td>...</td>\n",
       "      <td>0</td>\n",
       "      <td>0</td>\n",
       "      <td>1</td>\n",
       "      <td>0</td>\n",
       "      <td>0</td>\n",
       "      <td>0</td>\n",
       "      <td>0</td>\n",
       "      <td>0</td>\n",
       "      <td>0</td>\n",
       "      <td>0</td>\n",
       "    </tr>\n",
       "    <tr>\n",
       "      <th>2</th>\n",
       "      <td>1</td>\n",
       "      <td>0.352413</td>\n",
       "      <td>0.015469</td>\n",
       "      <td>0.837262</td>\n",
       "      <td>0.725028</td>\n",
       "      <td>0.204265</td>\n",
       "      <td>3.0</td>\n",
       "      <td>0</td>\n",
       "      <td>0</td>\n",
       "      <td>1</td>\n",
       "      <td>...</td>\n",
       "      <td>0</td>\n",
       "      <td>1</td>\n",
       "      <td>0</td>\n",
       "      <td>0</td>\n",
       "      <td>0</td>\n",
       "      <td>0</td>\n",
       "      <td>0</td>\n",
       "      <td>0</td>\n",
       "      <td>0</td>\n",
       "      <td>0</td>\n",
       "    </tr>\n",
       "    <tr>\n",
       "      <th>3</th>\n",
       "      <td>1</td>\n",
       "      <td>0.352413</td>\n",
       "      <td>0.103644</td>\n",
       "      <td>0.837262</td>\n",
       "      <td>0.725028</td>\n",
       "      <td>0.140292</td>\n",
       "      <td>3.0</td>\n",
       "      <td>1</td>\n",
       "      <td>0</td>\n",
       "      <td>0</td>\n",
       "      <td>...</td>\n",
       "      <td>0</td>\n",
       "      <td>0</td>\n",
       "      <td>1</td>\n",
       "      <td>0</td>\n",
       "      <td>0</td>\n",
       "      <td>0</td>\n",
       "      <td>0</td>\n",
       "      <td>0</td>\n",
       "      <td>0</td>\n",
       "      <td>0</td>\n",
       "    </tr>\n",
       "    <tr>\n",
       "      <th>4</th>\n",
       "      <td>0</td>\n",
       "      <td>0.647587</td>\n",
       "      <td>0.015713</td>\n",
       "      <td>0.837262</td>\n",
       "      <td>0.725028</td>\n",
       "      <td>0.580247</td>\n",
       "      <td>3.0</td>\n",
       "      <td>0</td>\n",
       "      <td>0</td>\n",
       "      <td>1</td>\n",
       "      <td>...</td>\n",
       "      <td>0</td>\n",
       "      <td>1</td>\n",
       "      <td>0</td>\n",
       "      <td>0</td>\n",
       "      <td>0</td>\n",
       "      <td>0</td>\n",
       "      <td>0</td>\n",
       "      <td>0</td>\n",
       "      <td>0</td>\n",
       "      <td>0</td>\n",
       "    </tr>\n",
       "  </tbody>\n",
       "</table>\n",
       "<p>5 rows × 24 columns</p>\n",
       "</div>"
      ],
      "text/plain": [
       "   Survived       Sex      Fare     Cabin  Embarked     Title  Age  Pclass_1  \\\n",
       "0         0  0.647587  0.014151  0.837262  0.725028  0.580247  2.0         0   \n",
       "1         1  0.352413  0.139136  0.837262  0.188552  0.140292  4.0         1   \n",
       "2         1  0.352413  0.015469  0.837262  0.725028  0.204265  3.0         0   \n",
       "3         1  0.352413  0.103644  0.837262  0.725028  0.140292  3.0         1   \n",
       "4         0  0.647587  0.015713  0.837262  0.725028  0.580247  3.0         0   \n",
       "\n",
       "   Pclass_2  Pclass_3  ...  Age_5  Fam_1  Fam_2  Fam_3  Fam_4  Fam_5  Fam_6  \\\n",
       "0         0         1  ...      0      0      1      0      0      0      0   \n",
       "1         0         0  ...      0      0      1      0      0      0      0   \n",
       "2         0         1  ...      0      1      0      0      0      0      0   \n",
       "3         0         0  ...      0      0      1      0      0      0      0   \n",
       "4         0         1  ...      0      1      0      0      0      0      0   \n",
       "\n",
       "   Fam_7  Fam_8  Fam_11  \n",
       "0      0      0       0  \n",
       "1      0      0       0  \n",
       "2      0      0       0  \n",
       "3      0      0       0  \n",
       "4      0      0       0  \n",
       "\n",
       "[5 rows x 24 columns]"
      ]
     },
     "execution_count": 23,
     "metadata": {},
     "output_type": "execute_result"
    }
   ],
   "source": [
    "train.head()"
   ]
  },
  {
   "cell_type": "code",
   "execution_count": 24,
   "metadata": {},
   "outputs": [
    {
     "data": {
      "text/html": [
       "<div>\n",
       "<style scoped>\n",
       "    .dataframe tbody tr th:only-of-type {\n",
       "        vertical-align: middle;\n",
       "    }\n",
       "\n",
       "    .dataframe tbody tr th {\n",
       "        vertical-align: top;\n",
       "    }\n",
       "\n",
       "    .dataframe thead th {\n",
       "        text-align: right;\n",
       "    }\n",
       "</style>\n",
       "<table border=\"1\" class=\"dataframe\">\n",
       "  <thead>\n",
       "    <tr style=\"text-align: right;\">\n",
       "      <th></th>\n",
       "      <th>Sex</th>\n",
       "      <th>Fare</th>\n",
       "      <th>Cabin</th>\n",
       "      <th>Embarked</th>\n",
       "      <th>Title</th>\n",
       "      <th>Age</th>\n",
       "      <th>Pclass_1</th>\n",
       "      <th>Pclass_2</th>\n",
       "      <th>Pclass_3</th>\n",
       "      <th>Age_1</th>\n",
       "      <th>...</th>\n",
       "      <th>Age_5</th>\n",
       "      <th>Fam_1</th>\n",
       "      <th>Fam_2</th>\n",
       "      <th>Fam_3</th>\n",
       "      <th>Fam_4</th>\n",
       "      <th>Fam_5</th>\n",
       "      <th>Fam_6</th>\n",
       "      <th>Fam_7</th>\n",
       "      <th>Fam_8</th>\n",
       "      <th>Fam_11</th>\n",
       "    </tr>\n",
       "  </thead>\n",
       "  <tbody>\n",
       "    <tr>\n",
       "      <th>0</th>\n",
       "      <td>0.636364</td>\n",
       "      <td>0.015282</td>\n",
       "      <td>0.866029</td>\n",
       "      <td>0.110048</td>\n",
       "      <td>0.574163</td>\n",
       "      <td>3.0</td>\n",
       "      <td>0</td>\n",
       "      <td>0</td>\n",
       "      <td>1</td>\n",
       "      <td>0</td>\n",
       "      <td>...</td>\n",
       "      <td>0</td>\n",
       "      <td>1</td>\n",
       "      <td>0</td>\n",
       "      <td>0</td>\n",
       "      <td>0</td>\n",
       "      <td>0</td>\n",
       "      <td>0</td>\n",
       "      <td>0</td>\n",
       "      <td>0</td>\n",
       "      <td>0</td>\n",
       "    </tr>\n",
       "    <tr>\n",
       "      <th>1</th>\n",
       "      <td>0.363636</td>\n",
       "      <td>0.013663</td>\n",
       "      <td>0.866029</td>\n",
       "      <td>0.645933</td>\n",
       "      <td>0.172249</td>\n",
       "      <td>4.0</td>\n",
       "      <td>0</td>\n",
       "      <td>0</td>\n",
       "      <td>1</td>\n",
       "      <td>0</td>\n",
       "      <td>...</td>\n",
       "      <td>0</td>\n",
       "      <td>0</td>\n",
       "      <td>1</td>\n",
       "      <td>0</td>\n",
       "      <td>0</td>\n",
       "      <td>0</td>\n",
       "      <td>0</td>\n",
       "      <td>0</td>\n",
       "      <td>0</td>\n",
       "      <td>0</td>\n",
       "    </tr>\n",
       "    <tr>\n",
       "      <th>2</th>\n",
       "      <td>0.636364</td>\n",
       "      <td>0.018909</td>\n",
       "      <td>0.866029</td>\n",
       "      <td>0.110048</td>\n",
       "      <td>0.574163</td>\n",
       "      <td>5.0</td>\n",
       "      <td>0</td>\n",
       "      <td>1</td>\n",
       "      <td>0</td>\n",
       "      <td>0</td>\n",
       "      <td>...</td>\n",
       "      <td>1</td>\n",
       "      <td>1</td>\n",
       "      <td>0</td>\n",
       "      <td>0</td>\n",
       "      <td>0</td>\n",
       "      <td>0</td>\n",
       "      <td>0</td>\n",
       "      <td>0</td>\n",
       "      <td>0</td>\n",
       "      <td>0</td>\n",
       "    </tr>\n",
       "    <tr>\n",
       "      <th>3</th>\n",
       "      <td>0.636364</td>\n",
       "      <td>0.016908</td>\n",
       "      <td>0.866029</td>\n",
       "      <td>0.645933</td>\n",
       "      <td>0.574163</td>\n",
       "      <td>3.0</td>\n",
       "      <td>0</td>\n",
       "      <td>0</td>\n",
       "      <td>1</td>\n",
       "      <td>0</td>\n",
       "      <td>...</td>\n",
       "      <td>0</td>\n",
       "      <td>1</td>\n",
       "      <td>0</td>\n",
       "      <td>0</td>\n",
       "      <td>0</td>\n",
       "      <td>0</td>\n",
       "      <td>0</td>\n",
       "      <td>0</td>\n",
       "      <td>0</td>\n",
       "      <td>0</td>\n",
       "    </tr>\n",
       "    <tr>\n",
       "      <th>4</th>\n",
       "      <td>0.363636</td>\n",
       "      <td>0.023984</td>\n",
       "      <td>0.866029</td>\n",
       "      <td>0.645933</td>\n",
       "      <td>0.172249</td>\n",
       "      <td>2.0</td>\n",
       "      <td>0</td>\n",
       "      <td>0</td>\n",
       "      <td>1</td>\n",
       "      <td>0</td>\n",
       "      <td>...</td>\n",
       "      <td>0</td>\n",
       "      <td>0</td>\n",
       "      <td>0</td>\n",
       "      <td>1</td>\n",
       "      <td>0</td>\n",
       "      <td>0</td>\n",
       "      <td>0</td>\n",
       "      <td>0</td>\n",
       "      <td>0</td>\n",
       "      <td>0</td>\n",
       "    </tr>\n",
       "  </tbody>\n",
       "</table>\n",
       "<p>5 rows × 23 columns</p>\n",
       "</div>"
      ],
      "text/plain": [
       "        Sex      Fare     Cabin  Embarked     Title  Age  Pclass_1  Pclass_2  \\\n",
       "0  0.636364  0.015282  0.866029  0.110048  0.574163  3.0         0         0   \n",
       "1  0.363636  0.013663  0.866029  0.645933  0.172249  4.0         0         0   \n",
       "2  0.636364  0.018909  0.866029  0.110048  0.574163  5.0         0         1   \n",
       "3  0.636364  0.016908  0.866029  0.645933  0.574163  3.0         0         0   \n",
       "4  0.363636  0.023984  0.866029  0.645933  0.172249  2.0         0         0   \n",
       "\n",
       "   Pclass_3  Age_1  ...  Age_5  Fam_1  Fam_2  Fam_3  Fam_4  Fam_5  Fam_6  \\\n",
       "0         1      0  ...      0      1      0      0      0      0      0   \n",
       "1         1      0  ...      0      0      1      0      0      0      0   \n",
       "2         0      0  ...      1      1      0      0      0      0      0   \n",
       "3         1      0  ...      0      1      0      0      0      0      0   \n",
       "4         1      0  ...      0      0      0      1      0      0      0   \n",
       "\n",
       "   Fam_7  Fam_8  Fam_11  \n",
       "0      0      0       0  \n",
       "1      0      0       0  \n",
       "2      0      0       0  \n",
       "3      0      0       0  \n",
       "4      0      0       0  \n",
       "\n",
       "[5 rows x 23 columns]"
      ]
     },
     "execution_count": 24,
     "metadata": {},
     "output_type": "execute_result"
    }
   ],
   "source": [
    "test.head()"
   ]
  },
  {
   "cell_type": "code",
   "execution_count": 25,
   "metadata": {},
   "outputs": [
    {
     "name": "stdout",
     "output_type": "stream",
     "text": [
      "(891, 24)\n",
      "(418, 23)\n"
     ]
    }
   ],
   "source": [
    "print (train.shape)\n",
    "print (test.shape)"
   ]
  },
  {
   "cell_type": "code",
   "execution_count": 26,
   "metadata": {},
   "outputs": [],
   "source": [
    "x = train.iloc[:,1:24]\n",
    "y = train.iloc[:,0]"
   ]
  },
  {
   "cell_type": "code",
   "execution_count": 27,
   "metadata": {},
   "outputs": [],
   "source": [
    "x_train , x_test , y_train , y_test = train_test_split (x,y,test_size=0.33,random_state=5)"
   ]
  },
  {
   "cell_type": "code",
   "execution_count": 28,
   "metadata": {},
   "outputs": [
    {
     "name": "stdout",
     "output_type": "stream",
     "text": [
      "(596, 23)\n",
      "(295, 23)\n",
      "(596,)\n",
      "(295,)\n"
     ]
    }
   ],
   "source": [
    "print (x_train.shape)\n",
    "print (x_test.shape)\n",
    "print (y_train.shape)\n",
    "print (y_test.shape)"
   ]
  },
  {
   "cell_type": "code",
   "execution_count": null,
   "metadata": {},
   "outputs": [],
   "source": []
  },
  {
   "cell_type": "code",
   "execution_count": 29,
   "metadata": {},
   "outputs": [],
   "source": [
    "# KNN"
   ]
  },
  {
   "cell_type": "code",
   "execution_count": 30,
   "metadata": {},
   "outputs": [],
   "source": [
    "clf = KNeighborsClassifier()\n",
    "clf.fit(x_train , y_train)\n",
    "pred1 = clf.predict(test)"
   ]
  },
  {
   "cell_type": "code",
   "execution_count": 31,
   "metadata": {},
   "outputs": [
    {
     "name": "stdout",
     "output_type": "stream",
     "text": [
      "72.82\n",
      "75.26\n"
     ]
    }
   ],
   "source": [
    "score_train = cross_val_score(clf, x_train,y_train, cv=k_fold, n_jobs=-1, scoring=\"accuracy\")\n",
    "print (round(np.mean(score_train)*100,2))\n",
    "score_test = cross_val_score(clf, x_test,y_test, cv=k_fold, n_jobs=-1, scoring=\"accuracy\")\n",
    "print (round(np.mean(score_test)*100,2))"
   ]
  },
  {
   "cell_type": "code",
   "execution_count": null,
   "metadata": {},
   "outputs": [],
   "source": []
  },
  {
   "cell_type": "code",
   "execution_count": 32,
   "metadata": {},
   "outputs": [],
   "source": [
    "# Decision Tree"
   ]
  },
  {
   "cell_type": "code",
   "execution_count": 33,
   "metadata": {},
   "outputs": [],
   "source": [
    "clf = DecisionTreeClassifier()\n",
    "clf.fit(x_train , y_train)\n",
    "pred2 = clf.predict(test)"
   ]
  },
  {
   "cell_type": "code",
   "execution_count": 34,
   "metadata": {},
   "outputs": [
    {
     "name": "stdout",
     "output_type": "stream",
     "text": [
      "77.34\n",
      "74.3\n"
     ]
    }
   ],
   "source": [
    "score_train = cross_val_score(clf, x_train,y_train, cv=k_fold, n_jobs=-1, scoring=\"accuracy\")\n",
    "print (round(np.mean(score_train)*100,2))\n",
    "score_test = cross_val_score(clf, x_test,y_test, cv=k_fold, n_jobs=-1, scoring=\"accuracy\")\n",
    "print (round(np.mean(score_test)*100,2))"
   ]
  },
  {
   "cell_type": "code",
   "execution_count": null,
   "metadata": {},
   "outputs": [],
   "source": []
  },
  {
   "cell_type": "code",
   "execution_count": 35,
   "metadata": {},
   "outputs": [],
   "source": [
    "# Random Forest"
   ]
  },
  {
   "cell_type": "code",
   "execution_count": 36,
   "metadata": {},
   "outputs": [],
   "source": [
    "clf = RandomForestClassifier()\n",
    "clf.fit(x_train , y_train)\n",
    "pred3 = clf.predict(test)"
   ]
  },
  {
   "cell_type": "code",
   "execution_count": 37,
   "metadata": {},
   "outputs": [
    {
     "name": "stdout",
     "output_type": "stream",
     "text": [
      "77.86\n",
      "82.41\n"
     ]
    }
   ],
   "source": [
    "score_train = cross_val_score(clf, x_train,y_train, cv=k_fold, n_jobs=-1, scoring=\"accuracy\")\n",
    "print (round(np.mean(score_train)*100,2))\n",
    "score_test = cross_val_score(clf, x_test,y_test, cv=k_fold, n_jobs=-1, scoring=\"accuracy\")\n",
    "print (round(np.mean(score_test)*100,2))"
   ]
  },
  {
   "cell_type": "code",
   "execution_count": null,
   "metadata": {},
   "outputs": [],
   "source": []
  },
  {
   "cell_type": "code",
   "execution_count": 38,
   "metadata": {},
   "outputs": [],
   "source": [
    "# Naive Bayes"
   ]
  },
  {
   "cell_type": "code",
   "execution_count": 39,
   "metadata": {},
   "outputs": [],
   "source": [
    "clf = GaussianNB()\n",
    "clf.fit(x_train,y_train)\n",
    "pred4 = clf.predict(test)"
   ]
  },
  {
   "cell_type": "code",
   "execution_count": 40,
   "metadata": {},
   "outputs": [
    {
     "name": "stdout",
     "output_type": "stream",
     "text": [
      "42.59\n",
      "40.05\n"
     ]
    }
   ],
   "source": [
    "score_train = cross_val_score(clf, x_train,y_train, cv=k_fold, n_jobs=-1, scoring=\"accuracy\")\n",
    "print (round(np.mean(score_train)*100,2))\n",
    "score_test = cross_val_score(clf, x_test,y_test, cv=k_fold, n_jobs=-1, scoring=\"accuracy\")\n",
    "print (round(np.mean(score_test)*100,2))"
   ]
  },
  {
   "cell_type": "code",
   "execution_count": null,
   "metadata": {},
   "outputs": [],
   "source": []
  },
  {
   "cell_type": "code",
   "execution_count": 41,
   "metadata": {},
   "outputs": [],
   "source": [
    "# Support Vector Machine"
   ]
  },
  {
   "cell_type": "code",
   "execution_count": 42,
   "metadata": {},
   "outputs": [],
   "source": [
    "clf = SVC()\n",
    "clf.fit(x_train,y_train)\n",
    "pred5 = clf.predict(test)"
   ]
  },
  {
   "cell_type": "code",
   "execution_count": 43,
   "metadata": {},
   "outputs": [
    {
     "name": "stdout",
     "output_type": "stream",
     "text": [
      "81.04\n",
      "78.0\n"
     ]
    }
   ],
   "source": [
    "score_train = cross_val_score(clf, x_train,y_train, cv=k_fold, n_jobs=-1, scoring=\"accuracy\")\n",
    "print (round(np.mean(score_train)*100,2))\n",
    "score_test = cross_val_score(clf, x_test,y_test, cv=k_fold, n_jobs=-1, scoring=\"accuracy\")\n",
    "print (round(np.mean(score_test)*100,2))"
   ]
  },
  {
   "cell_type": "code",
   "execution_count": null,
   "metadata": {},
   "outputs": [],
   "source": []
  },
  {
   "cell_type": "code",
   "execution_count": 44,
   "metadata": {},
   "outputs": [],
   "source": [
    "# Logistic Regression"
   ]
  },
  {
   "cell_type": "code",
   "execution_count": 45,
   "metadata": {},
   "outputs": [],
   "source": [
    "clf = LogisticRegression()\n",
    "clf.fit(x_train,y_train)\n",
    "pred6 = clf.predict(test)"
   ]
  },
  {
   "cell_type": "code",
   "execution_count": 46,
   "metadata": {},
   "outputs": [
    {
     "name": "stdout",
     "output_type": "stream",
     "text": [
      "79.36\n",
      "83.47\n"
     ]
    }
   ],
   "source": [
    "score_train = cross_val_score(clf, x_train,y_train, cv=k_fold, n_jobs=-1, scoring=\"accuracy\")\n",
    "print (round(np.mean(score_train)*100,2))\n",
    "score_test = cross_val_score(clf, x_test,y_test, cv=k_fold, n_jobs=-1, scoring=\"accuracy\")\n",
    "print (round(np.mean(score_test)*100,2))"
   ]
  },
  {
   "cell_type": "code",
   "execution_count": null,
   "metadata": {},
   "outputs": [],
   "source": []
  },
  {
   "cell_type": "code",
   "execution_count": 47,
   "metadata": {},
   "outputs": [],
   "source": [
    "# XGBoost"
   ]
  },
  {
   "cell_type": "code",
   "execution_count": 48,
   "metadata": {},
   "outputs": [],
   "source": [
    "clf = xgb.XGBClassifier()\n",
    "clf.fit(x_train,y_train)\n",
    "pred7 = clf.predict(test)"
   ]
  },
  {
   "cell_type": "code",
   "execution_count": 49,
   "metadata": {},
   "outputs": [
    {
     "name": "stdout",
     "output_type": "stream",
     "text": [
      "82.38\n",
      "84.46\n"
     ]
    }
   ],
   "source": [
    "score_train = cross_val_score(clf, x_train,y_train, cv=k_fold, n_jobs=-1, scoring=\"accuracy\")\n",
    "print (round(np.mean(score_train)*100,2))\n",
    "score_test = cross_val_score(clf, x_test,y_test, cv=k_fold, n_jobs=-1, scoring=\"accuracy\")\n",
    "print (round(np.mean(score_test)*100,2))"
   ]
  },
  {
   "cell_type": "code",
   "execution_count": null,
   "metadata": {},
   "outputs": [],
   "source": []
  },
  {
   "cell_type": "code",
   "execution_count": 67,
   "metadata": {},
   "outputs": [],
   "source": [
    "# Ensemble Voting\n",
    "\n",
    "sub=[]\n",
    "sub.append(pred1)\n",
    "sub.append(pred2)\n",
    "sub.append(pred3)\n",
    "#sub.append(pred4)\n",
    "sub.append(pred5)\n",
    "sub.append(pred6)\n",
    "sub.append(pred7)\n",
    "sub = np.array(sub)\n",
    "sub_final = []\n",
    "for i in range (418):\n",
    "    p = 0\n",
    "    n = 0\n",
    "    j = 0\n",
    "    for j in range (6):\n",
    "        if (sub[j][i]==1):\n",
    "            p=p+1\n",
    "        else:\n",
    "            n=n+1\n",
    "    if (p>n):\n",
    "        sub_final.append(1)\n",
    "    else:\n",
    "        sub_final.append(0)"
   ]
  },
  {
   "cell_type": "code",
   "execution_count": 68,
   "metadata": {},
   "outputs": [],
   "source": [
    "test1 = pd.read_csv(r\"C:\\Users\\admin\\Desktop\\Datasets\\Titanic_Kaggle\\gender_submission.csv\")\n",
    "submission = pd.DataFrame({\"PassengerId\": test1[\"PassengerId\"] , \"Survived\": sub_final})\n",
    "\n",
    "submission[\"PassengerId\"] = submission[\"PassengerId\"].astype(int)\n",
    "submission[\"Survived\"] = submission[\"Survived\"].astype(int)\n",
    "\n",
    "submission.to_csv(r\"C:\\Users\\admin\\Desktop\\submission_titanic.csv\" , index=False , header=True)"
   ]
  },
  {
   "cell_type": "code",
   "execution_count": null,
   "metadata": {},
   "outputs": [],
   "source": []
  },
  {
   "cell_type": "code",
   "execution_count": null,
   "metadata": {},
   "outputs": [],
   "source": []
  }
 ],
 "metadata": {
  "kernelspec": {
   "display_name": "Python 3",
   "language": "python",
   "name": "python3"
  },
  "language_info": {
   "codemirror_mode": {
    "name": "ipython",
    "version": 3
   },
   "file_extension": ".py",
   "mimetype": "text/x-python",
   "name": "python",
   "nbconvert_exporter": "python",
   "pygments_lexer": "ipython3",
   "version": "3.7.6"
  }
 },
 "nbformat": 4,
 "nbformat_minor": 4
}
