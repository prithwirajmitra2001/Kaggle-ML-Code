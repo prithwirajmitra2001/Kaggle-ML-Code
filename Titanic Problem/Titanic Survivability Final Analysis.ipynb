{
 "cells": [
  {
   "cell_type": "code",
   "execution_count": 1,
   "metadata": {},
   "outputs": [],
   "source": [
    "import pandas as pd\n",
    "import numpy as np\n",
    "import scipy.optimize as op\n",
    "from sklearn.model_selection import train_test_split"
   ]
  },
  {
   "cell_type": "code",
   "execution_count": 60,
   "metadata": {},
   "outputs": [],
   "source": [
    "from sklearn.neighbors import KNeighborsClassifier\n",
    "from sklearn.tree import DecisionTreeClassifier\n",
    "from sklearn.ensemble import RandomForestClassifier , GradientBoostingClassifier\n",
    "from sklearn.naive_bayes import GaussianNB\n",
    "from sklearn.svm import SVC\n",
    "from sklearn.linear_model import LogisticRegression\n",
    "import xgboost as xgb\n",
    "import lightgbm as lgb\n",
    "from catboost import CatBoostClassifier"
   ]
  },
  {
   "cell_type": "code",
   "execution_count": 3,
   "metadata": {},
   "outputs": [],
   "source": [
    "# Cross Validation (K-fold)\n",
    "\n",
    "from sklearn.model_selection import KFold\n",
    "from sklearn.model_selection import cross_val_score\n",
    "k_fold = KFold(n_splits=10, shuffle=True, random_state=0)"
   ]
  },
  {
   "cell_type": "code",
   "execution_count": 4,
   "metadata": {},
   "outputs": [],
   "source": [
    "# Hyper Parameter Optimization and Computation\n",
    "from sklearn.model_selection import RandomizedSearchCV, GridSearchCV"
   ]
  },
  {
   "cell_type": "code",
   "execution_count": 101,
   "metadata": {},
   "outputs": [],
   "source": [
    "train_tree = pd.read_csv (r\"C:\\Users\\admin\\Desktop\\Datasets\\Titanic_Kaggle\\train_t_clean.csv\")\n",
    "test_tree = pd.read_csv (r\"C:\\Users\\admin\\Desktop\\Datasets\\Titanic_Kaggle\\test_t_clean.csv\")\n",
    "\n",
    "train_ntree = pd.read_csv (r\"C:\\Users\\admin\\Desktop\\Datasets\\Titanic_Kaggle\\train_nt_clean.csv\")\n",
    "test_ntree = pd.read_csv (r\"C:\\Users\\admin\\Desktop\\Datasets\\Titanic_Kaggle\\test_nt_clean.csv\")"
   ]
  },
  {
   "cell_type": "code",
   "execution_count": 102,
   "metadata": {},
   "outputs": [
    {
     "name": "stdout",
     "output_type": "stream",
     "text": [
      "(891, 11)\n",
      "(418, 10)\n",
      "(891, 20)\n",
      "(418, 19)\n"
     ]
    }
   ],
   "source": [
    "print (train_tree.shape)\n",
    "print (test_tree.shape)\n",
    "print (train_ntree.shape)\n",
    "print (test_ntree.shape)"
   ]
  },
  {
   "cell_type": "code",
   "execution_count": 103,
   "metadata": {},
   "outputs": [],
   "source": [
    "x_tree = train_tree.iloc[:,1:11]\n",
    "y_tree = train_tree.iloc[:,0]\n",
    "x_ntree = train_ntree.iloc[:,1:20]\n",
    "y_ntree = train_ntree.iloc[:,0]"
   ]
  },
  {
   "cell_type": "code",
   "execution_count": 104,
   "metadata": {},
   "outputs": [
    {
     "name": "stdout",
     "output_type": "stream",
     "text": [
      "(891, 10)\n",
      "(891,)\n",
      "(891, 19)\n",
      "(891,)\n"
     ]
    }
   ],
   "source": [
    "print (x_tree.shape)\n",
    "print (y_tree.shape)\n",
    "print (x_ntree.shape)\n",
    "print (y_ntree.shape)"
   ]
  },
  {
   "cell_type": "code",
   "execution_count": 105,
   "metadata": {},
   "outputs": [],
   "source": [
    "x_tree_train , x_tree_test , y_tree_train , y_tree_test = train_test_split (x_tree,y_tree,test_size=0.33,random_state=5)\n",
    "x_ntree_train , x_ntree_test , y_ntree_train , y_ntree_test = train_test_split (x_ntree,y_ntree,test_size=0.33,random_state=5)"
   ]
  },
  {
   "cell_type": "code",
   "execution_count": null,
   "metadata": {},
   "outputs": [],
   "source": []
  },
  {
   "cell_type": "code",
   "execution_count": 10,
   "metadata": {},
   "outputs": [],
   "source": [
    "# KNN"
   ]
  },
  {
   "cell_type": "code",
   "execution_count": 11,
   "metadata": {},
   "outputs": [],
   "source": [
    "# Random Search"
   ]
  },
  {
   "cell_type": "code",
   "execution_count": 33,
   "metadata": {},
   "outputs": [],
   "source": [
    "# Random Search for Non-Tree\n",
    "\n",
    "hyperparameter_grid={\n",
    "    'n_neighbors'        : [1 , 3 , 7 , 9 , 11 , 13 , 15 , 17 , 20 , 23 , 25 , 27 , 30] , \n",
    "    'weights'            : ['uniform' , 'distance'] , \n",
    "    'algorithm'          : ['auto', 'ball_tree', 'kd_tree', 'brute',None] , \n",
    "    'leaf_size'          : [None , 1 , 2 , 3 , 5 , 7 , 9 , 10 , 20 , 30 , 40 , 50] , \n",
    "    'p'                  : [None , 1 , 2 , 3 , 4 , 5] ,\n",
    "    'n_jobs'             : [-1]\n",
    "}"
   ]
  },
  {
   "cell_type": "code",
   "execution_count": 38,
   "metadata": {},
   "outputs": [
    {
     "name": "stdout",
     "output_type": "stream",
     "text": [
      "Fitting 5 folds for each of 50 candidates, totalling 250 fits\n"
     ]
    },
    {
     "name": "stderr",
     "output_type": "stream",
     "text": [
      "[Parallel(n_jobs=-1)]: Using backend LokyBackend with 8 concurrent workers.\n",
      "[Parallel(n_jobs=-1)]: Done   2 tasks      | elapsed:    0.0s\n",
      "[Parallel(n_jobs=-1)]: Done 176 tasks      | elapsed:    1.9s\n",
      "[Parallel(n_jobs=-1)]: Done 250 out of 250 | elapsed:    2.5s finished\n"
     ]
    },
    {
     "data": {
      "text/plain": [
       "RandomizedSearchCV(cv=5, error_score=nan,\n",
       "                   estimator=KNeighborsClassifier(algorithm='auto',\n",
       "                                                  leaf_size=30,\n",
       "                                                  metric='minkowski',\n",
       "                                                  metric_params=None,\n",
       "                                                  n_jobs=None, n_neighbors=5,\n",
       "                                                  p=2, weights='uniform'),\n",
       "                   iid='deprecated', n_iter=50, n_jobs=-1,\n",
       "                   param_distributions={'algorithm': ['auto', 'ball_tree',\n",
       "                                                      'kd_tree', 'brute',\n",
       "                                                      None],\n",
       "                                        'leaf_size': [None, 1, 2, 3, 5, 7, 9,\n",
       "                                                      10, 20, 30, 40, 50],\n",
       "                                        'n_jobs': [-1],\n",
       "                                        'n_neighbors': [1, 3, 7, 9, 11, 13, 15,\n",
       "                                                        17, 20, 23, 25, 27,\n",
       "                                                        30],\n",
       "                                        'p': [None, 1, 2, 3, 4, 5],\n",
       "                                        'weights': ['uniform', 'distance']},\n",
       "                   pre_dispatch='2*n_jobs', random_state=None, refit=True,\n",
       "                   return_train_score=False, scoring='roc_auc', verbose=5)"
      ]
     },
     "execution_count": 38,
     "metadata": {},
     "output_type": "execute_result"
    }
   ],
   "source": [
    "clf = KNeighborsClassifier()\n",
    "random_cv = RandomizedSearchCV(estimator=clf , param_distributions = hyperparameter_grid ,\n",
    "            cv=5 , n_iter = 50 , scoring = 'roc_auc',n_jobs = -1,verbose = 5 )\n",
    "random_cv.fit(x_ntree_train , y_ntree_train)"
   ]
  },
  {
   "cell_type": "code",
   "execution_count": 39,
   "metadata": {},
   "outputs": [
    {
     "data": {
      "text/plain": [
       "KNeighborsClassifier(algorithm='ball_tree', leaf_size=50, metric='minkowski',\n",
       "                     metric_params=None, n_jobs=-1, n_neighbors=11, p=4,\n",
       "                     weights='uniform')"
      ]
     },
     "execution_count": 39,
     "metadata": {},
     "output_type": "execute_result"
    }
   ],
   "source": [
    "random_cv.best_estimator_"
   ]
  },
  {
   "cell_type": "code",
   "execution_count": 124,
   "metadata": {},
   "outputs": [],
   "source": [
    "clf = KNeighborsClassifier(algorithm='ball_tree', leaf_size=50, metric='minkowski',\n",
    "                     metric_params=None, n_jobs=-1, n_neighbors=11, p=4,\n",
    "                     weights='uniform')\n",
    "clf.fit(x_ntree_train , y_ntree_train)\n",
    "prediction1 = clf.predict(test_ntree)"
   ]
  },
  {
   "cell_type": "code",
   "execution_count": 41,
   "metadata": {},
   "outputs": [
    {
     "name": "stdout",
     "output_type": "stream",
     "text": [
      "77.34\n",
      "79.72\n"
     ]
    }
   ],
   "source": [
    "score_train = cross_val_score(clf, x_ntree_train,y_ntree_train, cv=k_fold, n_jobs=-1, scoring=\"accuracy\")\n",
    "print (round(np.mean(score_train)*100,2))\n",
    "score_test = cross_val_score(clf, x_ntree_test,y_ntree_test, cv=k_fold, n_jobs=-1, scoring=\"accuracy\")\n",
    "print (round(np.mean(score_test)*100,2))"
   ]
  },
  {
   "cell_type": "code",
   "execution_count": null,
   "metadata": {},
   "outputs": [],
   "source": []
  },
  {
   "cell_type": "code",
   "execution_count": 42,
   "metadata": {},
   "outputs": [],
   "source": [
    "# Random Search for Tree\n",
    "\n",
    "hyperparameter_grid={\n",
    "    'n_neighbors'        : [1 , 3 , 7 , 9 , 11 , 13 , 15 , 17 , 20 , 23 , 25 , 27 , 30] , \n",
    "    'weights'            : ['uniform' , 'distance'] , \n",
    "    'algorithm'          : ['auto', 'ball_tree', 'kd_tree', 'brute',None] , \n",
    "    'leaf_size'          : [None , 1 , 2 , 3 , 5 , 7 , 9 , 10 , 20 , 30 , 40 , 50] , \n",
    "    'p'                  : [None , 1 , 2 , 3 , 4 , 5] ,\n",
    "    'n_jobs'             : [-1]\n",
    "}"
   ]
  },
  {
   "cell_type": "code",
   "execution_count": 47,
   "metadata": {},
   "outputs": [
    {
     "name": "stdout",
     "output_type": "stream",
     "text": [
      "Fitting 5 folds for each of 50 candidates, totalling 250 fits\n"
     ]
    },
    {
     "name": "stderr",
     "output_type": "stream",
     "text": [
      "[Parallel(n_jobs=-1)]: Using backend LokyBackend with 8 concurrent workers.\n",
      "[Parallel(n_jobs=-1)]: Done   2 tasks      | elapsed:    0.0s\n",
      "[Parallel(n_jobs=-1)]: Done 176 tasks      | elapsed:    2.0s\n",
      "[Parallel(n_jobs=-1)]: Done 250 out of 250 | elapsed:    3.0s finished\n"
     ]
    },
    {
     "data": {
      "text/plain": [
       "RandomizedSearchCV(cv=5, error_score=nan,\n",
       "                   estimator=KNeighborsClassifier(algorithm='auto',\n",
       "                                                  leaf_size=30,\n",
       "                                                  metric='minkowski',\n",
       "                                                  metric_params=None,\n",
       "                                                  n_jobs=None, n_neighbors=5,\n",
       "                                                  p=2, weights='uniform'),\n",
       "                   iid='deprecated', n_iter=50, n_jobs=-1,\n",
       "                   param_distributions={'algorithm': ['auto', 'ball_tree',\n",
       "                                                      'kd_tree', 'brute',\n",
       "                                                      None],\n",
       "                                        'leaf_size': [None, 1, 2, 3, 5, 7, 9,\n",
       "                                                      10, 20, 30, 40, 50],\n",
       "                                        'n_jobs': [-1],\n",
       "                                        'n_neighbors': [1, 3, 7, 9, 11, 13, 15,\n",
       "                                                        17, 20, 23, 25, 27,\n",
       "                                                        30],\n",
       "                                        'p': [None, 1, 2, 3, 4, 5],\n",
       "                                        'weights': ['uniform', 'distance']},\n",
       "                   pre_dispatch='2*n_jobs', random_state=None, refit=True,\n",
       "                   return_train_score=False, scoring='roc_auc', verbose=5)"
      ]
     },
     "execution_count": 47,
     "metadata": {},
     "output_type": "execute_result"
    }
   ],
   "source": [
    "clf = KNeighborsClassifier()\n",
    "random_cv = RandomizedSearchCV(estimator=clf , param_distributions = hyperparameter_grid ,\n",
    "            cv=5 , n_iter = 50 , scoring = 'roc_auc',n_jobs = -1,verbose = 5 )\n",
    "random_cv.fit(x_tree_train , y_tree_train)"
   ]
  },
  {
   "cell_type": "code",
   "execution_count": 48,
   "metadata": {},
   "outputs": [
    {
     "data": {
      "text/plain": [
       "KNeighborsClassifier(algorithm='auto', leaf_size=50, metric='minkowski',\n",
       "                     metric_params=None, n_jobs=-1, n_neighbors=11, p=1,\n",
       "                     weights='uniform')"
      ]
     },
     "execution_count": 48,
     "metadata": {},
     "output_type": "execute_result"
    }
   ],
   "source": [
    "random_cv.best_estimator_"
   ]
  },
  {
   "cell_type": "code",
   "execution_count": 70,
   "metadata": {},
   "outputs": [],
   "source": [
    "clf = KNeighborsClassifier(algorithm='auto', leaf_size=50, metric='minkowski',\n",
    "                     metric_params=None, n_jobs=-1, n_neighbors=11, p=1,\n",
    "                     weights='uniform')    \n",
    "clf.fit(x_tree_train , y_tree_train)\n",
    "prediction1 = clf.predict(test_tree)"
   ]
  },
  {
   "cell_type": "code",
   "execution_count": 50,
   "metadata": {},
   "outputs": [
    {
     "name": "stdout",
     "output_type": "stream",
     "text": [
      "76.51\n",
      "77.01\n"
     ]
    }
   ],
   "source": [
    "score_train = cross_val_score(clf, x_tree_train,y_tree_train, cv=k_fold, n_jobs=-1, scoring=\"accuracy\")\n",
    "print (round(np.mean(score_train)*100,2))\n",
    "score_test = cross_val_score(clf, x_tree_test,y_tree_test, cv=k_fold, n_jobs=-1, scoring=\"accuracy\")\n",
    "print (round(np.mean(score_test)*100,2))"
   ]
  },
  {
   "cell_type": "code",
   "execution_count": null,
   "metadata": {},
   "outputs": [],
   "source": []
  },
  {
   "cell_type": "code",
   "execution_count": 51,
   "metadata": {},
   "outputs": [],
   "source": [
    "# Decision Tree"
   ]
  },
  {
   "cell_type": "code",
   "execution_count": 52,
   "metadata": {},
   "outputs": [],
   "source": [
    "# Random Search for Non-Tree\n",
    "\n",
    "hyperparameter_grid={\n",
    "    'criterion'                 : [\"gini\" , \"entropy\"],\n",
    "    'splitter'                  : [\"best\" , \"random\" ],\n",
    "    'min_samples_split'         : [2 , 5 , 7 , 10 ],\n",
    "    'min_samples_leaf'          : [1 , 2 , 3 , 5 , 7 ],\n",
    "    'max_features'              : [1 , 2 , 3 , 4 , 5 , 6 , 7 , 8 ,\"auto\", \"sqrt\", \"log2\", None],\n",
    "    'class_weight'              : ['balanced' , None]\n",
    "}"
   ]
  },
  {
   "cell_type": "code",
   "execution_count": 61,
   "metadata": {},
   "outputs": [
    {
     "name": "stdout",
     "output_type": "stream",
     "text": [
      "Fitting 5 folds for each of 50 candidates, totalling 250 fits\n"
     ]
    },
    {
     "name": "stderr",
     "output_type": "stream",
     "text": [
      "[Parallel(n_jobs=-1)]: Using backend LokyBackend with 8 concurrent workers.\n",
      "[Parallel(n_jobs=-1)]: Done   2 tasks      | elapsed:    0.0s\n",
      "[Parallel(n_jobs=-1)]: Done 176 tasks      | elapsed:    0.3s\n",
      "[Parallel(n_jobs=-1)]: Done 250 out of 250 | elapsed:    0.4s finished\n"
     ]
    },
    {
     "data": {
      "text/plain": [
       "RandomizedSearchCV(cv=5, error_score=nan,\n",
       "                   estimator=DecisionTreeClassifier(ccp_alpha=0.0,\n",
       "                                                    class_weight=None,\n",
       "                                                    criterion='gini',\n",
       "                                                    max_depth=None,\n",
       "                                                    max_features=None,\n",
       "                                                    max_leaf_nodes=None,\n",
       "                                                    min_impurity_decrease=0.0,\n",
       "                                                    min_impurity_split=None,\n",
       "                                                    min_samples_leaf=1,\n",
       "                                                    min_samples_split=2,\n",
       "                                                    min_weight_fraction_leaf=0.0,\n",
       "                                                    presort='deprecated',\n",
       "                                                    random_state=None,\n",
       "                                                    splitter='best'),\n",
       "                   i...jobs=-1,\n",
       "                   param_distributions={'class_weight': ['balanced', None],\n",
       "                                        'criterion': ['gini', 'entropy'],\n",
       "                                        'max_features': [1, 2, 3, 4, 5, 6, 7, 8,\n",
       "                                                         'auto', 'sqrt', 'log2',\n",
       "                                                         None],\n",
       "                                        'min_samples_leaf': [1, 2, 3, 5, 7],\n",
       "                                        'min_samples_split': [2, 5, 7, 10],\n",
       "                                        'splitter': ['best', 'random']},\n",
       "                   pre_dispatch='2*n_jobs', random_state=None, refit=True,\n",
       "                   return_train_score=False, scoring='roc_auc', verbose=5)"
      ]
     },
     "execution_count": 61,
     "metadata": {},
     "output_type": "execute_result"
    }
   ],
   "source": [
    "clf = DecisionTreeClassifier()\n",
    "random_cv = RandomizedSearchCV(estimator=clf , param_distributions = hyperparameter_grid ,\n",
    "            cv=5 , n_iter = 50 , scoring = 'roc_auc',n_jobs = -1,verbose = 5)\n",
    "random_cv.fit(x_ntree_train , y_ntree_train)"
   ]
  },
  {
   "cell_type": "code",
   "execution_count": 62,
   "metadata": {},
   "outputs": [
    {
     "data": {
      "text/plain": [
       "DecisionTreeClassifier(ccp_alpha=0.0, class_weight='balanced', criterion='gini',\n",
       "                       max_depth=None, max_features=7, max_leaf_nodes=None,\n",
       "                       min_impurity_decrease=0.0, min_impurity_split=None,\n",
       "                       min_samples_leaf=7, min_samples_split=7,\n",
       "                       min_weight_fraction_leaf=0.0, presort='deprecated',\n",
       "                       random_state=None, splitter='random')"
      ]
     },
     "execution_count": 62,
     "metadata": {},
     "output_type": "execute_result"
    }
   ],
   "source": [
    "random_cv.best_estimator_"
   ]
  },
  {
   "cell_type": "code",
   "execution_count": 90,
   "metadata": {},
   "outputs": [],
   "source": [
    "clf = DecisionTreeClassifier(ccp_alpha=0.0, class_weight='balanced', criterion='gini',\n",
    "                       max_depth=None, max_features=7, max_leaf_nodes=None,\n",
    "                       min_impurity_decrease=0.0, min_impurity_split=None,\n",
    "                       min_samples_leaf=7, min_samples_split=7,\n",
    "                       min_weight_fraction_leaf=0.0, presort='deprecated',\n",
    "                       random_state=None, splitter='random')\n",
    "clf.fit(x_ntree_train , y_ntree_train)\n",
    "prediction2 = clf.predict(test_ntree)"
   ]
  },
  {
   "cell_type": "code",
   "execution_count": 70,
   "metadata": {},
   "outputs": [
    {
     "name": "stdout",
     "output_type": "stream",
     "text": [
      "78.0\n",
      "79.08\n"
     ]
    }
   ],
   "source": [
    "score_train = cross_val_score(clf, x_ntree_train,y_ntree_train, cv=k_fold, n_jobs=-1, scoring=\"accuracy\")\n",
    "print (round(np.mean(score_train)*100,2))\n",
    "score_test = cross_val_score(clf, x_ntree_test,y_ntree_test, cv=k_fold, n_jobs=-1, scoring=\"accuracy\")\n",
    "print (round(np.mean(score_test)*100,2))"
   ]
  },
  {
   "cell_type": "code",
   "execution_count": null,
   "metadata": {},
   "outputs": [],
   "source": []
  },
  {
   "cell_type": "code",
   "execution_count": 77,
   "metadata": {},
   "outputs": [],
   "source": [
    "# Random Search for Tree\n",
    "\n",
    "hyperparameter_grid={\n",
    "    'criterion'                 : [\"gini\" , \"entropy\"],\n",
    "    'splitter'                  : [\"best\" , \"random\" ],\n",
    "    'min_samples_split'         : [2 , 5 , 7 , 10 , 12 , 15 , 20 , 22 , 25],\n",
    "    'min_samples_leaf'          : [1 , 2 , 3 , 5 , 7 , 9 , 11 , 13 , 15],\n",
    "    'max_features'              : [1 , 2 , 3 , 4 , 5 , 6 , 7 , 8 ,\"auto\", \"sqrt\", \"log2\", None],\n",
    "    'class_weight'              : ['balanced' , None]\n",
    "}"
   ]
  },
  {
   "cell_type": "code",
   "execution_count": 78,
   "metadata": {},
   "outputs": [
    {
     "name": "stdout",
     "output_type": "stream",
     "text": [
      "Fitting 5 folds for each of 50 candidates, totalling 250 fits\n"
     ]
    },
    {
     "name": "stderr",
     "output_type": "stream",
     "text": [
      "[Parallel(n_jobs=-1)]: Using backend LokyBackend with 8 concurrent workers.\n",
      "[Parallel(n_jobs=-1)]: Done   2 tasks      | elapsed:    0.0s\n",
      "[Parallel(n_jobs=-1)]: Done 176 tasks      | elapsed:    0.3s\n",
      "[Parallel(n_jobs=-1)]: Done 250 out of 250 | elapsed:    0.4s finished\n"
     ]
    },
    {
     "data": {
      "text/plain": [
       "RandomizedSearchCV(cv=5, error_score=nan,\n",
       "                   estimator=DecisionTreeClassifier(ccp_alpha=0.0,\n",
       "                                                    class_weight=None,\n",
       "                                                    criterion='gini',\n",
       "                                                    max_depth=None,\n",
       "                                                    max_features=None,\n",
       "                                                    max_leaf_nodes=None,\n",
       "                                                    min_impurity_decrease=0.0,\n",
       "                                                    min_impurity_split=None,\n",
       "                                                    min_samples_leaf=1,\n",
       "                                                    min_samples_split=2,\n",
       "                                                    min_weight_fraction_leaf=0.0,\n",
       "                                                    presort='deprecated',\n",
       "                                                    random_state=None,\n",
       "                                                    splitter='best'),\n",
       "                   i...\n",
       "                   param_distributions={'class_weight': ['balanced', None],\n",
       "                                        'criterion': ['gini', 'entropy'],\n",
       "                                        'max_features': [1, 2, 3, 4, 5, 6, 7, 8,\n",
       "                                                         'auto', 'sqrt', 'log2',\n",
       "                                                         None],\n",
       "                                        'min_samples_leaf': [1, 2, 3, 5, 7, 9,\n",
       "                                                             11, 13, 15],\n",
       "                                        'min_samples_split': [2, 5, 7, 10, 12,\n",
       "                                                              15, 20, 22, 25],\n",
       "                                        'splitter': ['best', 'random']},\n",
       "                   pre_dispatch='2*n_jobs', random_state=None, refit=True,\n",
       "                   return_train_score=False, scoring='roc_auc', verbose=5)"
      ]
     },
     "execution_count": 78,
     "metadata": {},
     "output_type": "execute_result"
    }
   ],
   "source": [
    "clf = DecisionTreeClassifier()\n",
    "random_cv = RandomizedSearchCV(estimator=clf , param_distributions = hyperparameter_grid ,\n",
    "            cv=5 , n_iter = 50 , scoring = 'roc_auc',n_jobs = -1,verbose = 5)\n",
    "random_cv.fit(x_tree_train , y_tree_train)"
   ]
  },
  {
   "cell_type": "code",
   "execution_count": 79,
   "metadata": {},
   "outputs": [
    {
     "data": {
      "text/plain": [
       "DecisionTreeClassifier(ccp_alpha=0.0, class_weight=None, criterion='gini',\n",
       "                       max_depth=None, max_features=8, max_leaf_nodes=None,\n",
       "                       min_impurity_decrease=0.0, min_impurity_split=None,\n",
       "                       min_samples_leaf=13, min_samples_split=5,\n",
       "                       min_weight_fraction_leaf=0.0, presort='deprecated',\n",
       "                       random_state=None, splitter='random')"
      ]
     },
     "execution_count": 79,
     "metadata": {},
     "output_type": "execute_result"
    }
   ],
   "source": [
    "random_cv.best_estimator_"
   ]
  },
  {
   "cell_type": "code",
   "execution_count": 125,
   "metadata": {},
   "outputs": [],
   "source": [
    "clf = DecisionTreeClassifier(ccp_alpha=0.0, class_weight=None, criterion='gini',\n",
    "                       max_depth=None, max_features=8, max_leaf_nodes=None,\n",
    "                       min_impurity_decrease=0.0, min_impurity_split=None,\n",
    "                       min_samples_leaf=13, min_samples_split=5,\n",
    "                       min_weight_fraction_leaf=0.0, presort='deprecated',\n",
    "                       random_state=None, splitter='random')\n",
    "clf.fit(x_tree_train , y_tree_train)\n",
    "prediction2 = clf.predict(test_tree)"
   ]
  },
  {
   "cell_type": "code",
   "execution_count": 84,
   "metadata": {},
   "outputs": [
    {
     "name": "stdout",
     "output_type": "stream",
     "text": [
      "78.19\n",
      "80.08\n"
     ]
    }
   ],
   "source": [
    "score_train = cross_val_score(clf, x_tree_train,y_tree_train, cv=k_fold, n_jobs=-1, scoring=\"accuracy\")\n",
    "print (round(np.mean(score_train)*100,2))\n",
    "score_test = cross_val_score(clf, x_tree_test,y_tree_test, cv=k_fold, n_jobs=-1, scoring=\"accuracy\")\n",
    "print (round(np.mean(score_test)*100,2))"
   ]
  },
  {
   "cell_type": "code",
   "execution_count": null,
   "metadata": {},
   "outputs": [],
   "source": []
  },
  {
   "cell_type": "code",
   "execution_count": 85,
   "metadata": {},
   "outputs": [],
   "source": [
    "# Random Forest"
   ]
  },
  {
   "cell_type": "code",
   "execution_count": 133,
   "metadata": {},
   "outputs": [],
   "source": [
    "# Random Search for Non-Tree\n",
    "\n",
    "hyperparameter_grid={\n",
    "    'n_estimators'                 : [50 , 70 , 100 , 200 , 300 , 400 , 500 , 600 , 700] ,\n",
    "    'criterion'                    : [\"gini\" , \"entropy\" , None],\n",
    "    'min_samples_split'            : [1 , 2 , 5 , 7 , 10 , None],\n",
    "    'min_samples_leaf'             : [1 , 2 , 3 , 5 , 7 , None],\n",
    "    'max_features'                 : [1 , 2 , 3 , 4 , 5 , 6 , 7 , 8 , None , \"auto\"  ,\"sqrt\" , \"log2\"],\n",
    "    'bootstrap'                    : [True, False , None],\n",
    "    'oob_score'                    : [True, False],\n",
    "    'n_jobs'                       : [-1],\n",
    "    'warm_start'                   : [True , False , None],\n",
    "}"
   ]
  },
  {
   "cell_type": "code",
   "execution_count": 134,
   "metadata": {},
   "outputs": [
    {
     "name": "stdout",
     "output_type": "stream",
     "text": [
      "Fitting 5 folds for each of 50 candidates, totalling 250 fits\n"
     ]
    },
    {
     "name": "stderr",
     "output_type": "stream",
     "text": [
      "[Parallel(n_jobs=-1)]: Using backend LokyBackend with 8 concurrent workers.\n",
      "[Parallel(n_jobs=-1)]: Done   2 tasks      | elapsed:    0.0s\n",
      "[Parallel(n_jobs=-1)]: Done  96 tasks      | elapsed:    2.9s\n",
      "[Parallel(n_jobs=-1)]: Done 235 out of 250 | elapsed:    8.5s remaining:    0.4s\n",
      "[Parallel(n_jobs=-1)]: Done 250 out of 250 | elapsed:   10.9s finished\n"
     ]
    },
    {
     "data": {
      "text/plain": [
       "RandomizedSearchCV(cv=5, error_score=nan,\n",
       "                   estimator=RandomForestClassifier(bootstrap=True,\n",
       "                                                    ccp_alpha=0.0,\n",
       "                                                    class_weight=None,\n",
       "                                                    criterion='gini',\n",
       "                                                    max_depth=None,\n",
       "                                                    max_features='auto',\n",
       "                                                    max_leaf_nodes=None,\n",
       "                                                    max_samples=None,\n",
       "                                                    min_impurity_decrease=0.0,\n",
       "                                                    min_impurity_split=None,\n",
       "                                                    min_samples_leaf=1,\n",
       "                                                    min_samples_split=2,\n",
       "                                                    min_weight_fraction_leaf=0.0,\n",
       "                                                    n_estimators=100,\n",
       "                                                    n_jobs...\n",
       "                                        'max_features': [1, 2, 3, 4, 5, 6, 7, 8,\n",
       "                                                         None, 'auto', 'sqrt',\n",
       "                                                         'log2'],\n",
       "                                        'min_samples_leaf': [1, 2, 3, 5, 7,\n",
       "                                                             None],\n",
       "                                        'min_samples_split': [1, 2, 5, 7, 10,\n",
       "                                                              None],\n",
       "                                        'n_estimators': [50, 70, 100, 200, 300,\n",
       "                                                         400, 500, 600, 700],\n",
       "                                        'n_jobs': [-1],\n",
       "                                        'oob_score': [True, False],\n",
       "                                        'warm_start': [True, False, None]},\n",
       "                   pre_dispatch='2*n_jobs', random_state=None, refit=True,\n",
       "                   return_train_score=False, scoring='roc_auc', verbose=5)"
      ]
     },
     "execution_count": 134,
     "metadata": {},
     "output_type": "execute_result"
    }
   ],
   "source": [
    "clf = RandomForestClassifier()\n",
    "random_cv = RandomizedSearchCV(estimator=clf , param_distributions = hyperparameter_grid ,\n",
    "            cv=5 , n_iter = 50 , scoring = 'roc_auc',n_jobs = -1,verbose = 5)\n",
    "random_cv.fit(x_ntree_train , y_ntree_train)"
   ]
  },
  {
   "cell_type": "code",
   "execution_count": 135,
   "metadata": {},
   "outputs": [
    {
     "data": {
      "text/plain": [
       "RandomForestClassifier(bootstrap=True, ccp_alpha=0.0, class_weight=None,\n",
       "                       criterion='gini', max_depth=None, max_features='auto',\n",
       "                       max_leaf_nodes=None, max_samples=None,\n",
       "                       min_impurity_decrease=0.0, min_impurity_split=None,\n",
       "                       min_samples_leaf=3, min_samples_split=2,\n",
       "                       min_weight_fraction_leaf=0.0, n_estimators=100,\n",
       "                       n_jobs=-1, oob_score=True, random_state=None, verbose=0,\n",
       "                       warm_start=False)"
      ]
     },
     "execution_count": 135,
     "metadata": {},
     "output_type": "execute_result"
    }
   ],
   "source": [
    "random_cv.best_estimator_"
   ]
  },
  {
   "cell_type": "code",
   "execution_count": 136,
   "metadata": {},
   "outputs": [],
   "source": [
    "clf = RandomForestClassifier(bootstrap=True, ccp_alpha=0.0, class_weight=None,\n",
    "                       criterion='gini', max_depth=None, max_features='auto',\n",
    "                       max_leaf_nodes=None, max_samples=None,\n",
    "                       min_impurity_decrease=0.0, min_impurity_split=None,\n",
    "                       min_samples_leaf=3, min_samples_split=2,\n",
    "                       min_weight_fraction_leaf=0.0, n_estimators=100,\n",
    "                       n_jobs=-1, oob_score=True, random_state=None, verbose=0,\n",
    "                       warm_start=False)\n",
    "clf.fit(x_ntree_train , y_ntree_train)\n",
    "prediction3 = clf.predict(test_ntree)"
   ]
  },
  {
   "cell_type": "code",
   "execution_count": 139,
   "metadata": {},
   "outputs": [
    {
     "name": "stdout",
     "output_type": "stream",
     "text": [
      "81.7\n",
      "84.82\n"
     ]
    }
   ],
   "source": [
    "score_train = cross_val_score(clf, x_ntree_train,y_ntree_train, cv=k_fold, n_jobs=-1, scoring=\"accuracy\")\n",
    "print (round(np.mean(score_train)*100,2))\n",
    "score_test = cross_val_score(clf, x_ntree_test,y_ntree_test, cv=k_fold, n_jobs=-1, scoring=\"accuracy\")\n",
    "print (round(np.mean(score_test)*100,2))"
   ]
  },
  {
   "cell_type": "code",
   "execution_count": null,
   "metadata": {},
   "outputs": [],
   "source": []
  },
  {
   "cell_type": "code",
   "execution_count": 140,
   "metadata": {},
   "outputs": [],
   "source": [
    "# Random Search for Tree\n",
    "\n",
    "hyperparameter_grid={\n",
    "    'n_estimators'                 : [50 , 70 , 100 , 200 , 300 , 400 , 500 , 600 , 700] ,\n",
    "    'criterion'                    : [\"gini\" , \"entropy\" , None],\n",
    "    'min_samples_split'            : [1 , 2 , 5 , 7 , 10 , None],\n",
    "    'min_samples_leaf'             : [1 , 2 , 3 , 5 , 7 , None],\n",
    "    'max_features'                 : [1 , 2 , 3 , 4 , 5 , 6 , 7 , 8 , None , \"auto\"  ,\"sqrt\" , \"log2\"],\n",
    "    'bootstrap'                    : [True, False , None],\n",
    "    'oob_score'                    : [True, False],\n",
    "    'n_jobs'                       : [-1],\n",
    "    'warm_start'                   : [True , False , None],\n",
    "}"
   ]
  },
  {
   "cell_type": "code",
   "execution_count": 141,
   "metadata": {},
   "outputs": [
    {
     "name": "stdout",
     "output_type": "stream",
     "text": [
      "Fitting 5 folds for each of 50 candidates, totalling 250 fits\n"
     ]
    },
    {
     "name": "stderr",
     "output_type": "stream",
     "text": [
      "[Parallel(n_jobs=-1)]: Using backend LokyBackend with 8 concurrent workers.\n",
      "[Parallel(n_jobs=-1)]: Done   2 tasks      | elapsed:    0.1s\n",
      "[Parallel(n_jobs=-1)]: Done  86 tasks      | elapsed:    7.1s\n",
      "[Parallel(n_jobs=-1)]: Done 178 tasks      | elapsed:   13.3s\n",
      "[Parallel(n_jobs=-1)]: Done 250 out of 250 | elapsed:   17.8s finished\n"
     ]
    },
    {
     "data": {
      "text/plain": [
       "RandomizedSearchCV(cv=5, error_score=nan,\n",
       "                   estimator=RandomForestClassifier(bootstrap=True,\n",
       "                                                    ccp_alpha=0.0,\n",
       "                                                    class_weight=None,\n",
       "                                                    criterion='gini',\n",
       "                                                    max_depth=None,\n",
       "                                                    max_features='auto',\n",
       "                                                    max_leaf_nodes=None,\n",
       "                                                    max_samples=None,\n",
       "                                                    min_impurity_decrease=0.0,\n",
       "                                                    min_impurity_split=None,\n",
       "                                                    min_samples_leaf=1,\n",
       "                                                    min_samples_split=2,\n",
       "                                                    min_weight_fraction_leaf=0.0,\n",
       "                                                    n_estimators=100,\n",
       "                                                    n_jobs...\n",
       "                                        'max_features': [1, 2, 3, 4, 5, 6, 7, 8,\n",
       "                                                         None, 'auto', 'sqrt',\n",
       "                                                         'log2'],\n",
       "                                        'min_samples_leaf': [1, 2, 3, 5, 7,\n",
       "                                                             None],\n",
       "                                        'min_samples_split': [1, 2, 5, 7, 10,\n",
       "                                                              None],\n",
       "                                        'n_estimators': [50, 70, 100, 200, 300,\n",
       "                                                         400, 500, 600, 700],\n",
       "                                        'n_jobs': [-1],\n",
       "                                        'oob_score': [True, False],\n",
       "                                        'warm_start': [True, False, None]},\n",
       "                   pre_dispatch='2*n_jobs', random_state=None, refit=True,\n",
       "                   return_train_score=False, scoring='roc_auc', verbose=5)"
      ]
     },
     "execution_count": 141,
     "metadata": {},
     "output_type": "execute_result"
    }
   ],
   "source": [
    "clf = RandomForestClassifier()\n",
    "random_cv = RandomizedSearchCV(estimator=clf , param_distributions = hyperparameter_grid ,\n",
    "            cv=5 , n_iter = 50 , scoring = 'roc_auc',n_jobs = -1,verbose = 5)\n",
    "random_cv.fit(x_tree_train , y_tree_train)"
   ]
  },
  {
   "cell_type": "code",
   "execution_count": 142,
   "metadata": {},
   "outputs": [
    {
     "data": {
      "text/plain": [
       "RandomForestClassifier(bootstrap=False, ccp_alpha=0.0, class_weight=None,\n",
       "                       criterion='entropy', max_depth=None, max_features='log2',\n",
       "                       max_leaf_nodes=None, max_samples=None,\n",
       "                       min_impurity_decrease=0.0, min_impurity_split=None,\n",
       "                       min_samples_leaf=7, min_samples_split=7,\n",
       "                       min_weight_fraction_leaf=0.0, n_estimators=400,\n",
       "                       n_jobs=-1, oob_score=False, random_state=None, verbose=0,\n",
       "                       warm_start=True)"
      ]
     },
     "execution_count": 142,
     "metadata": {},
     "output_type": "execute_result"
    }
   ],
   "source": [
    "random_cv.best_estimator_"
   ]
  },
  {
   "cell_type": "code",
   "execution_count": 143,
   "metadata": {},
   "outputs": [],
   "source": [
    "clf = RandomForestClassifier(bootstrap=False, ccp_alpha=0.0, class_weight=None,\n",
    "                       criterion='entropy', max_depth=None, max_features='log2',\n",
    "                       max_leaf_nodes=None, max_samples=None,\n",
    "                       min_impurity_decrease=0.0, min_impurity_split=None,\n",
    "                       min_samples_leaf=7, min_samples_split=7,\n",
    "                       min_weight_fraction_leaf=0.0, n_estimators=400,\n",
    "                       n_jobs=-1, oob_score=False, random_state=None, verbose=0,\n",
    "                       warm_start=True)\n",
    "clf.fit(x_tree_train , y_tree_train)\n",
    "prediction3 = clf.predict(test_tree)"
   ]
  },
  {
   "cell_type": "code",
   "execution_count": 146,
   "metadata": {},
   "outputs": [
    {
     "name": "stdout",
     "output_type": "stream",
     "text": [
      "82.55\n",
      "81.46\n"
     ]
    }
   ],
   "source": [
    "score_train = cross_val_score(clf, x_tree_train,y_tree_train, cv=k_fold, n_jobs=-1, scoring=\"accuracy\")\n",
    "print (round(np.mean(score_train)*100,2))\n",
    "score_test = cross_val_score(clf, x_tree_test,y_tree_test, cv=k_fold, n_jobs=-1, scoring=\"accuracy\")\n",
    "print (round(np.mean(score_test)*100,2))"
   ]
  },
  {
   "cell_type": "code",
   "execution_count": null,
   "metadata": {},
   "outputs": [],
   "source": []
  },
  {
   "cell_type": "code",
   "execution_count": 25,
   "metadata": {},
   "outputs": [],
   "source": [
    "# Naive Bayes"
   ]
  },
  {
   "cell_type": "code",
   "execution_count": 147,
   "metadata": {},
   "outputs": [],
   "source": [
    "# Non-Tree\n",
    "\n",
    "clf = GaussianNB()\n",
    "clf.fit(x_ntree_train , y_ntree_train)\n",
    "prediction4 = clf.predict(test_ntree)"
   ]
  },
  {
   "cell_type": "code",
   "execution_count": 149,
   "metadata": {},
   "outputs": [
    {
     "name": "stdout",
     "output_type": "stream",
     "text": [
      "75.51\n",
      "78.7\n"
     ]
    }
   ],
   "source": [
    "score_train = cross_val_score(clf , x_ntree_train , y_ntree_train, cv=k_fold, n_jobs=-1, scoring=\"accuracy\")\n",
    "print (round(np.mean(score_train)*100,2))\n",
    "score_test = cross_val_score(clf , x_ntree_test , y_ntree_test, cv=k_fold, n_jobs=-1, scoring=\"accuracy\")\n",
    "print (round(np.mean(score_test)*100,2))"
   ]
  },
  {
   "cell_type": "code",
   "execution_count": null,
   "metadata": {},
   "outputs": [],
   "source": []
  },
  {
   "cell_type": "code",
   "execution_count": 155,
   "metadata": {},
   "outputs": [],
   "source": [
    "# Tree\n",
    "\n",
    "clf = GaussianNB()\n",
    "clf.fit(x_tree_train , y_tree_train)\n",
    "prediction4 = clf.predict(test_tree)"
   ]
  },
  {
   "cell_type": "code",
   "execution_count": 154,
   "metadata": {},
   "outputs": [
    {
     "name": "stdout",
     "output_type": "stream",
     "text": [
      "77.34\n",
      "79.44\n"
     ]
    }
   ],
   "source": [
    "score_train = cross_val_score(clf , x_tree_train , y_tree_train, cv=k_fold, n_jobs=-1, scoring=\"accuracy\")\n",
    "print (round(np.mean(score_train)*100,2))\n",
    "score_test = cross_val_score(clf , x_tree_test , y_tree_test, cv=k_fold, n_jobs=-1, scoring=\"accuracy\")\n",
    "print (round(np.mean(score_test)*100,2))"
   ]
  },
  {
   "cell_type": "code",
   "execution_count": null,
   "metadata": {},
   "outputs": [],
   "source": []
  },
  {
   "cell_type": "code",
   "execution_count": 153,
   "metadata": {},
   "outputs": [],
   "source": [
    "# Support Vector Machine"
   ]
  },
  {
   "cell_type": "code",
   "execution_count": 136,
   "metadata": {},
   "outputs": [],
   "source": [
    "# Random Search for Non-Tree\n",
    "\n",
    "hyperparameter_grid={\n",
    "    'C'                           : [None , 1 , 2 , 5 , 7 , 10 , 50 , 100 , 500 , 1000 , 10000 , 100000] ,  \n",
    "    'degree'                      : [1 , 2 , 3 , 4 , 5 , None ] , \n",
    "    'gamma'                       : ['scale', 'auto' , 1, 0.1, 0.01, 0.001, 0.0001 , 0.00001 , 0.000001] , \n",
    "    'shrinking'                   : [True , False , None] ,\n",
    "    'probability'                 : [True , False] ,\n",
    "    'class_weight'                : ['balanced', None] ,\n",
    "    'verbose'                     : [True , False],\n",
    "    'decision_function_shape'     : ['ovo', 'ovr'],\n",
    "    'break_ties'                  : [True , False , None] \n",
    "}"
   ]
  },
  {
   "cell_type": "code",
   "execution_count": 158,
   "metadata": {},
   "outputs": [
    {
     "name": "stdout",
     "output_type": "stream",
     "text": [
      "Fitting 5 folds for each of 10 candidates, totalling 50 fits\n"
     ]
    },
    {
     "name": "stderr",
     "output_type": "stream",
     "text": [
      "[Parallel(n_jobs=-1)]: Using backend LokyBackend with 8 concurrent workers.\n",
      "[Parallel(n_jobs=-1)]: Done   2 tasks      | elapsed:    0.0s\n",
      "[Parallel(n_jobs=-1)]: Done  24 out of  50 | elapsed:    0.0s remaining:    0.1s\n"
     ]
    },
    {
     "name": "stdout",
     "output_type": "stream",
     "text": [
      "[LibSVM]"
     ]
    },
    {
     "name": "stderr",
     "output_type": "stream",
     "text": [
      "[Parallel(n_jobs=-1)]: Done  46 out of  50 | elapsed:    0.1s remaining:    0.0s\n",
      "[Parallel(n_jobs=-1)]: Done  50 out of  50 | elapsed:    0.1s finished\n"
     ]
    },
    {
     "data": {
      "text/plain": [
       "RandomizedSearchCV(cv=5, error_score=nan,\n",
       "                   estimator=SVC(C=1.0, break_ties=False, cache_size=200,\n",
       "                                 class_weight=None, coef0=0.0,\n",
       "                                 decision_function_shape='ovr', degree=3,\n",
       "                                 gamma='scale', kernel='rbf', max_iter=-1,\n",
       "                                 probability=False, random_state=None,\n",
       "                                 shrinking=True, tol=0.001, verbose=False),\n",
       "                   iid='deprecated', n_iter=10, n_jobs=-1,\n",
       "                   param_distributions={'C': [None, 1, 2, 5, 7,...\n",
       "                                        'break_ties': [True, False, None],\n",
       "                                        'class_weight': ['balanced', None],\n",
       "                                        'decision_function_shape': ['ovo',\n",
       "                                                                    'ovr'],\n",
       "                                        'degree': [1, 2, 3, 4, 5, None],\n",
       "                                        'gamma': ['scale', 'auto', 1, 0.1, 0.01,\n",
       "                                                  0.001, 0.0001, 1e-05, 1e-06],\n",
       "                                        'probability': [True, False],\n",
       "                                        'shrinking': [True, False, None],\n",
       "                                        'verbose': [True, False]},\n",
       "                   pre_dispatch='2*n_jobs', random_state=None, refit=True,\n",
       "                   return_train_score=False, scoring='roc_auc', verbose=5)"
      ]
     },
     "execution_count": 158,
     "metadata": {},
     "output_type": "execute_result"
    }
   ],
   "source": [
    "clf = SVC()\n",
    "random_cv = RandomizedSearchCV(estimator=clf , param_distributions = hyperparameter_grid , \n",
    "            cv=5 , scoring = 'roc_auc',n_jobs = -1, verbose = 5)\n",
    "random_cv.fit(x_ntree_train,y_ntree_train)"
   ]
  },
  {
   "cell_type": "code",
   "execution_count": 159,
   "metadata": {},
   "outputs": [
    {
     "data": {
      "text/plain": [
       "SVC(C=10, break_ties=True, cache_size=200, class_weight='balanced', coef0=0.0,\n",
       "    decision_function_shape='ovr', degree=1, gamma='auto', kernel='rbf',\n",
       "    max_iter=-1, probability=True, random_state=None, shrinking=True, tol=0.001,\n",
       "    verbose=True)"
      ]
     },
     "execution_count": 159,
     "metadata": {},
     "output_type": "execute_result"
    }
   ],
   "source": [
    "random_cv.best_estimator_"
   ]
  },
  {
   "cell_type": "code",
   "execution_count": 119,
   "metadata": {},
   "outputs": [
    {
     "name": "stdout",
     "output_type": "stream",
     "text": [
      "[LibSVM]"
     ]
    }
   ],
   "source": [
    "clf = SVC(C=10, break_ties=True, cache_size=200, class_weight='balanced', coef0=0.0,\n",
    "    decision_function_shape='ovr', degree=1, gamma='auto', kernel='rbf',\n",
    "    max_iter=-1, probability=True, random_state=None, shrinking=True, tol=0.001,\n",
    "    verbose=True)\n",
    "clf.fit(x_ntree_train,y_ntree_train)\n",
    "prediction5 = clf.predict(test_ntree)"
   ]
  },
  {
   "cell_type": "code",
   "execution_count": 162,
   "metadata": {},
   "outputs": [
    {
     "name": "stdout",
     "output_type": "stream",
     "text": [
      "77.86\n",
      "80.4\n"
     ]
    }
   ],
   "source": [
    "score_train = cross_val_score(clf, x_ntree_train,y_ntree_train, cv=k_fold, n_jobs=-1, scoring=\"accuracy\")\n",
    "print (round(np.mean(score_train)*100,2))\n",
    "score_test = cross_val_score(clf, x_ntree_test,y_ntree_test, cv=k_fold, n_jobs=-1, scoring=\"accuracy\")\n",
    "print (round(np.mean(score_test)*100,2))"
   ]
  },
  {
   "cell_type": "code",
   "execution_count": null,
   "metadata": {},
   "outputs": [],
   "source": []
  },
  {
   "cell_type": "code",
   "execution_count": 163,
   "metadata": {},
   "outputs": [],
   "source": [
    "# Random Search for Tree\n",
    "\n",
    "hyperparameter_grid={\n",
    "    'C'                           : [None , 1 , 2 , 5 , 7 , 10 , 50 , 100 , 500 , 1000 , 10000 , 100000] ,  \n",
    "    'degree'                      : [1 , 2 , 3 , 4 , 5 , None ] , \n",
    "    'gamma'                       : ['scale', 'auto' , 1, 0.1, 0.01, 0.001, 0.0001 , 0.00001 , 0.000001] , \n",
    "    'shrinking'                   : [True , False , None] ,\n",
    "    'probability'                 : [True , False] ,\n",
    "    'class_weight'                : ['balanced', None] ,\n",
    "    'verbose'                     : [True , False],\n",
    "    'decision_function_shape'     : ['ovo', 'ovr'],\n",
    "    'break_ties'                  : [True , False , None] \n",
    "}"
   ]
  },
  {
   "cell_type": "code",
   "execution_count": 178,
   "metadata": {},
   "outputs": [
    {
     "name": "stdout",
     "output_type": "stream",
     "text": [
      "Fitting 5 folds for each of 10 candidates, totalling 50 fits\n"
     ]
    },
    {
     "name": "stderr",
     "output_type": "stream",
     "text": [
      "[Parallel(n_jobs=-1)]: Using backend LokyBackend with 8 concurrent workers.\n",
      "[Parallel(n_jobs=-1)]: Done   2 tasks      | elapsed:    0.0s\n",
      "[Parallel(n_jobs=-1)]: Done  35 out of  50 | elapsed:    1.4s remaining:    0.5s\n",
      "[Parallel(n_jobs=-1)]: Done  46 out of  50 | elapsed:    1.5s remaining:    0.0s\n"
     ]
    },
    {
     "name": "stdout",
     "output_type": "stream",
     "text": [
      "[LibSVM]"
     ]
    },
    {
     "name": "stderr",
     "output_type": "stream",
     "text": [
      "[Parallel(n_jobs=-1)]: Done  50 out of  50 | elapsed:    1.8s finished\n"
     ]
    },
    {
     "data": {
      "text/plain": [
       "RandomizedSearchCV(cv=5, error_score=nan,\n",
       "                   estimator=SVC(C=1.0, break_ties=False, cache_size=200,\n",
       "                                 class_weight=None, coef0=0.0,\n",
       "                                 decision_function_shape='ovr', degree=3,\n",
       "                                 gamma='scale', kernel='rbf', max_iter=-1,\n",
       "                                 probability=False, random_state=None,\n",
       "                                 shrinking=True, tol=0.001, verbose=False),\n",
       "                   iid='deprecated', n_iter=10, n_jobs=-1,\n",
       "                   param_distributions={'C': [None, 1, 2, 5, 7,...\n",
       "                                        'break_ties': [True, False, None],\n",
       "                                        'class_weight': ['balanced', None],\n",
       "                                        'decision_function_shape': ['ovo',\n",
       "                                                                    'ovr'],\n",
       "                                        'degree': [1, 2, 3, 4, 5, None],\n",
       "                                        'gamma': ['scale', 'auto', 1, 0.1, 0.01,\n",
       "                                                  0.001, 0.0001, 1e-05, 1e-06],\n",
       "                                        'probability': [True, False],\n",
       "                                        'shrinking': [True, False, None],\n",
       "                                        'verbose': [True, False]},\n",
       "                   pre_dispatch='2*n_jobs', random_state=None, refit=True,\n",
       "                   return_train_score=False, scoring='roc_auc', verbose=5)"
      ]
     },
     "execution_count": 178,
     "metadata": {},
     "output_type": "execute_result"
    }
   ],
   "source": [
    "clf = SVC()\n",
    "random_cv = RandomizedSearchCV(estimator=clf , param_distributions = hyperparameter_grid , \n",
    "            cv=5 , scoring = 'roc_auc',n_jobs = -1, verbose = 5)\n",
    "random_cv.fit(x_tree_train,y_tree_train)"
   ]
  },
  {
   "cell_type": "code",
   "execution_count": 179,
   "metadata": {},
   "outputs": [
    {
     "data": {
      "text/plain": [
       "SVC(C=10000, break_ties=False, cache_size=200, class_weight=None, coef0=0.0,\n",
       "    decision_function_shape='ovo', degree=1, gamma=1e-06, kernel='rbf',\n",
       "    max_iter=-1, probability=True, random_state=None, shrinking=False,\n",
       "    tol=0.001, verbose=True)"
      ]
     },
     "execution_count": 179,
     "metadata": {},
     "output_type": "execute_result"
    }
   ],
   "source": [
    "random_cv.best_estimator_"
   ]
  },
  {
   "cell_type": "code",
   "execution_count": 156,
   "metadata": {},
   "outputs": [
    {
     "name": "stdout",
     "output_type": "stream",
     "text": [
      "[LibSVM]"
     ]
    }
   ],
   "source": [
    "clf = SVC(C=10000, break_ties=False, cache_size=200, class_weight=None, coef0=0.0,\n",
    "    decision_function_shape='ovo', degree=1, gamma=1e-06, kernel='rbf',\n",
    "    max_iter=-1, probability=True, random_state=None, shrinking=False,\n",
    "    tol=0.001, verbose=True)\n",
    "clf.fit(x_tree_train,y_tree_train)\n",
    "prediction5 = clf.predict(test_tree)"
   ]
  },
  {
   "cell_type": "code",
   "execution_count": 181,
   "metadata": {},
   "outputs": [
    {
     "name": "stdout",
     "output_type": "stream",
     "text": [
      "80.2\n",
      "80.74\n"
     ]
    }
   ],
   "source": [
    "score_train = cross_val_score(clf, x_tree_train,y_tree_train, cv=k_fold, n_jobs=-1, scoring=\"accuracy\")\n",
    "print (round(np.mean(score_train)*100,2))\n",
    "score_test = cross_val_score(clf, x_tree_test,y_tree_test, cv=k_fold, n_jobs=-1, scoring=\"accuracy\")\n",
    "print (round(np.mean(score_test)*100,2))"
   ]
  },
  {
   "cell_type": "code",
   "execution_count": null,
   "metadata": {},
   "outputs": [],
   "source": []
  },
  {
   "cell_type": "code",
   "execution_count": 182,
   "metadata": {},
   "outputs": [],
   "source": [
    "# Logistic Regression"
   ]
  },
  {
   "cell_type": "code",
   "execution_count": 183,
   "metadata": {},
   "outputs": [],
   "source": [
    "# Random Search for Non-Tree\n",
    "\n",
    "hyperparameter_grid = {\n",
    "    'penalty'            : ['l1', 'l2', 'elasticnet', 'none'],\n",
    "    'dual'               : [True , False],\n",
    "    'C'                  : [None , 1 , 2 , 3 , 5 , 7 , 10 , 20 , 30 , 50 , 100 , 500 , 1000 , 10000 , 100000] ,  \n",
    "    'fit_intercept'      : [True , False],\n",
    "    'class_weight'       : ['balanced' , None],\n",
    "    'solver'             : ['newton-cg', 'lbfgs', 'liblinear', 'sag', 'saga'],\n",
    "    'multi_class'        : ['auto', 'ovr', 'multinomial'],\n",
    "    'warm_start'         : [True , False],\n",
    "    'n_jobs'             : [-1]\n",
    "    }"
   ]
  },
  {
   "cell_type": "code",
   "execution_count": 192,
   "metadata": {},
   "outputs": [
    {
     "name": "stdout",
     "output_type": "stream",
     "text": [
      "Fitting 5 folds for each of 50 candidates, totalling 250 fits\n"
     ]
    },
    {
     "name": "stderr",
     "output_type": "stream",
     "text": [
      "[Parallel(n_jobs=-1)]: Using backend LokyBackend with 8 concurrent workers.\n",
      "[Parallel(n_jobs=-1)]: Done   2 tasks      | elapsed:    0.0s\n",
      "[Parallel(n_jobs=-1)]: Done 176 tasks      | elapsed:    0.7s\n",
      "[Parallel(n_jobs=-1)]: Done 250 out of 250 | elapsed:    1.5s finished\n"
     ]
    },
    {
     "data": {
      "text/plain": [
       "RandomizedSearchCV(cv=5, error_score=nan,\n",
       "                   estimator=LogisticRegression(C=1.0, class_weight=None,\n",
       "                                                dual=False, fit_intercept=True,\n",
       "                                                intercept_scaling=1,\n",
       "                                                l1_ratio=None, max_iter=100,\n",
       "                                                multi_class='auto', n_jobs=None,\n",
       "                                                penalty='l2', random_state=None,\n",
       "                                                solver='lbfgs', tol=0.0001,\n",
       "                                                verbose=0, warm_start=False),\n",
       "                   iid='deprecated', n_iter=50, n_jobs=-1,\n",
       "                   param_distributions={'C': [N...\n",
       "                                        'class_weight': ['balanced', None],\n",
       "                                        'dual': [True, False],\n",
       "                                        'fit_intercept': [True, False],\n",
       "                                        'multi_class': ['auto', 'ovr',\n",
       "                                                        'multinomial'],\n",
       "                                        'n_jobs': [-1],\n",
       "                                        'penalty': ['l1', 'l2', 'elasticnet',\n",
       "                                                    'none'],\n",
       "                                        'solver': ['newton-cg', 'lbfgs',\n",
       "                                                   'liblinear', 'sag', 'saga'],\n",
       "                                        'warm_start': [True, False]},\n",
       "                   pre_dispatch='2*n_jobs', random_state=None, refit=True,\n",
       "                   return_train_score=False, scoring='roc_auc', verbose=5)"
      ]
     },
     "execution_count": 192,
     "metadata": {},
     "output_type": "execute_result"
    }
   ],
   "source": [
    "clf = LogisticRegression()\n",
    "random_cv = RandomizedSearchCV(estimator=clf , param_distributions = hyperparameter_grid , n_iter=50 , \n",
    "            cv=5 , scoring = 'roc_auc',n_jobs = -1, verbose = 5 )\n",
    "random_cv.fit(x_ntree_train,y_ntree_train)"
   ]
  },
  {
   "cell_type": "code",
   "execution_count": 193,
   "metadata": {},
   "outputs": [
    {
     "data": {
      "text/plain": [
       "LogisticRegression(C=2, class_weight=None, dual=False, fit_intercept=True,\n",
       "                   intercept_scaling=1, l1_ratio=None, max_iter=100,\n",
       "                   multi_class='auto', n_jobs=-1, penalty='l2',\n",
       "                   random_state=None, solver='saga', tol=0.0001, verbose=0,\n",
       "                   warm_start=False)"
      ]
     },
     "execution_count": 193,
     "metadata": {},
     "output_type": "execute_result"
    }
   ],
   "source": [
    "random_cv.best_estimator_"
   ]
  },
  {
   "cell_type": "code",
   "execution_count": 111,
   "metadata": {},
   "outputs": [],
   "source": [
    "clf = LogisticRegression(C=2, class_weight=None, dual=False, fit_intercept=True,\n",
    "                   intercept_scaling=1, l1_ratio=None, max_iter=100,\n",
    "                   multi_class='auto', n_jobs=-1, penalty='l2',\n",
    "                   random_state=None, solver='saga', tol=0.0001, verbose=0,\n",
    "                   warm_start=False)\n",
    "clf.fit(x_ntree_train,y_ntree_train)\n",
    "prediction6 = clf.predict(test_ntree)"
   ]
  },
  {
   "cell_type": "code",
   "execution_count": 195,
   "metadata": {},
   "outputs": [
    {
     "name": "stdout",
     "output_type": "stream",
     "text": [
      "79.7\n",
      "83.79\n"
     ]
    }
   ],
   "source": [
    "score_train = cross_val_score(clf, x_ntree_train,y_ntree_train, cv=k_fold, n_jobs=-1, scoring=\"accuracy\")\n",
    "print (round(np.mean(score_train)*100,2))\n",
    "score_test = cross_val_score(clf, x_ntree_test,y_ntree_test, cv=k_fold, n_jobs=-1, scoring=\"accuracy\")\n",
    "print (round(np.mean(score_test)*100,2))"
   ]
  },
  {
   "cell_type": "code",
   "execution_count": null,
   "metadata": {},
   "outputs": [],
   "source": []
  },
  {
   "cell_type": "code",
   "execution_count": 196,
   "metadata": {},
   "outputs": [],
   "source": [
    "# Random Search for Tree\n",
    "\n",
    "hyperparameter_grid = {\n",
    "    'penalty'            : ['l1', 'l2', 'elasticnet', 'none'],\n",
    "    'dual'               : [True , False],\n",
    "    'C'                  : [None , 1 , 2 , 3 , 5 , 7 , 10 , 20 , 30 , 50 , 100 , 500 , 1000 , 10000 , 100000] ,  \n",
    "    'fit_intercept'      : [True , False],\n",
    "    'class_weight'       : ['balanced' , None],\n",
    "    'solver'             : ['newton-cg', 'lbfgs', 'liblinear', 'sag', 'saga'],\n",
    "    'multi_class'        : ['auto', 'ovr', 'multinomial'],\n",
    "    'warm_start'         : [True , False],\n",
    "    'n_jobs'             : [-1]\n",
    "    }"
   ]
  },
  {
   "cell_type": "code",
   "execution_count": 205,
   "metadata": {},
   "outputs": [
    {
     "name": "stdout",
     "output_type": "stream",
     "text": [
      "Fitting 5 folds for each of 50 candidates, totalling 250 fits\n"
     ]
    },
    {
     "name": "stderr",
     "output_type": "stream",
     "text": [
      "[Parallel(n_jobs=-1)]: Using backend LokyBackend with 8 concurrent workers.\n",
      "[Parallel(n_jobs=-1)]: Done   2 tasks      | elapsed:    0.0s\n",
      "[Parallel(n_jobs=-1)]: Done 180 tasks      | elapsed:    0.6s\n",
      "[Parallel(n_jobs=-1)]: Done 250 out of 250 | elapsed:    1.3s finished\n",
      "C:\\Users\\admin\\anaconda3\\lib\\site-packages\\sklearn\\linear_model\\_logistic.py:1505: UserWarning: Setting penalty='none' will ignore the C and l1_ratio parameters\n",
      "  \"Setting penalty='none' will ignore the C and l1_ratio \"\n"
     ]
    },
    {
     "data": {
      "text/plain": [
       "RandomizedSearchCV(cv=5, error_score=nan,\n",
       "                   estimator=LogisticRegression(C=1.0, class_weight=None,\n",
       "                                                dual=False, fit_intercept=True,\n",
       "                                                intercept_scaling=1,\n",
       "                                                l1_ratio=None, max_iter=100,\n",
       "                                                multi_class='auto', n_jobs=None,\n",
       "                                                penalty='l2', random_state=None,\n",
       "                                                solver='lbfgs', tol=0.0001,\n",
       "                                                verbose=0, warm_start=False),\n",
       "                   iid='deprecated', n_iter=50, n_jobs=-1,\n",
       "                   param_distributions={'C': [N...\n",
       "                                        'class_weight': ['balanced', None],\n",
       "                                        'dual': [True, False],\n",
       "                                        'fit_intercept': [True, False],\n",
       "                                        'multi_class': ['auto', 'ovr',\n",
       "                                                        'multinomial'],\n",
       "                                        'n_jobs': [-1],\n",
       "                                        'penalty': ['l1', 'l2', 'elasticnet',\n",
       "                                                    'none'],\n",
       "                                        'solver': ['newton-cg', 'lbfgs',\n",
       "                                                   'liblinear', 'sag', 'saga'],\n",
       "                                        'warm_start': [True, False]},\n",
       "                   pre_dispatch='2*n_jobs', random_state=None, refit=True,\n",
       "                   return_train_score=False, scoring='roc_auc', verbose=5)"
      ]
     },
     "execution_count": 205,
     "metadata": {},
     "output_type": "execute_result"
    }
   ],
   "source": [
    "clf = LogisticRegression()\n",
    "random_cv = RandomizedSearchCV(estimator=clf , param_distributions = hyperparameter_grid , n_iter=50 , \n",
    "            cv=5 , scoring = 'roc_auc',n_jobs = -1, verbose = 5 )\n",
    "random_cv.fit(x_tree_train,y_tree_train)"
   ]
  },
  {
   "cell_type": "code",
   "execution_count": 206,
   "metadata": {},
   "outputs": [
    {
     "data": {
      "text/plain": [
       "LogisticRegression(C=20, class_weight=None, dual=False, fit_intercept=True,\n",
       "                   intercept_scaling=1, l1_ratio=None, max_iter=100,\n",
       "                   multi_class='multinomial', n_jobs=-1, penalty='none',\n",
       "                   random_state=None, solver='lbfgs', tol=0.0001, verbose=0,\n",
       "                   warm_start=True)"
      ]
     },
     "execution_count": 206,
     "metadata": {},
     "output_type": "execute_result"
    }
   ],
   "source": [
    "random_cv.best_estimator_"
   ]
  },
  {
   "cell_type": "code",
   "execution_count": 157,
   "metadata": {},
   "outputs": [
    {
     "name": "stderr",
     "output_type": "stream",
     "text": [
      "C:\\Users\\admin\\anaconda3\\lib\\site-packages\\sklearn\\linear_model\\_logistic.py:1505: UserWarning: Setting penalty='none' will ignore the C and l1_ratio parameters\n",
      "  \"Setting penalty='none' will ignore the C and l1_ratio \"\n"
     ]
    }
   ],
   "source": [
    "clf = LogisticRegression(C=20, class_weight=None, dual=False, fit_intercept=True,\n",
    "                   intercept_scaling=1, l1_ratio=None, max_iter=100,\n",
    "                   multi_class='multinomial', n_jobs=-1, penalty='none',\n",
    "                   random_state=None, solver='lbfgs', tol=0.0001, verbose=0,\n",
    "                   warm_start=True)\n",
    "clf.fit(x_tree_train,y_tree_train)\n",
    "prediction6 = clf.predict(test_tree)"
   ]
  },
  {
   "cell_type": "code",
   "execution_count": 208,
   "metadata": {},
   "outputs": [
    {
     "name": "stdout",
     "output_type": "stream",
     "text": [
      "81.55\n",
      "83.11\n"
     ]
    }
   ],
   "source": [
    "score_train = cross_val_score(clf, x_tree_train,y_tree_train, cv=k_fold, n_jobs=-1, scoring=\"accuracy\")\n",
    "print (round(np.mean(score_train)*100,2))\n",
    "score_test = cross_val_score(clf, x_tree_test,y_tree_test, cv=k_fold, n_jobs=-1, scoring=\"accuracy\")\n",
    "print (round(np.mean(score_test)*100,2))"
   ]
  },
  {
   "cell_type": "code",
   "execution_count": null,
   "metadata": {},
   "outputs": [],
   "source": []
  },
  {
   "cell_type": "code",
   "execution_count": 81,
   "metadata": {},
   "outputs": [],
   "source": [
    "# XGBoost"
   ]
  },
  {
   "cell_type": "code",
   "execution_count": 211,
   "metadata": {},
   "outputs": [],
   "source": [
    "# Random Search for Non-Tree\n",
    "\n",
    "hyperparameter_grid = {\n",
    "    'n_estimators'       : [300 ,350, 400 , 450, 500 , 550 , 600 , 650 , 700 , 750 , 800 , 900 , 1000] ,\n",
    "    'max_depth'          : [1 , 2 , 3 , 5 , 7 , 9 , 10 , 12 , 13 , 15 , 17 , 19 , 21 , 25 , 30 , 40 , 50] ,\n",
    "    'learning_rate'      : [0.05,0.1,0.15,0.20,0.25,0.3,0.35] ,\n",
    "    'min_child_weight'   : [1,2,3,4,5,6,7,8,9,10],\n",
    "    'booster'            : ['gbtree','gblinear','dart'] ,\n",
    "    'max_delta_step'     : [0,1,2,3,4,5,6,7,8,9,10] , \n",
    "    'base_score'         : [0.05,0.07,0.1,0.2,0.3,0.4,0.5,0.6,0.7,0.8,0.9] ,\n",
    "    'gamma'              : [0,0.5,1,1.5,2,2.5,3,3.5,4,4.5,5],\n",
    "    'silent'             : [True , False],\n",
    "    'n_jobs'             : [-1]\n",
    "}"
   ]
  },
  {
   "cell_type": "code",
   "execution_count": 223,
   "metadata": {},
   "outputs": [
    {
     "name": "stdout",
     "output_type": "stream",
     "text": [
      "Fitting 5 folds for each of 50 candidates, totalling 250 fits\n"
     ]
    },
    {
     "name": "stderr",
     "output_type": "stream",
     "text": [
      "[Parallel(n_jobs=-1)]: Using backend LokyBackend with 8 concurrent workers.\n",
      "[Parallel(n_jobs=-1)]: Done   2 tasks      | elapsed:    0.0s\n",
      "[Parallel(n_jobs=-1)]: Done  80 tasks      | elapsed:    7.5s\n",
      "[Parallel(n_jobs=-1)]: Done 170 tasks      | elapsed:   15.4s\n",
      "[Parallel(n_jobs=-1)]: Done 250 out of 250 | elapsed:   25.0s finished\n"
     ]
    },
    {
     "data": {
      "text/plain": [
       "RandomizedSearchCV(cv=5, error_score=nan,\n",
       "                   estimator=XGBClassifier(base_score=0.5, booster='gbtree',\n",
       "                                           colsample_bylevel=1,\n",
       "                                           colsample_bynode=1,\n",
       "                                           colsample_bytree=1, gamma=0,\n",
       "                                           learning_rate=0.1, max_delta_step=0,\n",
       "                                           max_depth=3, min_child_weight=1,\n",
       "                                           missing=None, n_estimators=100,\n",
       "                                           n_jobs=1, nthread=None,\n",
       "                                           objective='binary:logistic',\n",
       "                                           random_state=0, reg_alpha=0,\n",
       "                                           reg_lambda=1, sc...\n",
       "                                        'max_delta_step': [0, 1, 2, 3, 4, 5, 6,\n",
       "                                                           7, 8, 9, 10],\n",
       "                                        'max_depth': [1, 2, 3, 5, 7, 9, 10, 12,\n",
       "                                                      13, 15, 17, 19, 21, 25,\n",
       "                                                      30, 40, 50],\n",
       "                                        'min_child_weight': [1, 2, 3, 4, 5, 6,\n",
       "                                                             7, 8, 9, 10],\n",
       "                                        'n_estimators': [300, 350, 400, 450,\n",
       "                                                         500, 550, 600, 650,\n",
       "                                                         700, 750, 800, 900,\n",
       "                                                         1000],\n",
       "                                        'n_jobs': [-1],\n",
       "                                        'silent': [True, False]},\n",
       "                   pre_dispatch='2*n_jobs', random_state=None, refit=True,\n",
       "                   return_train_score=False, scoring=None, verbose=5)"
      ]
     },
     "execution_count": 223,
     "metadata": {},
     "output_type": "execute_result"
    }
   ],
   "source": [
    "clf = xgb.XGBClassifier()\n",
    "random_cv = RandomizedSearchCV(estimator=clf , param_distributions = hyperparameter_grid , n_iter=50 , \n",
    "            cv=5 ,n_jobs = -1,verbose = 5 )\n",
    "random_cv.fit(x_ntree_train , y_ntree_train)"
   ]
  },
  {
   "cell_type": "code",
   "execution_count": 224,
   "metadata": {},
   "outputs": [
    {
     "data": {
      "text/plain": [
       "XGBClassifier(base_score=0.05, booster='gbtree', colsample_bylevel=1,\n",
       "              colsample_bynode=1, colsample_bytree=1, gamma=3.5,\n",
       "              learning_rate=0.35, max_delta_step=2, max_depth=7,\n",
       "              min_child_weight=3, missing=None, n_estimators=650, n_jobs=-1,\n",
       "              nthread=None, objective='binary:logistic', random_state=0,\n",
       "              reg_alpha=0, reg_lambda=1, scale_pos_weight=1, seed=None,\n",
       "              silent=True, subsample=1, verbosity=1)"
      ]
     },
     "execution_count": 224,
     "metadata": {},
     "output_type": "execute_result"
    }
   ],
   "source": [
    "random_cv.best_estimator_"
   ]
  },
  {
   "cell_type": "code",
   "execution_count": 95,
   "metadata": {},
   "outputs": [],
   "source": [
    "clf = xgb.XGBClassifier(base_score=0.05, booster='gbtree', colsample_bylevel=1,\n",
    "              colsample_bynode=1, colsample_bytree=1, gamma=3.5,\n",
    "              learning_rate=0.35, max_delta_step=2, max_depth=7,\n",
    "              min_child_weight=3, missing=None, n_estimators=650, n_jobs=-1,\n",
    "              nthread=None, objective='binary:logistic', random_state=0,\n",
    "              reg_alpha=0, reg_lambda=1, scale_pos_weight=1, seed=None,\n",
    "              silent=True, subsample=1, verbosity=1)\n",
    "clf.fit(x_ntree_train,y_ntree_train)\n",
    "prediction7 = clf.predict(test_ntree)"
   ]
  },
  {
   "cell_type": "code",
   "execution_count": 227,
   "metadata": {},
   "outputs": [
    {
     "name": "stdout",
     "output_type": "stream",
     "text": [
      "82.04\n",
      "82.14\n"
     ]
    }
   ],
   "source": [
    "score_train = cross_val_score(clf, x_ntree_train,y_ntree_train, cv=k_fold, n_jobs=-1, scoring=\"accuracy\")\n",
    "print (round(np.mean(score_train)*100,2))\n",
    "score_test = cross_val_score(clf, x_ntree_test,y_ntree_test, cv=k_fold, n_jobs=-1, scoring=\"accuracy\")\n",
    "print (round(np.mean(score_test)*100,2))"
   ]
  },
  {
   "cell_type": "code",
   "execution_count": null,
   "metadata": {},
   "outputs": [],
   "source": []
  },
  {
   "cell_type": "code",
   "execution_count": 234,
   "metadata": {},
   "outputs": [],
   "source": [
    "# Random Search for Tree\n",
    "\n",
    "hyperparameter_grid = {\n",
    "    'n_estimators'       : [300 ,350, 400 , 450, 500 , 550 , 600 , 650 , 700 , 750 , 800 , 900 , 1000] ,\n",
    "    'max_depth'          : [1 , 2 , 3 , 5 , 7 , 9 , 10 , 12 , 13 , 15 , 17 , 19 , 21 , 25 , 30 , 40 , 50] ,\n",
    "    'learning_rate'      : [0.05,0.1,0.15,0.20,0.25,0.3,0.35] ,\n",
    "    'min_child_weight'   : [1,2,3,4,5,6,7,8,9,10],\n",
    "    'booster'            : ['gbtree','gblinear','dart'] ,\n",
    "    'max_delta_step'     : [0,1,2,3,4,5,6,7,8,9,10] , \n",
    "    'base_score'         : [0.05,0.07,0.1,0.2,0.3,0.4,0.5,0.6,0.7,0.8,0.9] ,\n",
    "#    'gamma'              : [0,0.5,1,1.5,2,2.5,3,3.5,4,4.5,5],\n",
    "    'silent'             : [True , False],\n",
    "    'n_jobs'             : [-1]\n",
    "}"
   ]
  },
  {
   "cell_type": "code",
   "execution_count": 235,
   "metadata": {},
   "outputs": [
    {
     "name": "stdout",
     "output_type": "stream",
     "text": [
      "Fitting 5 folds for each of 50 candidates, totalling 250 fits\n"
     ]
    },
    {
     "name": "stderr",
     "output_type": "stream",
     "text": [
      "[Parallel(n_jobs=-1)]: Using backend LokyBackend with 8 concurrent workers.\n",
      "[Parallel(n_jobs=-1)]: Done   2 tasks      | elapsed:    0.5s\n",
      "[Parallel(n_jobs=-1)]: Done  56 tasks      | elapsed:   12.5s\n",
      "[Parallel(n_jobs=-1)]: Done 146 tasks      | elapsed:   33.2s\n",
      "[Parallel(n_jobs=-1)]: Done 250 out of 250 | elapsed:   54.4s finished\n"
     ]
    },
    {
     "data": {
      "text/plain": [
       "RandomizedSearchCV(cv=5, error_score=nan,\n",
       "                   estimator=XGBClassifier(base_score=0.5, booster='gbtree',\n",
       "                                           colsample_bylevel=1,\n",
       "                                           colsample_bynode=1,\n",
       "                                           colsample_bytree=1, gamma=0,\n",
       "                                           learning_rate=0.1, max_delta_step=0,\n",
       "                                           max_depth=3, min_child_weight=1,\n",
       "                                           missing=None, n_estimators=100,\n",
       "                                           n_jobs=1, nthread=None,\n",
       "                                           objective='binary:logistic',\n",
       "                                           random_state=0, reg_alpha=0,\n",
       "                                           reg_lambda=1, sc...\n",
       "                                        'max_delta_step': [0, 1, 2, 3, 4, 5, 6,\n",
       "                                                           7, 8, 9, 10],\n",
       "                                        'max_depth': [1, 2, 3, 5, 7, 9, 10, 12,\n",
       "                                                      13, 15, 17, 19, 21, 25,\n",
       "                                                      30, 40, 50],\n",
       "                                        'min_child_weight': [1, 2, 3, 4, 5, 6,\n",
       "                                                             7, 8, 9, 10],\n",
       "                                        'n_estimators': [300, 350, 400, 450,\n",
       "                                                         500, 550, 600, 650,\n",
       "                                                         700, 750, 800, 900,\n",
       "                                                         1000],\n",
       "                                        'n_jobs': [-1],\n",
       "                                        'silent': [True, False]},\n",
       "                   pre_dispatch='2*n_jobs', random_state=None, refit=True,\n",
       "                   return_train_score=False, scoring=None, verbose=5)"
      ]
     },
     "execution_count": 235,
     "metadata": {},
     "output_type": "execute_result"
    }
   ],
   "source": [
    "clf = xgb.XGBClassifier()\n",
    "random_cv = RandomizedSearchCV(estimator=clf , param_distributions = hyperparameter_grid , n_iter=50 , \n",
    "            cv=5 ,n_jobs = -1,verbose = 5 )\n",
    "random_cv.fit(x_tree_train , y_tree_train)"
   ]
  },
  {
   "cell_type": "code",
   "execution_count": 236,
   "metadata": {},
   "outputs": [
    {
     "data": {
      "text/plain": [
       "XGBClassifier(base_score=0.07, booster='gbtree', colsample_bylevel=1,\n",
       "              colsample_bynode=1, colsample_bytree=1, gamma=0,\n",
       "              learning_rate=0.1, max_delta_step=10, max_depth=17,\n",
       "              min_child_weight=10, missing=None, n_estimators=650, n_jobs=-1,\n",
       "              nthread=None, objective='binary:logistic', random_state=0,\n",
       "              reg_alpha=0, reg_lambda=1, scale_pos_weight=1, seed=None,\n",
       "              silent=True, subsample=1, verbosity=1)"
      ]
     },
     "execution_count": 236,
     "metadata": {},
     "output_type": "execute_result"
    }
   ],
   "source": [
    "random_cv.best_estimator_"
   ]
  },
  {
   "cell_type": "code",
   "execution_count": 158,
   "metadata": {},
   "outputs": [],
   "source": [
    "clf = xgb.XGBClassifier(base_score=0.07, booster='gbtree', colsample_bylevel=1,\n",
    "              colsample_bynode=1, colsample_bytree=1, gamma=0,\n",
    "              learning_rate=0.1, max_delta_step=10, max_depth=17,\n",
    "              min_child_weight=10, missing=None, n_estimators=650, n_jobs=-1,\n",
    "              nthread=None, objective='binary:logistic', random_state=0,\n",
    "              reg_alpha=0, reg_lambda=1, scale_pos_weight=1, seed=None,\n",
    "              silent=True, subsample=1, verbosity=1)\n",
    "clf.fit(x_tree_train , y_tree_train)\n",
    "prediction7 = clf.predict(test_tree)"
   ]
  },
  {
   "cell_type": "code",
   "execution_count": 238,
   "metadata": {},
   "outputs": [
    {
     "name": "stdout",
     "output_type": "stream",
     "text": [
      "82.71\n",
      "82.09\n"
     ]
    }
   ],
   "source": [
    "score_train = cross_val_score(clf, x_tree_train,y_tree_train, cv=k_fold, n_jobs=-1, scoring=\"accuracy\")\n",
    "print (round(np.mean(score_train)*100,2))\n",
    "score_test = cross_val_score(clf, x_tree_test,y_tree_test, cv=k_fold, n_jobs=-1, scoring=\"accuracy\")\n",
    "print (round(np.mean(score_test)*100,2))"
   ]
  },
  {
   "cell_type": "code",
   "execution_count": null,
   "metadata": {},
   "outputs": [],
   "source": []
  },
  {
   "cell_type": "code",
   "execution_count": 260,
   "metadata": {},
   "outputs": [],
   "source": [
    "# GBM (Gradient Boosing Classifier)"
   ]
  },
  {
   "cell_type": "code",
   "execution_count": 13,
   "metadata": {},
   "outputs": [],
   "source": [
    "# Random Search for Non-Tree\n",
    "\n",
    "hyperparameter_grid = {    \n",
    "    \"loss\"               : ['deviance', 'exponential',None],\n",
    "    'learning_rate'      : [0.05,0.1,0.15,0.20,0.25,0.3,0.35] ,\n",
    "    \"criterion\"          : [\"friedman_mse\" , None],\n",
    "    \"min_samples_split\"  : [1 , 2 , 5 , 7 , 10 , None],\n",
    "    \"min_samples_leaf\"   : [1 , 2 , 3 , 5 , 7 , 10 , 12 , 15 , 17 , None],\n",
    "    \"max_depth\"          : [900],\n",
    "    'max_features'       : [1 , 2 , 3 , 4 , 5 , 6 , 7 , 8 ,\"auto\", \"sqrt\", \"log2\", None],\n",
    "    \"warm_start\"         : [True , False], \n",
    "}"
   ]
  },
  {
   "cell_type": "code",
   "execution_count": 14,
   "metadata": {},
   "outputs": [
    {
     "name": "stdout",
     "output_type": "stream",
     "text": [
      "Fitting 5 folds for each of 50 candidates, totalling 250 fits\n"
     ]
    },
    {
     "name": "stderr",
     "output_type": "stream",
     "text": [
      "[Parallel(n_jobs=-1)]: Using backend LokyBackend with 8 concurrent workers.\n",
      "[Parallel(n_jobs=-1)]: Done   2 tasks      | elapsed:    2.2s\n",
      "[Parallel(n_jobs=-1)]: Done  58 tasks      | elapsed:    3.1s\n",
      "[Parallel(n_jobs=-1)]: Done 250 out of 250 | elapsed:    5.7s finished\n"
     ]
    },
    {
     "data": {
      "text/plain": [
       "RandomizedSearchCV(cv=5, error_score=nan,\n",
       "                   estimator=GradientBoostingClassifier(ccp_alpha=0.0,\n",
       "                                                        criterion='friedman_mse',\n",
       "                                                        init=None,\n",
       "                                                        learning_rate=0.1,\n",
       "                                                        loss='deviance',\n",
       "                                                        max_depth=3,\n",
       "                                                        max_features=None,\n",
       "                                                        max_leaf_nodes=None,\n",
       "                                                        min_impurity_decrease=0.0,\n",
       "                                                        min_impurity_split=None,\n",
       "                                                        min_samples_leaf=1,\n",
       "                                                        min_samples_split=2,\n",
       "                                                        min_weight_fraction_leaf=0.0,\n",
       "                                                        n_estimators=100,\n",
       "                                                        n_ite...\n",
       "                                        'learning_rate': [0.05, 0.1, 0.15, 0.2,\n",
       "                                                          0.25, 0.3, 0.35],\n",
       "                                        'loss': ['deviance', 'exponential',\n",
       "                                                 None],\n",
       "                                        'max_depth': [900],\n",
       "                                        'max_features': [1, 2, 3, 4, 5, 6, 7, 8,\n",
       "                                                         'auto', 'sqrt', 'log2',\n",
       "                                                         None],\n",
       "                                        'min_samples_leaf': [1, 2, 3, 5, 7, 10,\n",
       "                                                             12, 15, 17, None],\n",
       "                                        'min_samples_split': [1, 2, 5, 7, 10,\n",
       "                                                              None],\n",
       "                                        'warm_start': [True, False]},\n",
       "                   pre_dispatch='2*n_jobs', random_state=None, refit=True,\n",
       "                   return_train_score=False, scoring=None, verbose=5)"
      ]
     },
     "execution_count": 14,
     "metadata": {},
     "output_type": "execute_result"
    }
   ],
   "source": [
    "clf = GradientBoostingClassifier()\n",
    "random_cv = RandomizedSearchCV(estimator=clf , param_distributions = hyperparameter_grid , n_iter=50 , \n",
    "            cv=5 ,n_jobs = -1,verbose = 5 )\n",
    "random_cv.fit(x_ntree_train , y_ntree_train)"
   ]
  },
  {
   "cell_type": "code",
   "execution_count": 15,
   "metadata": {},
   "outputs": [
    {
     "data": {
      "text/plain": [
       "GradientBoostingClassifier(ccp_alpha=0.0, criterion='friedman_mse', init=None,\n",
       "                           learning_rate=0.05, loss='deviance', max_depth=900,\n",
       "                           max_features='auto', max_leaf_nodes=None,\n",
       "                           min_impurity_decrease=0.0, min_impurity_split=None,\n",
       "                           min_samples_leaf=15, min_samples_split=7,\n",
       "                           min_weight_fraction_leaf=0.0, n_estimators=100,\n",
       "                           n_iter_no_change=None, presort='deprecated',\n",
       "                           random_state=None, subsample=1.0, tol=0.0001,\n",
       "                           validation_fraction=0.1, verbose=0,\n",
       "                           warm_start=False)"
      ]
     },
     "execution_count": 15,
     "metadata": {},
     "output_type": "execute_result"
    }
   ],
   "source": [
    "random_cv.best_estimator_"
   ]
  },
  {
   "cell_type": "code",
   "execution_count": 96,
   "metadata": {},
   "outputs": [],
   "source": [
    "clf = GradientBoostingClassifier(ccp_alpha=0.0, criterion='friedman_mse', init=None,\n",
    "                           learning_rate=0.05, loss='deviance', max_depth=900,\n",
    "                           max_features='auto', max_leaf_nodes=None,\n",
    "                           min_impurity_decrease=0.0, min_impurity_split=None,\n",
    "                           min_samples_leaf=15, min_samples_split=7,\n",
    "                           min_weight_fraction_leaf=0.0, n_estimators=100,\n",
    "                           n_iter_no_change=None, presort='deprecated',\n",
    "                           random_state=None, subsample=1.0, tol=0.0001,\n",
    "                           validation_fraction=0.1, verbose=0,\n",
    "                           warm_start=False)\n",
    "clf.fit(x_ntree_train , y_ntree_train)\n",
    "prediction8 = clf.predict(test_ntree)"
   ]
  },
  {
   "cell_type": "code",
   "execution_count": 17,
   "metadata": {},
   "outputs": [
    {
     "name": "stdout",
     "output_type": "stream",
     "text": [
      "80.53\n",
      "83.47\n"
     ]
    }
   ],
   "source": [
    "score_train = cross_val_score(clf, x_ntree_train,y_ntree_train, cv=k_fold, n_jobs=-1, scoring=\"accuracy\")\n",
    "print (round(np.mean(score_train)*100,2))\n",
    "score_test = cross_val_score(clf, x_ntree_test,y_ntree_test, cv=k_fold, n_jobs=-1, scoring=\"accuracy\")\n",
    "print (round(np.mean(score_test)*100,2))"
   ]
  },
  {
   "cell_type": "code",
   "execution_count": null,
   "metadata": {},
   "outputs": [],
   "source": []
  },
  {
   "cell_type": "code",
   "execution_count": 18,
   "metadata": {},
   "outputs": [],
   "source": [
    "# Random Search for Tree\n",
    "\n",
    "hyperparameter_grid = {    \n",
    "    \"loss\"               : ['deviance', 'exponential',None],\n",
    "    'learning_rate'      : [0.05,0.1,0.15,0.20,0.25,0.3,0.35] ,\n",
    "    \"criterion\"          : [\"friedman_mse\" , None],\n",
    "    \"min_samples_split\"  : [1 , 2 , 5 , 7 , 10 , None],\n",
    "    \"min_samples_leaf\"   : [1 , 2 , 3 , 5 , 7 , 10 , 12 , 15 , 17 , None],\n",
    "    \"max_depth\"          : [600],\n",
    "    'max_features'       : [1 , 2 , 3 , 4 , 5 , 6 , 7 , 8 ,\"auto\", \"sqrt\", \"log2\", None],\n",
    "    \"warm_start\"         : [True , False], \n",
    "}"
   ]
  },
  {
   "cell_type": "code",
   "execution_count": 19,
   "metadata": {},
   "outputs": [
    {
     "name": "stdout",
     "output_type": "stream",
     "text": [
      "Fitting 5 folds for each of 50 candidates, totalling 250 fits\n"
     ]
    },
    {
     "name": "stderr",
     "output_type": "stream",
     "text": [
      "[Parallel(n_jobs=-1)]: Using backend LokyBackend with 8 concurrent workers.\n",
      "[Parallel(n_jobs=-1)]: Done   2 tasks      | elapsed:    0.0s\n",
      "[Parallel(n_jobs=-1)]: Done 180 tasks      | elapsed:    0.6s\n",
      "[Parallel(n_jobs=-1)]: Done 250 out of 250 | elapsed:    2.8s finished\n"
     ]
    },
    {
     "data": {
      "text/plain": [
       "RandomizedSearchCV(cv=5, error_score=nan,\n",
       "                   estimator=GradientBoostingClassifier(ccp_alpha=0.0,\n",
       "                                                        criterion='friedman_mse',\n",
       "                                                        init=None,\n",
       "                                                        learning_rate=0.1,\n",
       "                                                        loss='deviance',\n",
       "                                                        max_depth=3,\n",
       "                                                        max_features=None,\n",
       "                                                        max_leaf_nodes=None,\n",
       "                                                        min_impurity_decrease=0.0,\n",
       "                                                        min_impurity_split=None,\n",
       "                                                        min_samples_leaf=1,\n",
       "                                                        min_samples_split=2,\n",
       "                                                        min_weight_fraction_leaf=0.0,\n",
       "                                                        n_estimators=100,\n",
       "                                                        n_ite...\n",
       "                                        'learning_rate': [0.05, 0.1, 0.15, 0.2,\n",
       "                                                          0.25, 0.3, 0.35],\n",
       "                                        'loss': ['deviance', 'exponential',\n",
       "                                                 None],\n",
       "                                        'max_depth': [600],\n",
       "                                        'max_features': [1, 2, 3, 4, 5, 6, 7, 8,\n",
       "                                                         'auto', 'sqrt', 'log2',\n",
       "                                                         None],\n",
       "                                        'min_samples_leaf': [1, 2, 3, 5, 7, 10,\n",
       "                                                             12, 15, 17, None],\n",
       "                                        'min_samples_split': [1, 2, 5, 7, 10,\n",
       "                                                              None],\n",
       "                                        'warm_start': [True, False]},\n",
       "                   pre_dispatch='2*n_jobs', random_state=None, refit=True,\n",
       "                   return_train_score=False, scoring=None, verbose=5)"
      ]
     },
     "execution_count": 19,
     "metadata": {},
     "output_type": "execute_result"
    }
   ],
   "source": [
    "clf = GradientBoostingClassifier()\n",
    "random_cv = RandomizedSearchCV(estimator=clf , param_distributions = hyperparameter_grid , n_iter=50 , \n",
    "            cv=5 ,n_jobs = -1,verbose = 5 )\n",
    "random_cv.fit(x_tree_train , y_tree_train)"
   ]
  },
  {
   "cell_type": "code",
   "execution_count": 20,
   "metadata": {},
   "outputs": [
    {
     "data": {
      "text/plain": [
       "GradientBoostingClassifier(ccp_alpha=0.0, criterion='friedman_mse', init=None,\n",
       "                           learning_rate=0.05, loss='deviance', max_depth=600,\n",
       "                           max_features=2, max_leaf_nodes=None,\n",
       "                           min_impurity_decrease=0.0, min_impurity_split=None,\n",
       "                           min_samples_leaf=15, min_samples_split=10,\n",
       "                           min_weight_fraction_leaf=0.0, n_estimators=100,\n",
       "                           n_iter_no_change=None, presort='deprecated',\n",
       "                           random_state=None, subsample=1.0, tol=0.0001,\n",
       "                           validation_fraction=0.1, verbose=0,\n",
       "                           warm_start=False)"
      ]
     },
     "execution_count": 20,
     "metadata": {},
     "output_type": "execute_result"
    }
   ],
   "source": [
    "random_cv.best_estimator_"
   ]
  },
  {
   "cell_type": "code",
   "execution_count": 159,
   "metadata": {},
   "outputs": [],
   "source": [
    "clf = GradientBoostingClassifier(ccp_alpha=0.0, criterion='friedman_mse', init=None,\n",
    "                           learning_rate=0.05, loss='deviance', max_depth=600,\n",
    "                           max_features=2, max_leaf_nodes=None,\n",
    "                           min_impurity_decrease=0.0, min_impurity_split=None,\n",
    "                           min_samples_leaf=15, min_samples_split=10,\n",
    "                           min_weight_fraction_leaf=0.0, n_estimators=100,\n",
    "                           n_iter_no_change=None, presort='deprecated',\n",
    "                           random_state=None, subsample=1.0, tol=0.0001,\n",
    "                           validation_fraction=0.1, verbose=0,\n",
    "                           warm_start=False)\n",
    "clf.fit(x_tree_train , y_tree_train)\n",
    "prediction8 = clf.predict(test_tree)"
   ]
  },
  {
   "cell_type": "code",
   "execution_count": 23,
   "metadata": {},
   "outputs": [
    {
     "name": "stdout",
     "output_type": "stream",
     "text": [
      "82.88\n",
      "84.82\n"
     ]
    }
   ],
   "source": [
    "score_train = cross_val_score(clf, x_tree_train,y_tree_train, cv=k_fold, n_jobs=-1, scoring=\"accuracy\")\n",
    "print (round(np.mean(score_train)*100,2))\n",
    "score_test = cross_val_score(clf, x_tree_test,y_tree_test, cv=k_fold, n_jobs=-1, scoring=\"accuracy\")\n",
    "print (round(np.mean(score_test)*100,2))"
   ]
  },
  {
   "cell_type": "code",
   "execution_count": null,
   "metadata": {},
   "outputs": [],
   "source": []
  },
  {
   "cell_type": "code",
   "execution_count": 24,
   "metadata": {},
   "outputs": [],
   "source": [
    "# LightGBM"
   ]
  },
  {
   "cell_type": "code",
   "execution_count": 37,
   "metadata": {},
   "outputs": [],
   "source": [
    "# Random Search for Non-Tree\n",
    "\n",
    "param_distributions = {\n",
    "    'learning_rate'     : [0.005 , 0.01 , 0.02 , 0.03 , 0.04 , 0.05 , 0.07 , 0.09 , 0.1],\n",
    "    'boosting_type'     : ['gbdt',\"dart\",\"goss\",\"rf\"],\n",
    "    'num_leaves'        : [10,20,30,40,50,60,70,80,90,100],\n",
    "    'min_data'          : [0,10,20,30,40,50,60,70,80,90,100],\n",
    "    'max_depth'         : [0,10,20,30,40,50,60,70,80,90,100],\n",
    "    \"n_estimators\"      : [50,100,150,200,250,300,350,400,500,600,700,800,900,1000,1200],\n",
    "    \"objective\"         : [\"binary\" , \"multiclass\" , None],\n",
    "    \"n_jobs\"            : [-1],\n",
    "    \"silent\"            : [True , False , None]\n",
    "}"
   ]
  },
  {
   "cell_type": "code",
   "execution_count": 42,
   "metadata": {},
   "outputs": [
    {
     "name": "stdout",
     "output_type": "stream",
     "text": [
      "Fitting 5 folds for each of 50 candidates, totalling 250 fits\n"
     ]
    },
    {
     "name": "stderr",
     "output_type": "stream",
     "text": [
      "[Parallel(n_jobs=-1)]: Using backend LokyBackend with 8 concurrent workers.\n",
      "[Parallel(n_jobs=-1)]: Done   2 tasks      | elapsed:    0.0s\n",
      "[Parallel(n_jobs=-1)]: Done  96 tasks      | elapsed:    1.0s\n",
      "[Parallel(n_jobs=-1)]: Done 235 out of 250 | elapsed:    2.4s remaining:    0.1s\n",
      "[Parallel(n_jobs=-1)]: Done 250 out of 250 | elapsed:    2.5s finished\n"
     ]
    },
    {
     "data": {
      "text/plain": [
       "RandomizedSearchCV(cv=5, error_score=nan,\n",
       "                   estimator=LGBMClassifier(boosting_type='gbdt',\n",
       "                                            class_weight=None,\n",
       "                                            colsample_bytree=1.0,\n",
       "                                            importance_type='split',\n",
       "                                            learning_rate=0.1, max_depth=-1,\n",
       "                                            min_child_samples=20,\n",
       "                                            min_child_weight=0.001,\n",
       "                                            min_split_gain=0.0,\n",
       "                                            n_estimators=100, n_jobs=-1,\n",
       "                                            num_leaves=31, objective=None,\n",
       "                                            random_state=None, reg_alpha=0.0,\n",
       "                                            reg_lambda=0.0, sile...\n",
       "                                        'learning_rate': [0.05, 0.1, 0.15, 0.2,\n",
       "                                                          0.25, 0.3, 0.35],\n",
       "                                        'loss': ['deviance', 'exponential',\n",
       "                                                 None],\n",
       "                                        'max_depth': [600],\n",
       "                                        'max_features': [1, 2, 3, 4, 5, 6, 7, 8,\n",
       "                                                         'auto', 'sqrt', 'log2',\n",
       "                                                         None],\n",
       "                                        'min_samples_leaf': [1, 2, 3, 5, 7, 10,\n",
       "                                                             12, 15, 17, None],\n",
       "                                        'min_samples_split': [1, 2, 5, 7, 10,\n",
       "                                                              None],\n",
       "                                        'warm_start': [True, False]},\n",
       "                   pre_dispatch='2*n_jobs', random_state=None, refit=True,\n",
       "                   return_train_score=False, scoring=None, verbose=5)"
      ]
     },
     "execution_count": 42,
     "metadata": {},
     "output_type": "execute_result"
    }
   ],
   "source": [
    "clf = lgb.LGBMClassifier()\n",
    "random_cv = RandomizedSearchCV(estimator=clf , param_distributions = hyperparameter_grid , n_iter=50 , \n",
    "            cv=5 ,n_jobs = -1,verbose = 5 )\n",
    "random_cv.fit(x_ntree_train , y_ntree_train)"
   ]
  },
  {
   "cell_type": "code",
   "execution_count": 43,
   "metadata": {},
   "outputs": [
    {
     "data": {
      "text/plain": [
       "LGBMClassifier(boosting_type='gbdt', class_weight=None, colsample_bytree=1.0,\n",
       "               criterion='friedman_mse', importance_type='split',\n",
       "               learning_rate=0.05, loss=None, max_depth=600,\n",
       "               max_features='log2', min_child_samples=20,\n",
       "               min_child_weight=0.001, min_samples_leaf=1, min_samples_split=5,\n",
       "               min_split_gain=0.0, n_estimators=100, n_jobs=-1, num_leaves=31,\n",
       "               objective=None, random_state=None, reg_alpha=0.0, reg_lambda=0.0,\n",
       "               silent=True, subsample=1.0, subsample_for_bin=200000,\n",
       "               subsample_freq=0, warm_start=True)"
      ]
     },
     "execution_count": 43,
     "metadata": {},
     "output_type": "execute_result"
    }
   ],
   "source": [
    "random_cv.best_estimator_"
   ]
  },
  {
   "cell_type": "code",
   "execution_count": 160,
   "metadata": {},
   "outputs": [],
   "source": [
    "clf = lgb.LGBMClassifier(boosting_type='gbdt', class_weight=None, colsample_bytree=1.0,\n",
    "               criterion='friedman_mse', importance_type='split',\n",
    "               learning_rate=0.05, loss=None, max_depth=600,\n",
    "               max_features='log2', min_child_samples=20,\n",
    "               min_child_weight=0.001, min_samples_leaf=1, min_samples_split=5,\n",
    "               min_split_gain=0.0, n_estimators=100, n_jobs=-1, num_leaves=31,\n",
    "               objective=None, random_state=None, reg_alpha=0.0, reg_lambda=0.0,\n",
    "               silent=True, subsample=1.0, subsample_for_bin=200000,\n",
    "               subsample_freq=0, warm_start=True)\n",
    "clf.fit(x_ntree_train , y_ntree_train)\n",
    "prediction9 = clf.predict(test_ntree)"
   ]
  },
  {
   "cell_type": "code",
   "execution_count": 46,
   "metadata": {},
   "outputs": [
    {
     "name": "stdout",
     "output_type": "stream",
     "text": [
      "81.04\n",
      "83.79\n"
     ]
    }
   ],
   "source": [
    "score_train = cross_val_score(clf, x_ntree_train,y_ntree_train, cv=k_fold, n_jobs=-1, scoring=\"accuracy\")\n",
    "print (round(np.mean(score_train)*100,2))\n",
    "score_test = cross_val_score(clf, x_ntree_test,y_ntree_test, cv=k_fold, n_jobs=-1, scoring=\"accuracy\")\n",
    "print (round(np.mean(score_test)*100,2))"
   ]
  },
  {
   "cell_type": "code",
   "execution_count": null,
   "metadata": {},
   "outputs": [],
   "source": []
  },
  {
   "cell_type": "code",
   "execution_count": 47,
   "metadata": {},
   "outputs": [],
   "source": [
    "# Random Search for Tree\n",
    "\n",
    "param_distributions = {\n",
    "    'learning_rate'     : [0.005 , 0.01 , 0.02 , 0.03 , 0.04 , 0.05 , 0.07 , 0.09 , 0.1],\n",
    "    'boosting_type'     : ['gbdt',\"dart\",\"goss\",\"rf\"],\n",
    "    'num_leaves'        : [10,20,30,40,50,60,70,80,90,100],\n",
    "    'min_data'          : [0,10,20,30,40,50,60,70,80,90,100],\n",
    "    'max_depth'         : [0,10,20,30,40,50,60,70,80,90,100],\n",
    "    \"n_estimators\"      : [50,100,150,200,250,300,350,400,500,600,700,800,900,1000,1200],\n",
    "    \"objective\"         : [\"binary\" , \"multiclass\" , None],\n",
    "    \"n_jobs\"            : [-1],\n",
    "    \"silent\"            : [True , False , None]\n",
    "}"
   ]
  },
  {
   "cell_type": "code",
   "execution_count": 54,
   "metadata": {},
   "outputs": [
    {
     "name": "stdout",
     "output_type": "stream",
     "text": [
      "Fitting 5 folds for each of 50 candidates, totalling 250 fits\n"
     ]
    },
    {
     "name": "stderr",
     "output_type": "stream",
     "text": [
      "[Parallel(n_jobs=-1)]: Using backend LokyBackend with 8 concurrent workers.\n",
      "[Parallel(n_jobs=-1)]: Done   2 tasks      | elapsed:    0.0s\n",
      "[Parallel(n_jobs=-1)]: Done  96 tasks      | elapsed:    1.0s\n",
      "[Parallel(n_jobs=-1)]: Done 235 out of 250 | elapsed:    2.5s remaining:    0.1s\n",
      "[Parallel(n_jobs=-1)]: Done 250 out of 250 | elapsed:    2.7s finished\n"
     ]
    },
    {
     "data": {
      "text/plain": [
       "RandomizedSearchCV(cv=5, error_score=nan,\n",
       "                   estimator=LGBMClassifier(boosting_type='gbdt',\n",
       "                                            class_weight=None,\n",
       "                                            colsample_bytree=1.0,\n",
       "                                            importance_type='split',\n",
       "                                            learning_rate=0.1, max_depth=-1,\n",
       "                                            min_child_samples=20,\n",
       "                                            min_child_weight=0.001,\n",
       "                                            min_split_gain=0.0,\n",
       "                                            n_estimators=100, n_jobs=-1,\n",
       "                                            num_leaves=31, objective=None,\n",
       "                                            random_state=None, reg_alpha=0.0,\n",
       "                                            reg_lambda=0.0, sile...\n",
       "                                        'learning_rate': [0.05, 0.1, 0.15, 0.2,\n",
       "                                                          0.25, 0.3, 0.35],\n",
       "                                        'loss': ['deviance', 'exponential',\n",
       "                                                 None],\n",
       "                                        'max_depth': [600],\n",
       "                                        'max_features': [1, 2, 3, 4, 5, 6, 7, 8,\n",
       "                                                         'auto', 'sqrt', 'log2',\n",
       "                                                         None],\n",
       "                                        'min_samples_leaf': [1, 2, 3, 5, 7, 10,\n",
       "                                                             12, 15, 17, None],\n",
       "                                        'min_samples_split': [1, 2, 5, 7, 10,\n",
       "                                                              None],\n",
       "                                        'warm_start': [True, False]},\n",
       "                   pre_dispatch='2*n_jobs', random_state=None, refit=True,\n",
       "                   return_train_score=False, scoring=None, verbose=5)"
      ]
     },
     "execution_count": 54,
     "metadata": {},
     "output_type": "execute_result"
    }
   ],
   "source": [
    "clf = lgb.LGBMClassifier()\n",
    "random_cv = RandomizedSearchCV(estimator=clf , param_distributions = hyperparameter_grid , n_iter=50 , \n",
    "            cv=5 ,n_jobs = -1,verbose = 5 )\n",
    "random_cv.fit(x_tree_train , y_tree_train)"
   ]
  },
  {
   "cell_type": "code",
   "execution_count": 55,
   "metadata": {},
   "outputs": [
    {
     "data": {
      "text/plain": [
       "LGBMClassifier(boosting_type='gbdt', class_weight=None, colsample_bytree=1.0,\n",
       "               criterion='friedman_mse', importance_type='split',\n",
       "               learning_rate=0.05, loss='exponential', max_depth=600,\n",
       "               max_features=2, min_child_samples=20, min_child_weight=0.001,\n",
       "               min_samples_leaf=1, min_samples_split=2, min_split_gain=0.0,\n",
       "               n_estimators=100, n_jobs=-1, num_leaves=31, objective=None,\n",
       "               random_state=None, reg_alpha=0.0, reg_lambda=0.0, silent=True,\n",
       "               subsample=1.0, subsample_for_bin=200000, subsample_freq=0,\n",
       "               warm_start=True)"
      ]
     },
     "execution_count": 55,
     "metadata": {},
     "output_type": "execute_result"
    }
   ],
   "source": [
    "random_cv.best_estimator_"
   ]
  },
  {
   "cell_type": "code",
   "execution_count": 114,
   "metadata": {},
   "outputs": [],
   "source": [
    "clf = lgb.LGBMClassifier(boosting_type='gbdt', class_weight=None, colsample_bytree=1.0,\n",
    "               criterion='friedman_mse', importance_type='split',\n",
    "               learning_rate=0.05, loss='exponential', max_depth=600,\n",
    "               max_features=2, min_child_samples=20, min_child_weight=0.001,\n",
    "               min_samples_leaf=1, min_samples_split=2, min_split_gain=0.0,\n",
    "               n_estimators=100, n_jobs=-1, num_leaves=31, objective=None,\n",
    "               random_state=None, reg_alpha=0.0, reg_lambda=0.0, silent=True,\n",
    "               subsample=1.0, subsample_for_bin=200000, subsample_freq=0,\n",
    "               warm_start=True)\n",
    "clf.fit(x_tree_train , y_tree_train)\n",
    "prediction9 = clf.predict(test_tree)"
   ]
  },
  {
   "cell_type": "code",
   "execution_count": 57,
   "metadata": {},
   "outputs": [
    {
     "name": "stdout",
     "output_type": "stream",
     "text": [
      "81.21\n",
      "81.07\n"
     ]
    }
   ],
   "source": [
    "score_train = cross_val_score(clf, x_tree_train,y_tree_train, cv=k_fold, n_jobs=-1, scoring=\"accuracy\")\n",
    "print (round(np.mean(score_train)*100,2))\n",
    "score_test = cross_val_score(clf, x_tree_test,y_tree_test, cv=k_fold, n_jobs=-1, scoring=\"accuracy\")\n",
    "print (round(np.mean(score_test)*100,2))"
   ]
  },
  {
   "cell_type": "code",
   "execution_count": null,
   "metadata": {},
   "outputs": [],
   "source": []
  },
  {
   "cell_type": "code",
   "execution_count": 59,
   "metadata": {},
   "outputs": [],
   "source": [
    "# CatBoost"
   ]
  },
  {
   "cell_type": "code",
   "execution_count": 98,
   "metadata": {
    "collapsed": true
   },
   "outputs": [
    {
     "name": "stdout",
     "output_type": "stream",
     "text": [
      "Learning rate set to 0.00826\n",
      "0:\tlearn: 0.6884495\ttotal: 8.2ms\tremaining: 8.19s\n",
      "1:\tlearn: 0.6836592\ttotal: 10.7ms\tremaining: 5.34s\n",
      "2:\tlearn: 0.6789001\ttotal: 12.5ms\tremaining: 4.17s\n",
      "3:\tlearn: 0.6731526\ttotal: 14.3ms\tremaining: 3.55s\n",
      "4:\tlearn: 0.6677343\ttotal: 15.9ms\tremaining: 3.16s\n",
      "5:\tlearn: 0.6629871\ttotal: 18.3ms\tremaining: 3.02s\n",
      "6:\tlearn: 0.6589767\ttotal: 20.8ms\tremaining: 2.95s\n",
      "7:\tlearn: 0.6547865\ttotal: 23.6ms\tremaining: 2.92s\n",
      "8:\tlearn: 0.6513583\ttotal: 26.5ms\tremaining: 2.92s\n",
      "9:\tlearn: 0.6463944\ttotal: 28.8ms\tremaining: 2.85s\n",
      "10:\tlearn: 0.6419764\ttotal: 30.6ms\tremaining: 2.75s\n",
      "11:\tlearn: 0.6375034\ttotal: 32.6ms\tremaining: 2.69s\n",
      "12:\tlearn: 0.6335292\ttotal: 35.5ms\tremaining: 2.69s\n",
      "13:\tlearn: 0.6293705\ttotal: 37.8ms\tremaining: 2.66s\n",
      "14:\tlearn: 0.6251999\ttotal: 39.9ms\tremaining: 2.62s\n",
      "15:\tlearn: 0.6213382\ttotal: 43.3ms\tremaining: 2.66s\n",
      "16:\tlearn: 0.6174923\ttotal: 44.9ms\tremaining: 2.59s\n",
      "17:\tlearn: 0.6144378\ttotal: 48.7ms\tremaining: 2.66s\n",
      "18:\tlearn: 0.6105377\ttotal: 50.6ms\tremaining: 2.61s\n",
      "19:\tlearn: 0.6070202\ttotal: 52.6ms\tremaining: 2.58s\n",
      "20:\tlearn: 0.6039053\ttotal: 54.2ms\tremaining: 2.52s\n",
      "21:\tlearn: 0.6005677\ttotal: 55.7ms\tremaining: 2.48s\n",
      "22:\tlearn: 0.5967296\ttotal: 57.9ms\tremaining: 2.46s\n",
      "23:\tlearn: 0.5932430\ttotal: 61.2ms\tremaining: 2.49s\n",
      "24:\tlearn: 0.5899058\ttotal: 62.6ms\tremaining: 2.44s\n",
      "25:\tlearn: 0.5860089\ttotal: 63.9ms\tremaining: 2.39s\n",
      "26:\tlearn: 0.5828232\ttotal: 67.7ms\tremaining: 2.44s\n",
      "27:\tlearn: 0.5796390\ttotal: 69.2ms\tremaining: 2.4s\n",
      "28:\tlearn: 0.5772988\ttotal: 70.5ms\tremaining: 2.36s\n",
      "29:\tlearn: 0.5752971\ttotal: 73ms\tremaining: 2.36s\n",
      "30:\tlearn: 0.5729576\ttotal: 75.9ms\tremaining: 2.37s\n",
      "31:\tlearn: 0.5707393\ttotal: 77ms\tremaining: 2.33s\n",
      "32:\tlearn: 0.5681119\ttotal: 78.7ms\tremaining: 2.31s\n",
      "33:\tlearn: 0.5654586\ttotal: 80.9ms\tremaining: 2.3s\n",
      "34:\tlearn: 0.5627228\ttotal: 82.9ms\tremaining: 2.29s\n",
      "35:\tlearn: 0.5598456\ttotal: 84.5ms\tremaining: 2.26s\n",
      "36:\tlearn: 0.5563407\ttotal: 87ms\tremaining: 2.27s\n",
      "37:\tlearn: 0.5534594\ttotal: 89ms\tremaining: 2.25s\n",
      "38:\tlearn: 0.5508006\ttotal: 90.4ms\tremaining: 2.23s\n",
      "39:\tlearn: 0.5482038\ttotal: 92ms\tremaining: 2.21s\n",
      "40:\tlearn: 0.5456511\ttotal: 94.1ms\tremaining: 2.2s\n",
      "41:\tlearn: 0.5430553\ttotal: 95.9ms\tremaining: 2.19s\n",
      "42:\tlearn: 0.5411834\ttotal: 96.7ms\tremaining: 2.15s\n",
      "43:\tlearn: 0.5384673\ttotal: 100ms\tremaining: 2.18s\n",
      "44:\tlearn: 0.5359570\ttotal: 104ms\tremaining: 2.22s\n",
      "45:\tlearn: 0.5344699\ttotal: 107ms\tremaining: 2.21s\n",
      "46:\tlearn: 0.5325841\ttotal: 109ms\tremaining: 2.21s\n",
      "47:\tlearn: 0.5306378\ttotal: 111ms\tremaining: 2.2s\n",
      "48:\tlearn: 0.5282012\ttotal: 113ms\tremaining: 2.19s\n",
      "49:\tlearn: 0.5265863\ttotal: 116ms\tremaining: 2.19s\n",
      "50:\tlearn: 0.5241687\ttotal: 119ms\tremaining: 2.22s\n",
      "51:\tlearn: 0.5222429\ttotal: 123ms\tremaining: 2.23s\n",
      "52:\tlearn: 0.5197526\ttotal: 128ms\tremaining: 2.29s\n",
      "53:\tlearn: 0.5178920\ttotal: 129ms\tremaining: 2.27s\n",
      "54:\tlearn: 0.5155561\ttotal: 131ms\tremaining: 2.25s\n",
      "55:\tlearn: 0.5137979\ttotal: 133ms\tremaining: 2.24s\n",
      "56:\tlearn: 0.5114686\ttotal: 134ms\tremaining: 2.22s\n",
      "57:\tlearn: 0.5097119\ttotal: 136ms\tremaining: 2.21s\n",
      "58:\tlearn: 0.5086621\ttotal: 137ms\tremaining: 2.18s\n",
      "59:\tlearn: 0.5064127\ttotal: 138ms\tremaining: 2.17s\n",
      "60:\tlearn: 0.5047862\ttotal: 140ms\tremaining: 2.16s\n",
      "61:\tlearn: 0.5029258\ttotal: 142ms\tremaining: 2.14s\n",
      "62:\tlearn: 0.5015229\ttotal: 145ms\tremaining: 2.16s\n",
      "63:\tlearn: 0.5000266\ttotal: 146ms\tremaining: 2.13s\n",
      "64:\tlearn: 0.4986641\ttotal: 149ms\tremaining: 2.14s\n",
      "65:\tlearn: 0.4970679\ttotal: 152ms\tremaining: 2.15s\n",
      "66:\tlearn: 0.4956491\ttotal: 155ms\tremaining: 2.16s\n",
      "67:\tlearn: 0.4937516\ttotal: 158ms\tremaining: 2.16s\n",
      "68:\tlearn: 0.4923038\ttotal: 161ms\tremaining: 2.17s\n",
      "69:\tlearn: 0.4903899\ttotal: 165ms\tremaining: 2.19s\n",
      "70:\tlearn: 0.4886034\ttotal: 168ms\tremaining: 2.2s\n",
      "71:\tlearn: 0.4864601\ttotal: 171ms\tremaining: 2.21s\n",
      "72:\tlearn: 0.4845708\ttotal: 174ms\tremaining: 2.21s\n",
      "73:\tlearn: 0.4827210\ttotal: 178ms\tremaining: 2.23s\n",
      "74:\tlearn: 0.4810138\ttotal: 181ms\tremaining: 2.24s\n",
      "75:\tlearn: 0.4792676\ttotal: 184ms\tremaining: 2.24s\n",
      "76:\tlearn: 0.4780402\ttotal: 187ms\tremaining: 2.25s\n",
      "77:\tlearn: 0.4773232\ttotal: 194ms\tremaining: 2.29s\n",
      "78:\tlearn: 0.4759671\ttotal: 199ms\tremaining: 2.32s\n",
      "79:\tlearn: 0.4751214\ttotal: 201ms\tremaining: 2.31s\n",
      "80:\tlearn: 0.4737061\ttotal: 204ms\tremaining: 2.31s\n",
      "81:\tlearn: 0.4726233\ttotal: 207ms\tremaining: 2.31s\n",
      "82:\tlearn: 0.4711175\ttotal: 210ms\tremaining: 2.32s\n",
      "83:\tlearn: 0.4693619\ttotal: 215ms\tremaining: 2.35s\n",
      "84:\tlearn: 0.4678436\ttotal: 218ms\tremaining: 2.35s\n",
      "85:\tlearn: 0.4667919\ttotal: 222ms\tremaining: 2.35s\n",
      "86:\tlearn: 0.4655418\ttotal: 227ms\tremaining: 2.38s\n",
      "87:\tlearn: 0.4642615\ttotal: 230ms\tremaining: 2.38s\n",
      "88:\tlearn: 0.4632833\ttotal: 233ms\tremaining: 2.38s\n",
      "89:\tlearn: 0.4622214\ttotal: 236ms\tremaining: 2.38s\n",
      "90:\tlearn: 0.4609047\ttotal: 240ms\tremaining: 2.39s\n",
      "91:\tlearn: 0.4597173\ttotal: 243ms\tremaining: 2.39s\n",
      "92:\tlearn: 0.4586056\ttotal: 246ms\tremaining: 2.39s\n",
      "93:\tlearn: 0.4576287\ttotal: 249ms\tremaining: 2.4s\n",
      "94:\tlearn: 0.4564135\ttotal: 253ms\tremaining: 2.41s\n",
      "95:\tlearn: 0.4555609\ttotal: 256ms\tremaining: 2.41s\n",
      "96:\tlearn: 0.4542345\ttotal: 259ms\tremaining: 2.41s\n",
      "97:\tlearn: 0.4532308\ttotal: 262ms\tremaining: 2.41s\n",
      "98:\tlearn: 0.4520000\ttotal: 267ms\tremaining: 2.43s\n",
      "99:\tlearn: 0.4510743\ttotal: 270ms\tremaining: 2.43s\n",
      "100:\tlearn: 0.4496604\ttotal: 273ms\tremaining: 2.43s\n",
      "101:\tlearn: 0.4486285\ttotal: 277ms\tremaining: 2.44s\n",
      "102:\tlearn: 0.4474866\ttotal: 281ms\tremaining: 2.44s\n",
      "103:\tlearn: 0.4465855\ttotal: 284ms\tremaining: 2.44s\n",
      "104:\tlearn: 0.4452894\ttotal: 287ms\tremaining: 2.45s\n",
      "105:\tlearn: 0.4437818\ttotal: 290ms\tremaining: 2.45s\n",
      "106:\tlearn: 0.4430695\ttotal: 293ms\tremaining: 2.44s\n",
      "107:\tlearn: 0.4419068\ttotal: 298ms\tremaining: 2.46s\n",
      "108:\tlearn: 0.4408382\ttotal: 302ms\tremaining: 2.46s\n",
      "109:\tlearn: 0.4404478\ttotal: 305ms\tremaining: 2.46s\n",
      "110:\tlearn: 0.4396776\ttotal: 309ms\tremaining: 2.47s\n",
      "111:\tlearn: 0.4390998\ttotal: 312ms\tremaining: 2.47s\n",
      "112:\tlearn: 0.4381755\ttotal: 316ms\tremaining: 2.48s\n",
      "113:\tlearn: 0.4376674\ttotal: 318ms\tremaining: 2.47s\n",
      "114:\tlearn: 0.4368910\ttotal: 321ms\tremaining: 2.47s\n",
      "115:\tlearn: 0.4365761\ttotal: 322ms\tremaining: 2.46s\n",
      "116:\tlearn: 0.4358198\ttotal: 326ms\tremaining: 2.46s\n",
      "117:\tlearn: 0.4347556\ttotal: 329ms\tremaining: 2.46s\n",
      "118:\tlearn: 0.4342147\ttotal: 331ms\tremaining: 2.45s\n",
      "119:\tlearn: 0.4335768\ttotal: 334ms\tremaining: 2.45s\n",
      "120:\tlearn: 0.4326048\ttotal: 337ms\tremaining: 2.45s\n",
      "121:\tlearn: 0.4319471\ttotal: 340ms\tremaining: 2.44s\n",
      "122:\tlearn: 0.4310837\ttotal: 343ms\tremaining: 2.44s\n",
      "123:\tlearn: 0.4302688\ttotal: 346ms\tremaining: 2.44s\n",
      "124:\tlearn: 0.4294377\ttotal: 349ms\tremaining: 2.44s\n",
      "125:\tlearn: 0.4289065\ttotal: 352ms\tremaining: 2.44s\n",
      "126:\tlearn: 0.4279486\ttotal: 355ms\tremaining: 2.44s\n",
      "127:\tlearn: 0.4271223\ttotal: 359ms\tremaining: 2.45s\n",
      "128:\tlearn: 0.4264903\ttotal: 362ms\tremaining: 2.44s\n",
      "129:\tlearn: 0.4255906\ttotal: 366ms\tremaining: 2.45s\n",
      "130:\tlearn: 0.4252279\ttotal: 369ms\tremaining: 2.44s\n",
      "131:\tlearn: 0.4245622\ttotal: 371ms\tremaining: 2.44s\n",
      "132:\tlearn: 0.4241918\ttotal: 373ms\tremaining: 2.43s\n",
      "133:\tlearn: 0.4235851\ttotal: 376ms\tremaining: 2.43s\n",
      "134:\tlearn: 0.4229495\ttotal: 380ms\tremaining: 2.44s\n",
      "135:\tlearn: 0.4223029\ttotal: 386ms\tremaining: 2.45s\n",
      "136:\tlearn: 0.4216780\ttotal: 390ms\tremaining: 2.46s\n",
      "137:\tlearn: 0.4208588\ttotal: 394ms\tremaining: 2.46s\n",
      "138:\tlearn: 0.4202005\ttotal: 397ms\tremaining: 2.46s\n",
      "139:\tlearn: 0.4197408\ttotal: 400ms\tremaining: 2.45s\n",
      "140:\tlearn: 0.4190922\ttotal: 403ms\tremaining: 2.45s\n",
      "141:\tlearn: 0.4187089\ttotal: 406ms\tremaining: 2.45s\n",
      "142:\tlearn: 0.4180022\ttotal: 409ms\tremaining: 2.45s\n",
      "143:\tlearn: 0.4173224\ttotal: 412ms\tremaining: 2.45s\n",
      "144:\tlearn: 0.4167029\ttotal: 415ms\tremaining: 2.45s\n",
      "145:\tlearn: 0.4162895\ttotal: 418ms\tremaining: 2.44s\n",
      "146:\tlearn: 0.4156213\ttotal: 421ms\tremaining: 2.44s\n",
      "147:\tlearn: 0.4150842\ttotal: 424ms\tremaining: 2.44s\n",
      "148:\tlearn: 0.4145294\ttotal: 427ms\tremaining: 2.44s\n",
      "149:\tlearn: 0.4141499\ttotal: 430ms\tremaining: 2.43s\n",
      "150:\tlearn: 0.4135597\ttotal: 433ms\tremaining: 2.43s\n",
      "151:\tlearn: 0.4130284\ttotal: 435ms\tremaining: 2.43s\n",
      "152:\tlearn: 0.4126888\ttotal: 438ms\tremaining: 2.43s\n",
      "153:\tlearn: 0.4121494\ttotal: 441ms\tremaining: 2.42s\n",
      "154:\tlearn: 0.4114932\ttotal: 444ms\tremaining: 2.42s\n",
      "155:\tlearn: 0.4107417\ttotal: 447ms\tremaining: 2.42s\n",
      "156:\tlearn: 0.4100274\ttotal: 452ms\tremaining: 2.43s\n",
      "157:\tlearn: 0.4095617\ttotal: 455ms\tremaining: 2.42s\n",
      "158:\tlearn: 0.4091691\ttotal: 459ms\tremaining: 2.42s\n",
      "159:\tlearn: 0.4085464\ttotal: 462ms\tremaining: 2.42s\n",
      "160:\tlearn: 0.4078796\ttotal: 464ms\tremaining: 2.42s\n",
      "161:\tlearn: 0.4071603\ttotal: 469ms\tremaining: 2.43s\n",
      "162:\tlearn: 0.4067088\ttotal: 472ms\tremaining: 2.42s\n",
      "163:\tlearn: 0.4061876\ttotal: 476ms\tremaining: 2.42s\n",
      "164:\tlearn: 0.4058468\ttotal: 479ms\tremaining: 2.42s\n",
      "165:\tlearn: 0.4053114\ttotal: 482ms\tremaining: 2.42s\n"
     ]
    },
    {
     "name": "stdout",
     "output_type": "stream",
     "text": [
      "166:\tlearn: 0.4048556\ttotal: 485ms\tremaining: 2.42s\n",
      "167:\tlearn: 0.4041663\ttotal: 488ms\tremaining: 2.42s\n",
      "168:\tlearn: 0.4036235\ttotal: 491ms\tremaining: 2.42s\n",
      "169:\tlearn: 0.4029589\ttotal: 494ms\tremaining: 2.41s\n",
      "170:\tlearn: 0.4026508\ttotal: 497ms\tremaining: 2.41s\n",
      "171:\tlearn: 0.4023348\ttotal: 501ms\tremaining: 2.41s\n",
      "172:\tlearn: 0.4018875\ttotal: 504ms\tremaining: 2.41s\n",
      "173:\tlearn: 0.4015478\ttotal: 507ms\tremaining: 2.41s\n",
      "174:\tlearn: 0.4011146\ttotal: 510ms\tremaining: 2.41s\n",
      "175:\tlearn: 0.4007229\ttotal: 514ms\tremaining: 2.4s\n",
      "176:\tlearn: 0.4005035\ttotal: 517ms\tremaining: 2.4s\n",
      "177:\tlearn: 0.4000726\ttotal: 520ms\tremaining: 2.4s\n",
      "178:\tlearn: 0.3994478\ttotal: 523ms\tremaining: 2.4s\n",
      "179:\tlearn: 0.3989012\ttotal: 526ms\tremaining: 2.4s\n",
      "180:\tlearn: 0.3984827\ttotal: 530ms\tremaining: 2.4s\n",
      "181:\tlearn: 0.3982268\ttotal: 533ms\tremaining: 2.4s\n",
      "182:\tlearn: 0.3979547\ttotal: 536ms\tremaining: 2.39s\n",
      "183:\tlearn: 0.3974607\ttotal: 539ms\tremaining: 2.39s\n",
      "184:\tlearn: 0.3968502\ttotal: 542ms\tremaining: 2.39s\n",
      "185:\tlearn: 0.3965483\ttotal: 545ms\tremaining: 2.38s\n",
      "186:\tlearn: 0.3959452\ttotal: 548ms\tremaining: 2.38s\n",
      "187:\tlearn: 0.3955538\ttotal: 551ms\tremaining: 2.38s\n",
      "188:\tlearn: 0.3949894\ttotal: 555ms\tremaining: 2.38s\n",
      "189:\tlearn: 0.3945766\ttotal: 558ms\tremaining: 2.38s\n",
      "190:\tlearn: 0.3942850\ttotal: 561ms\tremaining: 2.38s\n",
      "191:\tlearn: 0.3939249\ttotal: 564ms\tremaining: 2.37s\n",
      "192:\tlearn: 0.3936474\ttotal: 567ms\tremaining: 2.37s\n",
      "193:\tlearn: 0.3933774\ttotal: 570ms\tremaining: 2.37s\n",
      "194:\tlearn: 0.3928885\ttotal: 573ms\tremaining: 2.37s\n",
      "195:\tlearn: 0.3926586\ttotal: 576ms\tremaining: 2.36s\n",
      "196:\tlearn: 0.3922481\ttotal: 581ms\tremaining: 2.37s\n",
      "197:\tlearn: 0.3919760\ttotal: 585ms\tremaining: 2.37s\n",
      "198:\tlearn: 0.3915377\ttotal: 588ms\tremaining: 2.37s\n",
      "199:\tlearn: 0.3912005\ttotal: 591ms\tremaining: 2.36s\n",
      "200:\tlearn: 0.3909009\ttotal: 594ms\tremaining: 2.36s\n",
      "201:\tlearn: 0.3906700\ttotal: 597ms\tremaining: 2.36s\n",
      "202:\tlearn: 0.3902235\ttotal: 601ms\tremaining: 2.36s\n",
      "203:\tlearn: 0.3899428\ttotal: 604ms\tremaining: 2.36s\n",
      "204:\tlearn: 0.3896676\ttotal: 607ms\tremaining: 2.35s\n",
      "205:\tlearn: 0.3893904\ttotal: 610ms\tremaining: 2.35s\n",
      "206:\tlearn: 0.3890224\ttotal: 613ms\tremaining: 2.35s\n",
      "207:\tlearn: 0.3886151\ttotal: 616ms\tremaining: 2.35s\n",
      "208:\tlearn: 0.3882804\ttotal: 619ms\tremaining: 2.34s\n",
      "209:\tlearn: 0.3878799\ttotal: 624ms\tremaining: 2.35s\n",
      "210:\tlearn: 0.3877867\ttotal: 626ms\tremaining: 2.34s\n",
      "211:\tlearn: 0.3872554\ttotal: 629ms\tremaining: 2.34s\n",
      "212:\tlearn: 0.3868426\ttotal: 633ms\tremaining: 2.34s\n",
      "213:\tlearn: 0.3865969\ttotal: 635ms\tremaining: 2.33s\n",
      "214:\tlearn: 0.3862539\ttotal: 638ms\tremaining: 2.33s\n",
      "215:\tlearn: 0.3858162\ttotal: 641ms\tremaining: 2.33s\n",
      "216:\tlearn: 0.3854828\ttotal: 644ms\tremaining: 2.32s\n",
      "217:\tlearn: 0.3851716\ttotal: 647ms\tremaining: 2.32s\n",
      "218:\tlearn: 0.3848629\ttotal: 650ms\tremaining: 2.32s\n",
      "219:\tlearn: 0.3846715\ttotal: 653ms\tremaining: 2.32s\n",
      "220:\tlearn: 0.3843051\ttotal: 657ms\tremaining: 2.32s\n",
      "221:\tlearn: 0.3842813\ttotal: 659ms\tremaining: 2.31s\n",
      "222:\tlearn: 0.3841858\ttotal: 662ms\tremaining: 2.31s\n",
      "223:\tlearn: 0.3839676\ttotal: 667ms\tremaining: 2.31s\n",
      "224:\tlearn: 0.3836648\ttotal: 670ms\tremaining: 2.31s\n",
      "225:\tlearn: 0.3833362\ttotal: 675ms\tremaining: 2.31s\n",
      "226:\tlearn: 0.3831513\ttotal: 678ms\tremaining: 2.31s\n",
      "227:\tlearn: 0.3827389\ttotal: 681ms\tremaining: 2.31s\n",
      "228:\tlearn: 0.3823736\ttotal: 684ms\tremaining: 2.3s\n",
      "229:\tlearn: 0.3820841\ttotal: 688ms\tremaining: 2.3s\n",
      "230:\tlearn: 0.3817245\ttotal: 692ms\tremaining: 2.31s\n",
      "231:\tlearn: 0.3814963\ttotal: 696ms\tremaining: 2.3s\n",
      "232:\tlearn: 0.3811357\ttotal: 701ms\tremaining: 2.31s\n",
      "233:\tlearn: 0.3808016\ttotal: 704ms\tremaining: 2.3s\n",
      "234:\tlearn: 0.3804726\ttotal: 707ms\tremaining: 2.3s\n",
      "235:\tlearn: 0.3800870\ttotal: 710ms\tremaining: 2.3s\n",
      "236:\tlearn: 0.3799313\ttotal: 713ms\tremaining: 2.29s\n",
      "237:\tlearn: 0.3796686\ttotal: 717ms\tremaining: 2.29s\n",
      "238:\tlearn: 0.3794583\ttotal: 721ms\tremaining: 2.29s\n",
      "239:\tlearn: 0.3791438\ttotal: 726ms\tremaining: 2.3s\n",
      "240:\tlearn: 0.3789137\ttotal: 730ms\tremaining: 2.3s\n",
      "241:\tlearn: 0.3785410\ttotal: 734ms\tremaining: 2.3s\n",
      "242:\tlearn: 0.3780867\ttotal: 738ms\tremaining: 2.3s\n",
      "243:\tlearn: 0.3777767\ttotal: 742ms\tremaining: 2.3s\n",
      "244:\tlearn: 0.3774774\ttotal: 747ms\tremaining: 2.3s\n",
      "245:\tlearn: 0.3771823\ttotal: 750ms\tremaining: 2.3s\n",
      "246:\tlearn: 0.3767849\ttotal: 753ms\tremaining: 2.3s\n",
      "247:\tlearn: 0.3766045\ttotal: 757ms\tremaining: 2.29s\n",
      "248:\tlearn: 0.3764695\ttotal: 759ms\tremaining: 2.29s\n",
      "249:\tlearn: 0.3764198\ttotal: 761ms\tremaining: 2.28s\n",
      "250:\tlearn: 0.3760217\ttotal: 765ms\tremaining: 2.28s\n",
      "251:\tlearn: 0.3757085\ttotal: 770ms\tremaining: 2.29s\n",
      "252:\tlearn: 0.3753006\ttotal: 774ms\tremaining: 2.28s\n",
      "253:\tlearn: 0.3750665\ttotal: 777ms\tremaining: 2.28s\n",
      "254:\tlearn: 0.3747898\ttotal: 781ms\tremaining: 2.28s\n",
      "255:\tlearn: 0.3744572\ttotal: 784ms\tremaining: 2.28s\n",
      "256:\tlearn: 0.3740353\ttotal: 787ms\tremaining: 2.27s\n",
      "257:\tlearn: 0.3739630\ttotal: 789ms\tremaining: 2.27s\n",
      "258:\tlearn: 0.3737430\ttotal: 792ms\tremaining: 2.27s\n",
      "259:\tlearn: 0.3735012\ttotal: 796ms\tremaining: 2.27s\n",
      "260:\tlearn: 0.3732347\ttotal: 800ms\tremaining: 2.26s\n",
      "261:\tlearn: 0.3730967\ttotal: 804ms\tremaining: 2.26s\n",
      "262:\tlearn: 0.3730028\ttotal: 808ms\tremaining: 2.26s\n",
      "263:\tlearn: 0.3726354\ttotal: 813ms\tremaining: 2.27s\n",
      "264:\tlearn: 0.3724633\ttotal: 818ms\tremaining: 2.27s\n",
      "265:\tlearn: 0.3722223\ttotal: 821ms\tremaining: 2.26s\n",
      "266:\tlearn: 0.3717298\ttotal: 825ms\tremaining: 2.27s\n",
      "267:\tlearn: 0.3715744\ttotal: 828ms\tremaining: 2.26s\n",
      "268:\tlearn: 0.3712681\ttotal: 831ms\tremaining: 2.26s\n",
      "269:\tlearn: 0.3708527\ttotal: 834ms\tremaining: 2.25s\n",
      "270:\tlearn: 0.3705223\ttotal: 838ms\tremaining: 2.25s\n",
      "271:\tlearn: 0.3701456\ttotal: 840ms\tremaining: 2.25s\n",
      "272:\tlearn: 0.3699654\ttotal: 843ms\tremaining: 2.25s\n",
      "273:\tlearn: 0.3696406\ttotal: 847ms\tremaining: 2.24s\n",
      "274:\tlearn: 0.3693510\ttotal: 850ms\tremaining: 2.24s\n",
      "275:\tlearn: 0.3690558\ttotal: 852ms\tremaining: 2.24s\n",
      "276:\tlearn: 0.3688763\ttotal: 855ms\tremaining: 2.23s\n",
      "277:\tlearn: 0.3687876\ttotal: 858ms\tremaining: 2.23s\n",
      "278:\tlearn: 0.3685290\ttotal: 861ms\tremaining: 2.22s\n",
      "279:\tlearn: 0.3681436\ttotal: 864ms\tremaining: 2.22s\n",
      "280:\tlearn: 0.3678033\ttotal: 868ms\tremaining: 2.22s\n",
      "281:\tlearn: 0.3674335\ttotal: 870ms\tremaining: 2.22s\n",
      "282:\tlearn: 0.3672225\ttotal: 873ms\tremaining: 2.21s\n",
      "283:\tlearn: 0.3670746\ttotal: 876ms\tremaining: 2.21s\n",
      "284:\tlearn: 0.3668266\ttotal: 879ms\tremaining: 2.2s\n",
      "285:\tlearn: 0.3666478\ttotal: 882ms\tremaining: 2.2s\n",
      "286:\tlearn: 0.3663306\ttotal: 885ms\tremaining: 2.2s\n",
      "287:\tlearn: 0.3661185\ttotal: 888ms\tremaining: 2.19s\n",
      "288:\tlearn: 0.3658162\ttotal: 890ms\tremaining: 2.19s\n",
      "289:\tlearn: 0.3655628\ttotal: 893ms\tremaining: 2.19s\n",
      "290:\tlearn: 0.3653947\ttotal: 896ms\tremaining: 2.18s\n",
      "291:\tlearn: 0.3650948\ttotal: 899ms\tremaining: 2.18s\n",
      "292:\tlearn: 0.3649526\ttotal: 904ms\tremaining: 2.18s\n",
      "293:\tlearn: 0.3648389\ttotal: 906ms\tremaining: 2.18s\n",
      "294:\tlearn: 0.3645316\ttotal: 909ms\tremaining: 2.17s\n",
      "295:\tlearn: 0.3644734\ttotal: 911ms\tremaining: 2.17s\n",
      "296:\tlearn: 0.3641820\ttotal: 914ms\tremaining: 2.16s\n",
      "297:\tlearn: 0.3639409\ttotal: 917ms\tremaining: 2.16s\n",
      "298:\tlearn: 0.3637170\ttotal: 919ms\tremaining: 2.15s\n",
      "299:\tlearn: 0.3635369\ttotal: 922ms\tremaining: 2.15s\n",
      "300:\tlearn: 0.3633136\ttotal: 925ms\tremaining: 2.15s\n",
      "301:\tlearn: 0.3629941\ttotal: 928ms\tremaining: 2.14s\n",
      "302:\tlearn: 0.3628608\ttotal: 931ms\tremaining: 2.14s\n",
      "303:\tlearn: 0.3627566\ttotal: 933ms\tremaining: 2.13s\n",
      "304:\tlearn: 0.3625322\ttotal: 936ms\tremaining: 2.13s\n",
      "305:\tlearn: 0.3623123\ttotal: 938ms\tremaining: 2.13s\n",
      "306:\tlearn: 0.3620951\ttotal: 941ms\tremaining: 2.12s\n",
      "307:\tlearn: 0.3618974\ttotal: 944ms\tremaining: 2.12s\n",
      "308:\tlearn: 0.3616851\ttotal: 947ms\tremaining: 2.12s\n",
      "309:\tlearn: 0.3615523\ttotal: 950ms\tremaining: 2.11s\n",
      "310:\tlearn: 0.3612527\ttotal: 953ms\tremaining: 2.11s\n",
      "311:\tlearn: 0.3612281\ttotal: 954ms\tremaining: 2.1s\n",
      "312:\tlearn: 0.3610832\ttotal: 957ms\tremaining: 2.1s\n",
      "313:\tlearn: 0.3608896\ttotal: 959ms\tremaining: 2.1s\n",
      "314:\tlearn: 0.3606065\ttotal: 962ms\tremaining: 2.09s\n",
      "315:\tlearn: 0.3603715\ttotal: 967ms\tremaining: 2.09s\n",
      "316:\tlearn: 0.3601758\ttotal: 970ms\tremaining: 2.09s\n",
      "317:\tlearn: 0.3598439\ttotal: 973ms\tremaining: 2.08s\n",
      "318:\tlearn: 0.3596052\ttotal: 976ms\tremaining: 2.08s\n",
      "319:\tlearn: 0.3593315\ttotal: 978ms\tremaining: 2.08s\n",
      "320:\tlearn: 0.3590127\ttotal: 981ms\tremaining: 2.08s\n",
      "321:\tlearn: 0.3587966\ttotal: 986ms\tremaining: 2.08s\n",
      "322:\tlearn: 0.3586543\ttotal: 988ms\tremaining: 2.07s\n",
      "323:\tlearn: 0.3584765\ttotal: 991ms\tremaining: 2.07s\n",
      "324:\tlearn: 0.3583641\ttotal: 993ms\tremaining: 2.06s\n",
      "325:\tlearn: 0.3581777\ttotal: 997ms\tremaining: 2.06s\n",
      "326:\tlearn: 0.3580472\ttotal: 999ms\tremaining: 2.06s\n",
      "327:\tlearn: 0.3579066\ttotal: 1s\tremaining: 2.05s\n",
      "328:\tlearn: 0.3578215\ttotal: 1s\tremaining: 2.05s\n",
      "329:\tlearn: 0.3575345\ttotal: 1.01s\tremaining: 2.04s\n",
      "330:\tlearn: 0.3574560\ttotal: 1.01s\tremaining: 2.04s\n",
      "331:\tlearn: 0.3573045\ttotal: 1.01s\tremaining: 2.03s\n",
      "332:\tlearn: 0.3570984\ttotal: 1.01s\tremaining: 2.03s\n",
      "333:\tlearn: 0.3570147\ttotal: 1.01s\tremaining: 2.02s\n",
      "334:\tlearn: 0.3567784\ttotal: 1.02s\tremaining: 2.02s\n",
      "335:\tlearn: 0.3565818\ttotal: 1.02s\tremaining: 2.01s\n",
      "336:\tlearn: 0.3565659\ttotal: 1.02s\tremaining: 2.01s\n",
      "337:\tlearn: 0.3562327\ttotal: 1.02s\tremaining: 2s\n",
      "338:\tlearn: 0.3560119\ttotal: 1.03s\tremaining: 2s\n",
      "339:\tlearn: 0.3559485\ttotal: 1.03s\tremaining: 2s\n",
      "340:\tlearn: 0.3558156\ttotal: 1.03s\tremaining: 1.99s\n",
      "341:\tlearn: 0.3556637\ttotal: 1.03s\tremaining: 1.99s\n",
      "342:\tlearn: 0.3555020\ttotal: 1.04s\tremaining: 1.99s\n",
      "343:\tlearn: 0.3552551\ttotal: 1.04s\tremaining: 1.99s\n",
      "344:\tlearn: 0.3550792\ttotal: 1.05s\tremaining: 1.99s\n",
      "345:\tlearn: 0.3550255\ttotal: 1.05s\tremaining: 1.98s\n",
      "346:\tlearn: 0.3549216\ttotal: 1.05s\tremaining: 1.98s\n",
      "347:\tlearn: 0.3547471\ttotal: 1.05s\tremaining: 1.97s\n",
      "348:\tlearn: 0.3543693\ttotal: 1.05s\tremaining: 1.97s\n",
      "349:\tlearn: 0.3541417\ttotal: 1.06s\tremaining: 1.96s\n",
      "350:\tlearn: 0.3540016\ttotal: 1.06s\tremaining: 1.96s\n",
      "351:\tlearn: 0.3537433\ttotal: 1.06s\tremaining: 1.95s\n",
      "352:\tlearn: 0.3535253\ttotal: 1.06s\tremaining: 1.95s\n",
      "353:\tlearn: 0.3534510\ttotal: 1.06s\tremaining: 1.94s\n",
      "354:\tlearn: 0.3533445\ttotal: 1.07s\tremaining: 1.94s\n",
      "355:\tlearn: 0.3531977\ttotal: 1.07s\tremaining: 1.94s\n",
      "356:\tlearn: 0.3531825\ttotal: 1.07s\tremaining: 1.93s\n",
      "357:\tlearn: 0.3529062\ttotal: 1.07s\tremaining: 1.93s\n",
      "358:\tlearn: 0.3527401\ttotal: 1.08s\tremaining: 1.92s\n",
      "359:\tlearn: 0.3525157\ttotal: 1.08s\tremaining: 1.92s\n",
      "360:\tlearn: 0.3523398\ttotal: 1.08s\tremaining: 1.92s\n",
      "361:\tlearn: 0.3521596\ttotal: 1.08s\tremaining: 1.91s\n",
      "362:\tlearn: 0.3519937\ttotal: 1.09s\tremaining: 1.91s\n",
      "363:\tlearn: 0.3517524\ttotal: 1.09s\tremaining: 1.91s\n",
      "364:\tlearn: 0.3513740\ttotal: 1.1s\tremaining: 1.91s\n",
      "365:\tlearn: 0.3510874\ttotal: 1.1s\tremaining: 1.9s\n",
      "366:\tlearn: 0.3509036\ttotal: 1.1s\tremaining: 1.9s\n",
      "367:\tlearn: 0.3507684\ttotal: 1.1s\tremaining: 1.9s\n",
      "368:\tlearn: 0.3506505\ttotal: 1.11s\tremaining: 1.89s\n",
      "369:\tlearn: 0.3504770\ttotal: 1.11s\tremaining: 1.89s\n",
      "370:\tlearn: 0.3504113\ttotal: 1.11s\tremaining: 1.89s\n",
      "371:\tlearn: 0.3502854\ttotal: 1.11s\tremaining: 1.88s\n",
      "372:\tlearn: 0.3501199\ttotal: 1.12s\tremaining: 1.88s\n",
      "373:\tlearn: 0.3499824\ttotal: 1.12s\tremaining: 1.87s\n",
      "374:\tlearn: 0.3498199\ttotal: 1.12s\tremaining: 1.87s\n",
      "375:\tlearn: 0.3496262\ttotal: 1.12s\tremaining: 1.86s\n",
      "376:\tlearn: 0.3492747\ttotal: 1.12s\tremaining: 1.86s\n",
      "377:\tlearn: 0.3489618\ttotal: 1.13s\tremaining: 1.85s\n",
      "378:\tlearn: 0.3487151\ttotal: 1.13s\tremaining: 1.85s\n",
      "379:\tlearn: 0.3484836\ttotal: 1.13s\tremaining: 1.84s\n",
      "380:\tlearn: 0.3483300\ttotal: 1.13s\tremaining: 1.84s\n",
      "381:\tlearn: 0.3481197\ttotal: 1.13s\tremaining: 1.83s\n",
      "382:\tlearn: 0.3478945\ttotal: 1.14s\tremaining: 1.83s\n",
      "383:\tlearn: 0.3476965\ttotal: 1.14s\tremaining: 1.83s\n",
      "384:\tlearn: 0.3474240\ttotal: 1.14s\tremaining: 1.82s\n",
      "385:\tlearn: 0.3472216\ttotal: 1.14s\tremaining: 1.82s\n",
      "386:\tlearn: 0.3471203\ttotal: 1.15s\tremaining: 1.82s\n"
     ]
    },
    {
     "name": "stdout",
     "output_type": "stream",
     "text": [
      "387:\tlearn: 0.3469479\ttotal: 1.15s\tremaining: 1.82s\n",
      "388:\tlearn: 0.3469283\ttotal: 1.15s\tremaining: 1.81s\n",
      "389:\tlearn: 0.3467705\ttotal: 1.16s\tremaining: 1.81s\n",
      "390:\tlearn: 0.3464515\ttotal: 1.16s\tremaining: 1.81s\n",
      "391:\tlearn: 0.3462369\ttotal: 1.16s\tremaining: 1.8s\n",
      "392:\tlearn: 0.3461564\ttotal: 1.17s\tremaining: 1.8s\n",
      "393:\tlearn: 0.3460478\ttotal: 1.17s\tremaining: 1.8s\n",
      "394:\tlearn: 0.3459149\ttotal: 1.17s\tremaining: 1.8s\n",
      "395:\tlearn: 0.3457113\ttotal: 1.18s\tremaining: 1.79s\n",
      "396:\tlearn: 0.3453926\ttotal: 1.18s\tremaining: 1.79s\n",
      "397:\tlearn: 0.3452705\ttotal: 1.18s\tremaining: 1.79s\n",
      "398:\tlearn: 0.3450896\ttotal: 1.19s\tremaining: 1.79s\n",
      "399:\tlearn: 0.3449945\ttotal: 1.19s\tremaining: 1.79s\n",
      "400:\tlearn: 0.3447883\ttotal: 1.2s\tremaining: 1.79s\n",
      "401:\tlearn: 0.3445681\ttotal: 1.2s\tremaining: 1.78s\n",
      "402:\tlearn: 0.3444296\ttotal: 1.2s\tremaining: 1.78s\n",
      "403:\tlearn: 0.3441888\ttotal: 1.2s\tremaining: 1.77s\n",
      "404:\tlearn: 0.3439643\ttotal: 1.21s\tremaining: 1.77s\n",
      "405:\tlearn: 0.3436698\ttotal: 1.21s\tremaining: 1.77s\n",
      "406:\tlearn: 0.3435623\ttotal: 1.21s\tremaining: 1.77s\n",
      "407:\tlearn: 0.3433687\ttotal: 1.22s\tremaining: 1.76s\n",
      "408:\tlearn: 0.3431985\ttotal: 1.22s\tremaining: 1.76s\n",
      "409:\tlearn: 0.3429797\ttotal: 1.22s\tremaining: 1.76s\n",
      "410:\tlearn: 0.3428827\ttotal: 1.23s\tremaining: 1.76s\n",
      "411:\tlearn: 0.3427031\ttotal: 1.23s\tremaining: 1.75s\n",
      "412:\tlearn: 0.3424941\ttotal: 1.23s\tremaining: 1.75s\n",
      "413:\tlearn: 0.3423475\ttotal: 1.24s\tremaining: 1.75s\n",
      "414:\tlearn: 0.3422765\ttotal: 1.24s\tremaining: 1.75s\n",
      "415:\tlearn: 0.3422568\ttotal: 1.24s\tremaining: 1.74s\n",
      "416:\tlearn: 0.3420657\ttotal: 1.25s\tremaining: 1.74s\n",
      "417:\tlearn: 0.3419359\ttotal: 1.25s\tremaining: 1.74s\n",
      "418:\tlearn: 0.3417423\ttotal: 1.25s\tremaining: 1.73s\n",
      "419:\tlearn: 0.3416560\ttotal: 1.25s\tremaining: 1.73s\n",
      "420:\tlearn: 0.3415029\ttotal: 1.25s\tremaining: 1.73s\n",
      "421:\tlearn: 0.3412946\ttotal: 1.26s\tremaining: 1.72s\n",
      "422:\tlearn: 0.3412093\ttotal: 1.26s\tremaining: 1.72s\n",
      "423:\tlearn: 0.3410911\ttotal: 1.26s\tremaining: 1.72s\n",
      "424:\tlearn: 0.3408612\ttotal: 1.27s\tremaining: 1.71s\n",
      "425:\tlearn: 0.3406801\ttotal: 1.27s\tremaining: 1.71s\n",
      "426:\tlearn: 0.3404735\ttotal: 1.27s\tremaining: 1.71s\n",
      "427:\tlearn: 0.3403628\ttotal: 1.27s\tremaining: 1.7s\n",
      "428:\tlearn: 0.3402210\ttotal: 1.28s\tremaining: 1.7s\n",
      "429:\tlearn: 0.3401462\ttotal: 1.28s\tremaining: 1.7s\n",
      "430:\tlearn: 0.3400481\ttotal: 1.28s\tremaining: 1.7s\n",
      "431:\tlearn: 0.3399728\ttotal: 1.29s\tremaining: 1.69s\n",
      "432:\tlearn: 0.3398689\ttotal: 1.29s\tremaining: 1.69s\n",
      "433:\tlearn: 0.3397720\ttotal: 1.29s\tremaining: 1.69s\n",
      "434:\tlearn: 0.3396339\ttotal: 1.29s\tremaining: 1.68s\n",
      "435:\tlearn: 0.3395600\ttotal: 1.3s\tremaining: 1.68s\n",
      "436:\tlearn: 0.3394097\ttotal: 1.3s\tremaining: 1.68s\n",
      "437:\tlearn: 0.3392995\ttotal: 1.3s\tremaining: 1.67s\n",
      "438:\tlearn: 0.3391324\ttotal: 1.31s\tremaining: 1.67s\n",
      "439:\tlearn: 0.3389737\ttotal: 1.31s\tremaining: 1.67s\n",
      "440:\tlearn: 0.3387200\ttotal: 1.31s\tremaining: 1.66s\n",
      "441:\tlearn: 0.3384798\ttotal: 1.31s\tremaining: 1.66s\n",
      "442:\tlearn: 0.3384128\ttotal: 1.32s\tremaining: 1.66s\n",
      "443:\tlearn: 0.3383389\ttotal: 1.32s\tremaining: 1.66s\n",
      "444:\tlearn: 0.3382683\ttotal: 1.32s\tremaining: 1.65s\n",
      "445:\tlearn: 0.3380949\ttotal: 1.33s\tremaining: 1.65s\n",
      "446:\tlearn: 0.3379394\ttotal: 1.33s\tremaining: 1.65s\n",
      "447:\tlearn: 0.3376863\ttotal: 1.33s\tremaining: 1.64s\n",
      "448:\tlearn: 0.3375616\ttotal: 1.33s\tremaining: 1.64s\n",
      "449:\tlearn: 0.3374026\ttotal: 1.34s\tremaining: 1.64s\n",
      "450:\tlearn: 0.3373002\ttotal: 1.34s\tremaining: 1.63s\n",
      "451:\tlearn: 0.3370904\ttotal: 1.34s\tremaining: 1.63s\n",
      "452:\tlearn: 0.3370119\ttotal: 1.35s\tremaining: 1.63s\n",
      "453:\tlearn: 0.3368732\ttotal: 1.35s\tremaining: 1.62s\n",
      "454:\tlearn: 0.3367082\ttotal: 1.35s\tremaining: 1.62s\n",
      "455:\tlearn: 0.3365581\ttotal: 1.36s\tremaining: 1.62s\n",
      "456:\tlearn: 0.3364464\ttotal: 1.36s\tremaining: 1.62s\n",
      "457:\tlearn: 0.3362681\ttotal: 1.36s\tremaining: 1.61s\n",
      "458:\tlearn: 0.3360191\ttotal: 1.37s\tremaining: 1.61s\n",
      "459:\tlearn: 0.3359666\ttotal: 1.37s\tremaining: 1.61s\n",
      "460:\tlearn: 0.3357214\ttotal: 1.37s\tremaining: 1.6s\n",
      "461:\tlearn: 0.3356297\ttotal: 1.38s\tremaining: 1.6s\n",
      "462:\tlearn: 0.3355813\ttotal: 1.38s\tremaining: 1.6s\n",
      "463:\tlearn: 0.3354679\ttotal: 1.38s\tremaining: 1.6s\n",
      "464:\tlearn: 0.3352686\ttotal: 1.39s\tremaining: 1.59s\n",
      "465:\tlearn: 0.3352457\ttotal: 1.39s\tremaining: 1.59s\n",
      "466:\tlearn: 0.3349793\ttotal: 1.39s\tremaining: 1.59s\n",
      "467:\tlearn: 0.3347613\ttotal: 1.39s\tremaining: 1.58s\n",
      "468:\tlearn: 0.3346915\ttotal: 1.4s\tremaining: 1.58s\n",
      "469:\tlearn: 0.3345875\ttotal: 1.4s\tremaining: 1.58s\n",
      "470:\tlearn: 0.3342618\ttotal: 1.4s\tremaining: 1.57s\n",
      "471:\tlearn: 0.3341213\ttotal: 1.4s\tremaining: 1.57s\n",
      "472:\tlearn: 0.3339770\ttotal: 1.41s\tremaining: 1.57s\n",
      "473:\tlearn: 0.3337800\ttotal: 1.41s\tremaining: 1.56s\n",
      "474:\tlearn: 0.3337152\ttotal: 1.41s\tremaining: 1.56s\n",
      "475:\tlearn: 0.3336890\ttotal: 1.41s\tremaining: 1.56s\n",
      "476:\tlearn: 0.3335493\ttotal: 1.42s\tremaining: 1.55s\n",
      "477:\tlearn: 0.3333624\ttotal: 1.42s\tremaining: 1.55s\n",
      "478:\tlearn: 0.3332592\ttotal: 1.42s\tremaining: 1.55s\n",
      "479:\tlearn: 0.3330961\ttotal: 1.43s\tremaining: 1.54s\n",
      "480:\tlearn: 0.3329054\ttotal: 1.43s\tremaining: 1.54s\n",
      "481:\tlearn: 0.3327544\ttotal: 1.43s\tremaining: 1.54s\n",
      "482:\tlearn: 0.3326994\ttotal: 1.43s\tremaining: 1.53s\n",
      "483:\tlearn: 0.3326732\ttotal: 1.43s\tremaining: 1.53s\n",
      "484:\tlearn: 0.3324917\ttotal: 1.44s\tremaining: 1.53s\n",
      "485:\tlearn: 0.3322660\ttotal: 1.44s\tremaining: 1.52s\n",
      "486:\tlearn: 0.3321508\ttotal: 1.44s\tremaining: 1.52s\n",
      "487:\tlearn: 0.3321234\ttotal: 1.45s\tremaining: 1.52s\n",
      "488:\tlearn: 0.3320197\ttotal: 1.45s\tremaining: 1.51s\n",
      "489:\tlearn: 0.3318969\ttotal: 1.45s\tremaining: 1.51s\n",
      "490:\tlearn: 0.3317398\ttotal: 1.46s\tremaining: 1.51s\n",
      "491:\tlearn: 0.3315199\ttotal: 1.46s\tremaining: 1.51s\n",
      "492:\tlearn: 0.3313507\ttotal: 1.46s\tremaining: 1.5s\n",
      "493:\tlearn: 0.3312304\ttotal: 1.47s\tremaining: 1.5s\n",
      "494:\tlearn: 0.3311874\ttotal: 1.47s\tremaining: 1.5s\n",
      "495:\tlearn: 0.3310168\ttotal: 1.47s\tremaining: 1.5s\n",
      "496:\tlearn: 0.3308212\ttotal: 1.48s\tremaining: 1.49s\n",
      "497:\tlearn: 0.3306688\ttotal: 1.48s\tremaining: 1.49s\n",
      "498:\tlearn: 0.3305011\ttotal: 1.48s\tremaining: 1.49s\n",
      "499:\tlearn: 0.3302281\ttotal: 1.48s\tremaining: 1.48s\n",
      "500:\tlearn: 0.3300444\ttotal: 1.49s\tremaining: 1.48s\n",
      "501:\tlearn: 0.3299508\ttotal: 1.49s\tremaining: 1.48s\n",
      "502:\tlearn: 0.3298331\ttotal: 1.49s\tremaining: 1.48s\n",
      "503:\tlearn: 0.3296015\ttotal: 1.5s\tremaining: 1.47s\n",
      "504:\tlearn: 0.3293979\ttotal: 1.5s\tremaining: 1.47s\n",
      "505:\tlearn: 0.3292056\ttotal: 1.5s\tremaining: 1.47s\n",
      "506:\tlearn: 0.3290671\ttotal: 1.51s\tremaining: 1.47s\n",
      "507:\tlearn: 0.3289778\ttotal: 1.51s\tremaining: 1.46s\n",
      "508:\tlearn: 0.3287884\ttotal: 1.51s\tremaining: 1.46s\n",
      "509:\tlearn: 0.3287431\ttotal: 1.52s\tremaining: 1.46s\n",
      "510:\tlearn: 0.3285171\ttotal: 1.52s\tremaining: 1.45s\n",
      "511:\tlearn: 0.3283649\ttotal: 1.52s\tremaining: 1.45s\n",
      "512:\tlearn: 0.3282546\ttotal: 1.52s\tremaining: 1.45s\n",
      "513:\tlearn: 0.3281109\ttotal: 1.53s\tremaining: 1.45s\n",
      "514:\tlearn: 0.3280245\ttotal: 1.53s\tremaining: 1.44s\n",
      "515:\tlearn: 0.3277546\ttotal: 1.53s\tremaining: 1.44s\n",
      "516:\tlearn: 0.3274503\ttotal: 1.54s\tremaining: 1.44s\n",
      "517:\tlearn: 0.3272567\ttotal: 1.54s\tremaining: 1.43s\n",
      "518:\tlearn: 0.3271477\ttotal: 1.54s\tremaining: 1.43s\n",
      "519:\tlearn: 0.3270254\ttotal: 1.54s\tremaining: 1.43s\n",
      "520:\tlearn: 0.3269372\ttotal: 1.55s\tremaining: 1.42s\n",
      "521:\tlearn: 0.3268571\ttotal: 1.55s\tremaining: 1.42s\n",
      "522:\tlearn: 0.3266708\ttotal: 1.55s\tremaining: 1.42s\n",
      "523:\tlearn: 0.3266020\ttotal: 1.56s\tremaining: 1.42s\n",
      "524:\tlearn: 0.3263276\ttotal: 1.56s\tremaining: 1.41s\n",
      "525:\tlearn: 0.3262291\ttotal: 1.56s\tremaining: 1.41s\n",
      "526:\tlearn: 0.3260966\ttotal: 1.57s\tremaining: 1.41s\n",
      "527:\tlearn: 0.3258978\ttotal: 1.57s\tremaining: 1.4s\n",
      "528:\tlearn: 0.3257484\ttotal: 1.57s\tremaining: 1.4s\n",
      "529:\tlearn: 0.3256109\ttotal: 1.57s\tremaining: 1.4s\n",
      "530:\tlearn: 0.3255007\ttotal: 1.58s\tremaining: 1.39s\n",
      "531:\tlearn: 0.3253915\ttotal: 1.58s\tremaining: 1.39s\n",
      "532:\tlearn: 0.3253111\ttotal: 1.58s\tremaining: 1.39s\n",
      "533:\tlearn: 0.3252789\ttotal: 1.58s\tremaining: 1.38s\n",
      "534:\tlearn: 0.3251859\ttotal: 1.59s\tremaining: 1.38s\n",
      "535:\tlearn: 0.3251203\ttotal: 1.59s\tremaining: 1.38s\n",
      "536:\tlearn: 0.3249634\ttotal: 1.59s\tremaining: 1.38s\n",
      "537:\tlearn: 0.3248296\ttotal: 1.6s\tremaining: 1.37s\n",
      "538:\tlearn: 0.3246960\ttotal: 1.6s\tremaining: 1.37s\n",
      "539:\tlearn: 0.3245915\ttotal: 1.6s\tremaining: 1.37s\n",
      "540:\tlearn: 0.3244677\ttotal: 1.61s\tremaining: 1.36s\n",
      "541:\tlearn: 0.3244293\ttotal: 1.61s\tremaining: 1.36s\n",
      "542:\tlearn: 0.3243303\ttotal: 1.61s\tremaining: 1.36s\n",
      "543:\tlearn: 0.3241184\ttotal: 1.61s\tremaining: 1.35s\n",
      "544:\tlearn: 0.3239925\ttotal: 1.62s\tremaining: 1.35s\n",
      "545:\tlearn: 0.3237914\ttotal: 1.62s\tremaining: 1.35s\n",
      "546:\tlearn: 0.3236330\ttotal: 1.62s\tremaining: 1.34s\n",
      "547:\tlearn: 0.3236126\ttotal: 1.63s\tremaining: 1.34s\n",
      "548:\tlearn: 0.3235498\ttotal: 1.63s\tremaining: 1.34s\n",
      "549:\tlearn: 0.3234697\ttotal: 1.63s\tremaining: 1.33s\n",
      "550:\tlearn: 0.3233798\ttotal: 1.63s\tremaining: 1.33s\n",
      "551:\tlearn: 0.3232770\ttotal: 1.64s\tremaining: 1.33s\n",
      "552:\tlearn: 0.3231782\ttotal: 1.64s\tremaining: 1.32s\n",
      "553:\tlearn: 0.3230604\ttotal: 1.64s\tremaining: 1.32s\n",
      "554:\tlearn: 0.3228948\ttotal: 1.64s\tremaining: 1.32s\n",
      "555:\tlearn: 0.3228262\ttotal: 1.65s\tremaining: 1.31s\n",
      "556:\tlearn: 0.3228074\ttotal: 1.65s\tremaining: 1.31s\n",
      "557:\tlearn: 0.3226524\ttotal: 1.65s\tremaining: 1.31s\n",
      "558:\tlearn: 0.3224609\ttotal: 1.66s\tremaining: 1.3s\n"
     ]
    },
    {
     "name": "stdout",
     "output_type": "stream",
     "text": [
      "559:\tlearn: 0.3223221\ttotal: 1.66s\tremaining: 1.3s\n",
      "560:\tlearn: 0.3221656\ttotal: 1.66s\tremaining: 1.3s\n",
      "561:\tlearn: 0.3220693\ttotal: 1.66s\tremaining: 1.3s\n",
      "562:\tlearn: 0.3218562\ttotal: 1.67s\tremaining: 1.29s\n",
      "563:\tlearn: 0.3216897\ttotal: 1.67s\tremaining: 1.29s\n",
      "564:\tlearn: 0.3215783\ttotal: 1.67s\tremaining: 1.29s\n",
      "565:\tlearn: 0.3214304\ttotal: 1.68s\tremaining: 1.28s\n",
      "566:\tlearn: 0.3212272\ttotal: 1.68s\tremaining: 1.28s\n",
      "567:\tlearn: 0.3211003\ttotal: 1.68s\tremaining: 1.28s\n",
      "568:\tlearn: 0.3209831\ttotal: 1.68s\tremaining: 1.27s\n",
      "569:\tlearn: 0.3208223\ttotal: 1.69s\tremaining: 1.27s\n",
      "570:\tlearn: 0.3206643\ttotal: 1.69s\tremaining: 1.27s\n",
      "571:\tlearn: 0.3205958\ttotal: 1.69s\tremaining: 1.26s\n",
      "572:\tlearn: 0.3204814\ttotal: 1.69s\tremaining: 1.26s\n",
      "573:\tlearn: 0.3203637\ttotal: 1.7s\tremaining: 1.26s\n",
      "574:\tlearn: 0.3203354\ttotal: 1.7s\tremaining: 1.26s\n",
      "575:\tlearn: 0.3201730\ttotal: 1.7s\tremaining: 1.25s\n",
      "576:\tlearn: 0.3200998\ttotal: 1.71s\tremaining: 1.25s\n",
      "577:\tlearn: 0.3200246\ttotal: 1.71s\tremaining: 1.25s\n",
      "578:\tlearn: 0.3199796\ttotal: 1.71s\tremaining: 1.25s\n",
      "579:\tlearn: 0.3198415\ttotal: 1.72s\tremaining: 1.24s\n",
      "580:\tlearn: 0.3197259\ttotal: 1.72s\tremaining: 1.24s\n",
      "581:\tlearn: 0.3197174\ttotal: 1.72s\tremaining: 1.24s\n",
      "582:\tlearn: 0.3196882\ttotal: 1.72s\tremaining: 1.23s\n",
      "583:\tlearn: 0.3195426\ttotal: 1.73s\tremaining: 1.23s\n",
      "584:\tlearn: 0.3195381\ttotal: 1.73s\tremaining: 1.23s\n",
      "585:\tlearn: 0.3194769\ttotal: 1.73s\tremaining: 1.22s\n",
      "586:\tlearn: 0.3193885\ttotal: 1.73s\tremaining: 1.22s\n",
      "587:\tlearn: 0.3192268\ttotal: 1.74s\tremaining: 1.22s\n",
      "588:\tlearn: 0.3190429\ttotal: 1.74s\tremaining: 1.21s\n",
      "589:\tlearn: 0.3189077\ttotal: 1.74s\tremaining: 1.21s\n",
      "590:\tlearn: 0.3187491\ttotal: 1.75s\tremaining: 1.21s\n",
      "591:\tlearn: 0.3187010\ttotal: 1.75s\tremaining: 1.21s\n",
      "592:\tlearn: 0.3186099\ttotal: 1.75s\tremaining: 1.2s\n",
      "593:\tlearn: 0.3184356\ttotal: 1.75s\tremaining: 1.2s\n",
      "594:\tlearn: 0.3183350\ttotal: 1.76s\tremaining: 1.2s\n",
      "595:\tlearn: 0.3181595\ttotal: 1.76s\tremaining: 1.19s\n",
      "596:\tlearn: 0.3179486\ttotal: 1.76s\tremaining: 1.19s\n",
      "597:\tlearn: 0.3178537\ttotal: 1.77s\tremaining: 1.19s\n",
      "598:\tlearn: 0.3177994\ttotal: 1.77s\tremaining: 1.18s\n",
      "599:\tlearn: 0.3176152\ttotal: 1.77s\tremaining: 1.18s\n",
      "600:\tlearn: 0.3176152\ttotal: 1.77s\tremaining: 1.18s\n",
      "601:\tlearn: 0.3174895\ttotal: 1.78s\tremaining: 1.17s\n",
      "602:\tlearn: 0.3173430\ttotal: 1.78s\tremaining: 1.17s\n",
      "603:\tlearn: 0.3171996\ttotal: 1.78s\tremaining: 1.17s\n",
      "604:\tlearn: 0.3169492\ttotal: 1.78s\tremaining: 1.17s\n",
      "605:\tlearn: 0.3167649\ttotal: 1.79s\tremaining: 1.16s\n",
      "606:\tlearn: 0.3167097\ttotal: 1.79s\tremaining: 1.16s\n",
      "607:\tlearn: 0.3166948\ttotal: 1.79s\tremaining: 1.16s\n",
      "608:\tlearn: 0.3166096\ttotal: 1.79s\tremaining: 1.15s\n",
      "609:\tlearn: 0.3164445\ttotal: 1.8s\tremaining: 1.15s\n",
      "610:\tlearn: 0.3163667\ttotal: 1.8s\tremaining: 1.15s\n",
      "611:\tlearn: 0.3162467\ttotal: 1.8s\tremaining: 1.14s\n",
      "612:\tlearn: 0.3160393\ttotal: 1.81s\tremaining: 1.14s\n",
      "613:\tlearn: 0.3159661\ttotal: 1.81s\tremaining: 1.14s\n",
      "614:\tlearn: 0.3158127\ttotal: 1.81s\tremaining: 1.13s\n",
      "615:\tlearn: 0.3158063\ttotal: 1.81s\tremaining: 1.13s\n",
      "616:\tlearn: 0.3156682\ttotal: 1.82s\tremaining: 1.13s\n",
      "617:\tlearn: 0.3156108\ttotal: 1.82s\tremaining: 1.12s\n",
      "618:\tlearn: 0.3154961\ttotal: 1.82s\tremaining: 1.12s\n",
      "619:\tlearn: 0.3153506\ttotal: 1.82s\tremaining: 1.12s\n",
      "620:\tlearn: 0.3152699\ttotal: 1.83s\tremaining: 1.12s\n",
      "621:\tlearn: 0.3151764\ttotal: 1.83s\tremaining: 1.11s\n",
      "622:\tlearn: 0.3150865\ttotal: 1.83s\tremaining: 1.11s\n",
      "623:\tlearn: 0.3150528\ttotal: 1.84s\tremaining: 1.11s\n",
      "624:\tlearn: 0.3149778\ttotal: 1.84s\tremaining: 1.1s\n",
      "625:\tlearn: 0.3148612\ttotal: 1.84s\tremaining: 1.1s\n",
      "626:\tlearn: 0.3147961\ttotal: 1.84s\tremaining: 1.1s\n",
      "627:\tlearn: 0.3146822\ttotal: 1.85s\tremaining: 1.09s\n",
      "628:\tlearn: 0.3146323\ttotal: 1.85s\tremaining: 1.09s\n",
      "629:\tlearn: 0.3146241\ttotal: 1.85s\tremaining: 1.09s\n",
      "630:\tlearn: 0.3146117\ttotal: 1.85s\tremaining: 1.08s\n",
      "631:\tlearn: 0.3144615\ttotal: 1.86s\tremaining: 1.08s\n",
      "632:\tlearn: 0.3142681\ttotal: 1.86s\tremaining: 1.08s\n",
      "633:\tlearn: 0.3141336\ttotal: 1.86s\tremaining: 1.08s\n",
      "634:\tlearn: 0.3140983\ttotal: 1.87s\tremaining: 1.07s\n",
      "635:\tlearn: 0.3139507\ttotal: 1.87s\tremaining: 1.07s\n",
      "636:\tlearn: 0.3138481\ttotal: 1.87s\tremaining: 1.07s\n",
      "637:\tlearn: 0.3136759\ttotal: 1.88s\tremaining: 1.06s\n",
      "638:\tlearn: 0.3136467\ttotal: 1.88s\tremaining: 1.06s\n",
      "639:\tlearn: 0.3136195\ttotal: 1.88s\tremaining: 1.06s\n",
      "640:\tlearn: 0.3135848\ttotal: 1.89s\tremaining: 1.06s\n",
      "641:\tlearn: 0.3135258\ttotal: 1.89s\tremaining: 1.05s\n",
      "642:\tlearn: 0.3134451\ttotal: 1.89s\tremaining: 1.05s\n",
      "643:\tlearn: 0.3132925\ttotal: 1.89s\tremaining: 1.05s\n",
      "644:\tlearn: 0.3131338\ttotal: 1.9s\tremaining: 1.04s\n",
      "645:\tlearn: 0.3130506\ttotal: 1.9s\tremaining: 1.04s\n",
      "646:\tlearn: 0.3128426\ttotal: 1.9s\tremaining: 1.04s\n",
      "647:\tlearn: 0.3126393\ttotal: 1.91s\tremaining: 1.03s\n",
      "648:\tlearn: 0.3125431\ttotal: 1.91s\tremaining: 1.03s\n",
      "649:\tlearn: 0.3123917\ttotal: 1.91s\tremaining: 1.03s\n",
      "650:\tlearn: 0.3123588\ttotal: 1.92s\tremaining: 1.03s\n",
      "651:\tlearn: 0.3122838\ttotal: 1.92s\tremaining: 1.02s\n",
      "652:\tlearn: 0.3121702\ttotal: 1.92s\tremaining: 1.02s\n",
      "653:\tlearn: 0.3120955\ttotal: 1.92s\tremaining: 1.02s\n",
      "654:\tlearn: 0.3120046\ttotal: 1.93s\tremaining: 1.01s\n",
      "655:\tlearn: 0.3118110\ttotal: 1.93s\tremaining: 1.01s\n",
      "656:\tlearn: 0.3117544\ttotal: 1.93s\tremaining: 1.01s\n",
      "657:\tlearn: 0.3116081\ttotal: 1.94s\tremaining: 1.01s\n",
      "658:\tlearn: 0.3115382\ttotal: 1.94s\tremaining: 1s\n",
      "659:\tlearn: 0.3114243\ttotal: 1.94s\tremaining: 1s\n",
      "660:\tlearn: 0.3113169\ttotal: 1.95s\tremaining: 998ms\n",
      "661:\tlearn: 0.3111562\ttotal: 1.95s\tremaining: 995ms\n",
      "662:\tlearn: 0.3110929\ttotal: 1.95s\tremaining: 992ms\n",
      "663:\tlearn: 0.3108625\ttotal: 1.95s\tremaining: 989ms\n",
      "664:\tlearn: 0.3107043\ttotal: 1.96s\tremaining: 986ms\n",
      "665:\tlearn: 0.3105722\ttotal: 1.96s\tremaining: 983ms\n",
      "666:\tlearn: 0.3104961\ttotal: 1.96s\tremaining: 980ms\n",
      "667:\tlearn: 0.3104774\ttotal: 1.96s\tremaining: 976ms\n",
      "668:\tlearn: 0.3104234\ttotal: 1.97s\tremaining: 973ms\n",
      "669:\tlearn: 0.3103844\ttotal: 1.97s\tremaining: 970ms\n",
      "670:\tlearn: 0.3102429\ttotal: 1.97s\tremaining: 967ms\n",
      "671:\tlearn: 0.3100529\ttotal: 1.98s\tremaining: 964ms\n",
      "672:\tlearn: 0.3099415\ttotal: 1.98s\tremaining: 961ms\n",
      "673:\tlearn: 0.3098565\ttotal: 1.98s\tremaining: 958ms\n",
      "674:\tlearn: 0.3096221\ttotal: 1.98s\tremaining: 955ms\n",
      "675:\tlearn: 0.3093263\ttotal: 1.99s\tremaining: 952ms\n",
      "676:\tlearn: 0.3092689\ttotal: 1.99s\tremaining: 949ms\n",
      "677:\tlearn: 0.3091883\ttotal: 1.99s\tremaining: 945ms\n",
      "678:\tlearn: 0.3090204\ttotal: 1.99s\tremaining: 941ms\n",
      "679:\tlearn: 0.3088531\ttotal: 1.99s\tremaining: 938ms\n",
      "680:\tlearn: 0.3087309\ttotal: 1.99s\tremaining: 934ms\n",
      "681:\tlearn: 0.3086184\ttotal: 2s\tremaining: 931ms\n",
      "682:\tlearn: 0.3085126\ttotal: 2s\tremaining: 927ms\n",
      "683:\tlearn: 0.3083381\ttotal: 2s\tremaining: 924ms\n",
      "684:\tlearn: 0.3082215\ttotal: 2s\tremaining: 920ms\n",
      "685:\tlearn: 0.3081598\ttotal: 2s\tremaining: 917ms\n",
      "686:\tlearn: 0.3079716\ttotal: 2s\tremaining: 913ms\n",
      "687:\tlearn: 0.3078980\ttotal: 2s\tremaining: 910ms\n",
      "688:\tlearn: 0.3077962\ttotal: 2.01s\tremaining: 906ms\n",
      "689:\tlearn: 0.3077144\ttotal: 2.01s\tremaining: 903ms\n",
      "690:\tlearn: 0.3076022\ttotal: 2.01s\tremaining: 899ms\n",
      "691:\tlearn: 0.3075454\ttotal: 2.01s\tremaining: 896ms\n",
      "692:\tlearn: 0.3074770\ttotal: 2.01s\tremaining: 892ms\n",
      "693:\tlearn: 0.3072809\ttotal: 2.02s\tremaining: 888ms\n",
      "694:\tlearn: 0.3072272\ttotal: 2.02s\tremaining: 885ms\n",
      "695:\tlearn: 0.3071455\ttotal: 2.02s\tremaining: 882ms\n",
      "696:\tlearn: 0.3070582\ttotal: 2.02s\tremaining: 878ms\n",
      "697:\tlearn: 0.3068325\ttotal: 2.02s\tremaining: 875ms\n",
      "698:\tlearn: 0.3067482\ttotal: 2.02s\tremaining: 871ms\n",
      "699:\tlearn: 0.3066393\ttotal: 2.02s\tremaining: 867ms\n",
      "700:\tlearn: 0.3065542\ttotal: 2.02s\tremaining: 864ms\n",
      "701:\tlearn: 0.3064651\ttotal: 2.03s\tremaining: 860ms\n",
      "702:\tlearn: 0.3063740\ttotal: 2.03s\tremaining: 857ms\n",
      "703:\tlearn: 0.3062551\ttotal: 2.03s\tremaining: 853ms\n",
      "704:\tlearn: 0.3061157\ttotal: 2.03s\tremaining: 850ms\n",
      "705:\tlearn: 0.3060042\ttotal: 2.03s\tremaining: 847ms\n",
      "706:\tlearn: 0.3059315\ttotal: 2.03s\tremaining: 843ms\n",
      "707:\tlearn: 0.3057702\ttotal: 2.04s\tremaining: 840ms\n",
      "708:\tlearn: 0.3057480\ttotal: 2.04s\tremaining: 836ms\n",
      "709:\tlearn: 0.3057097\ttotal: 2.04s\tremaining: 833ms\n",
      "710:\tlearn: 0.3055702\ttotal: 2.04s\tremaining: 829ms\n",
      "711:\tlearn: 0.3053941\ttotal: 2.04s\tremaining: 826ms\n",
      "712:\tlearn: 0.3052816\ttotal: 2.04s\tremaining: 822ms\n",
      "713:\tlearn: 0.3052408\ttotal: 2.04s\tremaining: 819ms\n",
      "714:\tlearn: 0.3051389\ttotal: 2.05s\tremaining: 816ms\n",
      "715:\tlearn: 0.3050517\ttotal: 2.05s\tremaining: 813ms\n",
      "716:\tlearn: 0.3049490\ttotal: 2.05s\tremaining: 809ms\n",
      "717:\tlearn: 0.3047649\ttotal: 2.05s\tremaining: 807ms\n",
      "718:\tlearn: 0.3046383\ttotal: 2.06s\tremaining: 803ms\n",
      "719:\tlearn: 0.3046013\ttotal: 2.06s\tremaining: 800ms\n",
      "720:\tlearn: 0.3045346\ttotal: 2.06s\tremaining: 797ms\n",
      "721:\tlearn: 0.3043366\ttotal: 2.06s\tremaining: 793ms\n",
      "722:\tlearn: 0.3042418\ttotal: 2.06s\tremaining: 790ms\n",
      "723:\tlearn: 0.3040788\ttotal: 2.06s\tremaining: 786ms\n",
      "724:\tlearn: 0.3039729\ttotal: 2.06s\tremaining: 783ms\n",
      "725:\tlearn: 0.3038216\ttotal: 2.06s\tremaining: 780ms\n",
      "726:\tlearn: 0.3037202\ttotal: 2.07s\tremaining: 776ms\n",
      "727:\tlearn: 0.3035703\ttotal: 2.07s\tremaining: 773ms\n",
      "728:\tlearn: 0.3034907\ttotal: 2.07s\tremaining: 769ms\n",
      "729:\tlearn: 0.3034370\ttotal: 2.07s\tremaining: 766ms\n",
      "730:\tlearn: 0.3033770\ttotal: 2.07s\tremaining: 763ms\n",
      "731:\tlearn: 0.3032921\ttotal: 2.08s\tremaining: 760ms\n",
      "732:\tlearn: 0.3031594\ttotal: 2.08s\tremaining: 757ms\n",
      "733:\tlearn: 0.3030041\ttotal: 2.08s\tremaining: 754ms\n",
      "734:\tlearn: 0.3028532\ttotal: 2.08s\tremaining: 750ms\n",
      "735:\tlearn: 0.3027072\ttotal: 2.08s\tremaining: 747ms\n",
      "736:\tlearn: 0.3024707\ttotal: 2.08s\tremaining: 744ms\n",
      "737:\tlearn: 0.3024627\ttotal: 2.09s\tremaining: 741ms\n",
      "738:\tlearn: 0.3023559\ttotal: 2.09s\tremaining: 737ms\n",
      "739:\tlearn: 0.3021587\ttotal: 2.09s\tremaining: 734ms\n",
      "740:\tlearn: 0.3019950\ttotal: 2.09s\tremaining: 731ms\n",
      "741:\tlearn: 0.3018876\ttotal: 2.09s\tremaining: 728ms\n",
      "742:\tlearn: 0.3016748\ttotal: 2.09s\tremaining: 724ms\n",
      "743:\tlearn: 0.3015606\ttotal: 2.1s\tremaining: 721ms\n",
      "744:\tlearn: 0.3014624\ttotal: 2.1s\tremaining: 719ms\n",
      "745:\tlearn: 0.3012566\ttotal: 2.1s\tremaining: 716ms\n",
      "746:\tlearn: 0.3011507\ttotal: 2.1s\tremaining: 712ms\n",
      "747:\tlearn: 0.3010126\ttotal: 2.1s\tremaining: 709ms\n",
      "748:\tlearn: 0.3007889\ttotal: 2.11s\tremaining: 706ms\n",
      "749:\tlearn: 0.3007233\ttotal: 2.11s\tremaining: 703ms\n",
      "750:\tlearn: 0.3006893\ttotal: 2.11s\tremaining: 699ms\n",
      "751:\tlearn: 0.3005349\ttotal: 2.11s\tremaining: 696ms\n",
      "752:\tlearn: 0.3004657\ttotal: 2.11s\tremaining: 693ms\n",
      "753:\tlearn: 0.3003677\ttotal: 2.11s\tremaining: 690ms\n",
      "754:\tlearn: 0.3003450\ttotal: 2.12s\tremaining: 686ms\n",
      "755:\tlearn: 0.3002799\ttotal: 2.12s\tremaining: 683ms\n",
      "756:\tlearn: 0.3000805\ttotal: 2.12s\tremaining: 680ms\n",
      "757:\tlearn: 0.2999875\ttotal: 2.12s\tremaining: 677ms\n",
      "758:\tlearn: 0.2998548\ttotal: 2.12s\tremaining: 674ms\n",
      "759:\tlearn: 0.2996931\ttotal: 2.12s\tremaining: 671ms\n",
      "760:\tlearn: 0.2995391\ttotal: 2.13s\tremaining: 667ms\n",
      "761:\tlearn: 0.2994488\ttotal: 2.13s\tremaining: 664ms\n",
      "762:\tlearn: 0.2993418\ttotal: 2.13s\tremaining: 661ms\n",
      "763:\tlearn: 0.2992021\ttotal: 2.13s\tremaining: 658ms\n",
      "764:\tlearn: 0.2991118\ttotal: 2.13s\tremaining: 655ms\n",
      "765:\tlearn: 0.2990487\ttotal: 2.13s\tremaining: 651ms\n",
      "766:\tlearn: 0.2990195\ttotal: 2.13s\tremaining: 648ms\n",
      "767:\tlearn: 0.2988713\ttotal: 2.13s\tremaining: 645ms\n",
      "768:\tlearn: 0.2987190\ttotal: 2.14s\tremaining: 642ms\n",
      "769:\tlearn: 0.2985872\ttotal: 2.14s\tremaining: 639ms\n",
      "770:\tlearn: 0.2984514\ttotal: 2.14s\tremaining: 636ms\n",
      "771:\tlearn: 0.2983519\ttotal: 2.14s\tremaining: 633ms\n",
      "772:\tlearn: 0.2982091\ttotal: 2.14s\tremaining: 629ms\n",
      "773:\tlearn: 0.2980479\ttotal: 2.14s\tremaining: 626ms\n"
     ]
    },
    {
     "name": "stdout",
     "output_type": "stream",
     "text": [
      "774:\tlearn: 0.2979913\ttotal: 2.15s\tremaining: 624ms\n",
      "775:\tlearn: 0.2978496\ttotal: 2.15s\tremaining: 621ms\n",
      "776:\tlearn: 0.2977184\ttotal: 2.15s\tremaining: 618ms\n",
      "777:\tlearn: 0.2976035\ttotal: 2.16s\tremaining: 615ms\n",
      "778:\tlearn: 0.2974203\ttotal: 2.16s\tremaining: 613ms\n",
      "779:\tlearn: 0.2972180\ttotal: 2.16s\tremaining: 610ms\n",
      "780:\tlearn: 0.2971212\ttotal: 2.17s\tremaining: 608ms\n",
      "781:\tlearn: 0.2968889\ttotal: 2.17s\tremaining: 605ms\n",
      "782:\tlearn: 0.2966994\ttotal: 2.17s\tremaining: 602ms\n",
      "783:\tlearn: 0.2965823\ttotal: 2.17s\tremaining: 599ms\n",
      "784:\tlearn: 0.2964777\ttotal: 2.18s\tremaining: 597ms\n",
      "785:\tlearn: 0.2962677\ttotal: 2.18s\tremaining: 594ms\n",
      "786:\tlearn: 0.2962143\ttotal: 2.19s\tremaining: 592ms\n",
      "787:\tlearn: 0.2960897\ttotal: 2.19s\tremaining: 589ms\n",
      "788:\tlearn: 0.2960584\ttotal: 2.19s\tremaining: 586ms\n",
      "789:\tlearn: 0.2959658\ttotal: 2.19s\tremaining: 583ms\n",
      "790:\tlearn: 0.2958915\ttotal: 2.2s\tremaining: 581ms\n",
      "791:\tlearn: 0.2957703\ttotal: 2.2s\tremaining: 578ms\n",
      "792:\tlearn: 0.2954702\ttotal: 2.2s\tremaining: 575ms\n",
      "793:\tlearn: 0.2953625\ttotal: 2.21s\tremaining: 572ms\n",
      "794:\tlearn: 0.2953145\ttotal: 2.21s\tremaining: 570ms\n",
      "795:\tlearn: 0.2952229\ttotal: 2.21s\tremaining: 567ms\n",
      "796:\tlearn: 0.2950999\ttotal: 2.21s\tremaining: 564ms\n",
      "797:\tlearn: 0.2949667\ttotal: 2.22s\tremaining: 562ms\n",
      "798:\tlearn: 0.2949054\ttotal: 2.22s\tremaining: 559ms\n",
      "799:\tlearn: 0.2947564\ttotal: 2.23s\tremaining: 556ms\n",
      "800:\tlearn: 0.2947073\ttotal: 2.23s\tremaining: 554ms\n",
      "801:\tlearn: 0.2945620\ttotal: 2.23s\tremaining: 551ms\n",
      "802:\tlearn: 0.2944215\ttotal: 2.23s\tremaining: 548ms\n",
      "803:\tlearn: 0.2943489\ttotal: 2.24s\tremaining: 545ms\n",
      "804:\tlearn: 0.2942660\ttotal: 2.24s\tremaining: 543ms\n",
      "805:\tlearn: 0.2942071\ttotal: 2.24s\tremaining: 540ms\n",
      "806:\tlearn: 0.2940776\ttotal: 2.25s\tremaining: 537ms\n",
      "807:\tlearn: 0.2939838\ttotal: 2.25s\tremaining: 534ms\n",
      "808:\tlearn: 0.2937821\ttotal: 2.25s\tremaining: 532ms\n",
      "809:\tlearn: 0.2936337\ttotal: 2.25s\tremaining: 529ms\n",
      "810:\tlearn: 0.2936202\ttotal: 2.25s\tremaining: 526ms\n",
      "811:\tlearn: 0.2934912\ttotal: 2.26s\tremaining: 523ms\n",
      "812:\tlearn: 0.2933307\ttotal: 2.26s\tremaining: 520ms\n",
      "813:\tlearn: 0.2932167\ttotal: 2.26s\tremaining: 517ms\n",
      "814:\tlearn: 0.2930946\ttotal: 2.27s\tremaining: 515ms\n",
      "815:\tlearn: 0.2930162\ttotal: 2.27s\tremaining: 512ms\n",
      "816:\tlearn: 0.2928121\ttotal: 2.27s\tremaining: 509ms\n",
      "817:\tlearn: 0.2927312\ttotal: 2.27s\tremaining: 506ms\n",
      "818:\tlearn: 0.2926714\ttotal: 2.28s\tremaining: 503ms\n",
      "819:\tlearn: 0.2925382\ttotal: 2.28s\tremaining: 501ms\n",
      "820:\tlearn: 0.2924319\ttotal: 2.28s\tremaining: 498ms\n",
      "821:\tlearn: 0.2923867\ttotal: 2.29s\tremaining: 495ms\n",
      "822:\tlearn: 0.2921198\ttotal: 2.29s\tremaining: 492ms\n",
      "823:\tlearn: 0.2919875\ttotal: 2.29s\tremaining: 490ms\n",
      "824:\tlearn: 0.2919286\ttotal: 2.29s\tremaining: 487ms\n",
      "825:\tlearn: 0.2918647\ttotal: 2.3s\tremaining: 484ms\n",
      "826:\tlearn: 0.2917909\ttotal: 2.3s\tremaining: 481ms\n",
      "827:\tlearn: 0.2916527\ttotal: 2.3s\tremaining: 478ms\n",
      "828:\tlearn: 0.2915010\ttotal: 2.31s\tremaining: 476ms\n",
      "829:\tlearn: 0.2913947\ttotal: 2.31s\tremaining: 473ms\n",
      "830:\tlearn: 0.2912873\ttotal: 2.31s\tremaining: 470ms\n",
      "831:\tlearn: 0.2911037\ttotal: 2.31s\tremaining: 467ms\n",
      "832:\tlearn: 0.2910110\ttotal: 2.32s\tremaining: 464ms\n",
      "833:\tlearn: 0.2908996\ttotal: 2.32s\tremaining: 462ms\n",
      "834:\tlearn: 0.2907816\ttotal: 2.32s\tremaining: 459ms\n",
      "835:\tlearn: 0.2906561\ttotal: 2.33s\tremaining: 456ms\n",
      "836:\tlearn: 0.2905850\ttotal: 2.33s\tremaining: 453ms\n",
      "837:\tlearn: 0.2904751\ttotal: 2.33s\tremaining: 451ms\n",
      "838:\tlearn: 0.2903245\ttotal: 2.33s\tremaining: 448ms\n",
      "839:\tlearn: 0.2902468\ttotal: 2.34s\tremaining: 445ms\n",
      "840:\tlearn: 0.2900598\ttotal: 2.34s\tremaining: 443ms\n",
      "841:\tlearn: 0.2899948\ttotal: 2.34s\tremaining: 440ms\n",
      "842:\tlearn: 0.2899521\ttotal: 2.35s\tremaining: 437ms\n",
      "843:\tlearn: 0.2897535\ttotal: 2.35s\tremaining: 434ms\n",
      "844:\tlearn: 0.2896757\ttotal: 2.35s\tremaining: 432ms\n",
      "845:\tlearn: 0.2894443\ttotal: 2.35s\tremaining: 429ms\n",
      "846:\tlearn: 0.2894038\ttotal: 2.36s\tremaining: 426ms\n",
      "847:\tlearn: 0.2892192\ttotal: 2.36s\tremaining: 424ms\n",
      "848:\tlearn: 0.2890688\ttotal: 2.37s\tremaining: 421ms\n",
      "849:\tlearn: 0.2889318\ttotal: 2.37s\tremaining: 418ms\n",
      "850:\tlearn: 0.2887531\ttotal: 2.37s\tremaining: 415ms\n",
      "851:\tlearn: 0.2886797\ttotal: 2.37s\tremaining: 413ms\n",
      "852:\tlearn: 0.2885752\ttotal: 2.38s\tremaining: 410ms\n",
      "853:\tlearn: 0.2884076\ttotal: 2.38s\tremaining: 407ms\n",
      "854:\tlearn: 0.2883323\ttotal: 2.38s\tremaining: 404ms\n",
      "855:\tlearn: 0.2881443\ttotal: 2.38s\tremaining: 401ms\n",
      "856:\tlearn: 0.2880046\ttotal: 2.39s\tremaining: 399ms\n",
      "857:\tlearn: 0.2878728\ttotal: 2.39s\tremaining: 396ms\n",
      "858:\tlearn: 0.2877809\ttotal: 2.39s\tremaining: 393ms\n",
      "859:\tlearn: 0.2875538\ttotal: 2.4s\tremaining: 390ms\n",
      "860:\tlearn: 0.2873830\ttotal: 2.4s\tremaining: 387ms\n",
      "861:\tlearn: 0.2871012\ttotal: 2.4s\tremaining: 385ms\n",
      "862:\tlearn: 0.2868914\ttotal: 2.4s\tremaining: 382ms\n",
      "863:\tlearn: 0.2868473\ttotal: 2.41s\tremaining: 379ms\n",
      "864:\tlearn: 0.2866989\ttotal: 2.41s\tremaining: 376ms\n",
      "865:\tlearn: 0.2865076\ttotal: 2.41s\tremaining: 373ms\n",
      "866:\tlearn: 0.2863050\ttotal: 2.42s\tremaining: 371ms\n",
      "867:\tlearn: 0.2862315\ttotal: 2.42s\tremaining: 368ms\n",
      "868:\tlearn: 0.2861136\ttotal: 2.42s\tremaining: 365ms\n",
      "869:\tlearn: 0.2858557\ttotal: 2.42s\tremaining: 362ms\n",
      "870:\tlearn: 0.2856744\ttotal: 2.43s\tremaining: 359ms\n",
      "871:\tlearn: 0.2855952\ttotal: 2.43s\tremaining: 357ms\n",
      "872:\tlearn: 0.2853461\ttotal: 2.43s\tremaining: 354ms\n",
      "873:\tlearn: 0.2851249\ttotal: 2.44s\tremaining: 351ms\n",
      "874:\tlearn: 0.2850299\ttotal: 2.44s\tremaining: 348ms\n",
      "875:\tlearn: 0.2848260\ttotal: 2.44s\tremaining: 345ms\n",
      "876:\tlearn: 0.2846902\ttotal: 2.44s\tremaining: 343ms\n",
      "877:\tlearn: 0.2846578\ttotal: 2.45s\tremaining: 340ms\n",
      "878:\tlearn: 0.2845570\ttotal: 2.45s\tremaining: 337ms\n",
      "879:\tlearn: 0.2844512\ttotal: 2.45s\tremaining: 334ms\n",
      "880:\tlearn: 0.2843577\ttotal: 2.45s\tremaining: 332ms\n",
      "881:\tlearn: 0.2842327\ttotal: 2.46s\tremaining: 329ms\n",
      "882:\tlearn: 0.2841276\ttotal: 2.46s\tremaining: 326ms\n",
      "883:\tlearn: 0.2838725\ttotal: 2.46s\tremaining: 323ms\n",
      "884:\tlearn: 0.2838443\ttotal: 2.47s\tremaining: 321ms\n",
      "885:\tlearn: 0.2837290\ttotal: 2.47s\tremaining: 318ms\n",
      "886:\tlearn: 0.2835785\ttotal: 2.47s\tremaining: 315ms\n",
      "887:\tlearn: 0.2834561\ttotal: 2.48s\tremaining: 312ms\n",
      "888:\tlearn: 0.2832815\ttotal: 2.48s\tremaining: 310ms\n",
      "889:\tlearn: 0.2831735\ttotal: 2.48s\tremaining: 307ms\n",
      "890:\tlearn: 0.2830302\ttotal: 2.49s\tremaining: 304ms\n",
      "891:\tlearn: 0.2828563\ttotal: 2.49s\tremaining: 302ms\n",
      "892:\tlearn: 0.2827208\ttotal: 2.5s\tremaining: 299ms\n",
      "893:\tlearn: 0.2825977\ttotal: 2.5s\tremaining: 296ms\n",
      "894:\tlearn: 0.2824594\ttotal: 2.5s\tremaining: 294ms\n",
      "895:\tlearn: 0.2823225\ttotal: 2.51s\tremaining: 291ms\n",
      "896:\tlearn: 0.2822377\ttotal: 2.51s\tremaining: 288ms\n",
      "897:\tlearn: 0.2821497\ttotal: 2.51s\tremaining: 285ms\n",
      "898:\tlearn: 0.2820600\ttotal: 2.52s\tremaining: 283ms\n",
      "899:\tlearn: 0.2819341\ttotal: 2.52s\tremaining: 280ms\n",
      "900:\tlearn: 0.2817223\ttotal: 2.52s\tremaining: 277ms\n",
      "901:\tlearn: 0.2815354\ttotal: 2.52s\tremaining: 274ms\n",
      "902:\tlearn: 0.2814130\ttotal: 2.52s\tremaining: 271ms\n",
      "903:\tlearn: 0.2813136\ttotal: 2.53s\tremaining: 269ms\n",
      "904:\tlearn: 0.2812551\ttotal: 2.53s\tremaining: 266ms\n",
      "905:\tlearn: 0.2810859\ttotal: 2.53s\tremaining: 263ms\n",
      "906:\tlearn: 0.2809853\ttotal: 2.54s\tremaining: 260ms\n",
      "907:\tlearn: 0.2808749\ttotal: 2.54s\tremaining: 257ms\n",
      "908:\tlearn: 0.2807378\ttotal: 2.54s\tremaining: 255ms\n",
      "909:\tlearn: 0.2806173\ttotal: 2.54s\tremaining: 252ms\n",
      "910:\tlearn: 0.2804668\ttotal: 2.55s\tremaining: 249ms\n",
      "911:\tlearn: 0.2803143\ttotal: 2.55s\tremaining: 246ms\n",
      "912:\tlearn: 0.2802429\ttotal: 2.56s\tremaining: 244ms\n",
      "913:\tlearn: 0.2801164\ttotal: 2.56s\tremaining: 241ms\n",
      "914:\tlearn: 0.2800262\ttotal: 2.56s\tremaining: 238ms\n",
      "915:\tlearn: 0.2798782\ttotal: 2.56s\tremaining: 235ms\n",
      "916:\tlearn: 0.2797602\ttotal: 2.57s\tremaining: 232ms\n",
      "917:\tlearn: 0.2796171\ttotal: 2.57s\tremaining: 230ms\n",
      "918:\tlearn: 0.2794594\ttotal: 2.57s\tremaining: 227ms\n",
      "919:\tlearn: 0.2793476\ttotal: 2.58s\tremaining: 224ms\n",
      "920:\tlearn: 0.2793438\ttotal: 2.58s\tremaining: 221ms\n",
      "921:\tlearn: 0.2791734\ttotal: 2.58s\tremaining: 219ms\n",
      "922:\tlearn: 0.2791352\ttotal: 2.59s\tremaining: 216ms\n",
      "923:\tlearn: 0.2790524\ttotal: 2.59s\tremaining: 213ms\n",
      "924:\tlearn: 0.2789213\ttotal: 2.59s\tremaining: 210ms\n",
      "925:\tlearn: 0.2786196\ttotal: 2.59s\tremaining: 207ms\n",
      "926:\tlearn: 0.2785379\ttotal: 2.6s\tremaining: 204ms\n",
      "927:\tlearn: 0.2784982\ttotal: 2.6s\tremaining: 202ms\n",
      "928:\tlearn: 0.2783802\ttotal: 2.6s\tremaining: 199ms\n",
      "929:\tlearn: 0.2782309\ttotal: 2.6s\tremaining: 196ms\n",
      "930:\tlearn: 0.2781251\ttotal: 2.61s\tremaining: 193ms\n",
      "931:\tlearn: 0.2779802\ttotal: 2.61s\tremaining: 190ms\n",
      "932:\tlearn: 0.2778540\ttotal: 2.61s\tremaining: 188ms\n",
      "933:\tlearn: 0.2778216\ttotal: 2.62s\tremaining: 185ms\n",
      "934:\tlearn: 0.2776831\ttotal: 2.62s\tremaining: 182ms\n",
      "935:\tlearn: 0.2775562\ttotal: 2.62s\tremaining: 179ms\n",
      "936:\tlearn: 0.2774619\ttotal: 2.63s\tremaining: 177ms\n",
      "937:\tlearn: 0.2774019\ttotal: 2.63s\tremaining: 174ms\n",
      "938:\tlearn: 0.2772504\ttotal: 2.63s\tremaining: 171ms\n",
      "939:\tlearn: 0.2771050\ttotal: 2.63s\tremaining: 168ms\n",
      "940:\tlearn: 0.2769712\ttotal: 2.64s\tremaining: 165ms\n",
      "941:\tlearn: 0.2768523\ttotal: 2.64s\tremaining: 162ms\n",
      "942:\tlearn: 0.2767778\ttotal: 2.64s\tremaining: 160ms\n",
      "943:\tlearn: 0.2766461\ttotal: 2.64s\tremaining: 157ms\n",
      "944:\tlearn: 0.2765308\ttotal: 2.65s\tremaining: 154ms\n"
     ]
    },
    {
     "name": "stdout",
     "output_type": "stream",
     "text": [
      "945:\tlearn: 0.2764079\ttotal: 2.65s\tremaining: 151ms\n",
      "946:\tlearn: 0.2763487\ttotal: 2.65s\tremaining: 149ms\n",
      "947:\tlearn: 0.2762363\ttotal: 2.66s\tremaining: 146ms\n",
      "948:\tlearn: 0.2761370\ttotal: 2.66s\tremaining: 143ms\n",
      "949:\tlearn: 0.2759726\ttotal: 2.66s\tremaining: 140ms\n",
      "950:\tlearn: 0.2759186\ttotal: 2.67s\tremaining: 137ms\n",
      "951:\tlearn: 0.2758258\ttotal: 2.67s\tremaining: 135ms\n",
      "952:\tlearn: 0.2755107\ttotal: 2.67s\tremaining: 132ms\n",
      "953:\tlearn: 0.2753830\ttotal: 2.67s\tremaining: 129ms\n",
      "954:\tlearn: 0.2752706\ttotal: 2.68s\tremaining: 126ms\n",
      "955:\tlearn: 0.2750585\ttotal: 2.68s\tremaining: 123ms\n",
      "956:\tlearn: 0.2749480\ttotal: 2.69s\tremaining: 121ms\n",
      "957:\tlearn: 0.2748565\ttotal: 2.69s\tremaining: 118ms\n",
      "958:\tlearn: 0.2747670\ttotal: 2.69s\tremaining: 115ms\n",
      "959:\tlearn: 0.2745929\ttotal: 2.7s\tremaining: 112ms\n",
      "960:\tlearn: 0.2745216\ttotal: 2.7s\tremaining: 110ms\n",
      "961:\tlearn: 0.2744288\ttotal: 2.7s\tremaining: 107ms\n",
      "962:\tlearn: 0.2743318\ttotal: 2.71s\tremaining: 104ms\n",
      "963:\tlearn: 0.2742461\ttotal: 2.71s\tremaining: 101ms\n",
      "964:\tlearn: 0.2741530\ttotal: 2.71s\tremaining: 98.3ms\n",
      "965:\tlearn: 0.2739714\ttotal: 2.71s\tremaining: 95.5ms\n",
      "966:\tlearn: 0.2739152\ttotal: 2.72s\tremaining: 92.8ms\n",
      "967:\tlearn: 0.2738108\ttotal: 2.72s\tremaining: 89.9ms\n",
      "968:\tlearn: 0.2737435\ttotal: 2.72s\tremaining: 87.1ms\n",
      "969:\tlearn: 0.2735363\ttotal: 2.73s\tremaining: 84.3ms\n",
      "970:\tlearn: 0.2734306\ttotal: 2.73s\tremaining: 81.5ms\n",
      "971:\tlearn: 0.2733058\ttotal: 2.73s\tremaining: 78.7ms\n",
      "972:\tlearn: 0.2731806\ttotal: 2.73s\tremaining: 75.9ms\n",
      "973:\tlearn: 0.2730569\ttotal: 2.74s\tremaining: 73.1ms\n",
      "974:\tlearn: 0.2729481\ttotal: 2.74s\tremaining: 70.3ms\n",
      "975:\tlearn: 0.2727535\ttotal: 2.75s\tremaining: 67.5ms\n",
      "976:\tlearn: 0.2725341\ttotal: 2.75s\tremaining: 64.7ms\n",
      "977:\tlearn: 0.2723052\ttotal: 2.75s\tremaining: 61.9ms\n",
      "978:\tlearn: 0.2721969\ttotal: 2.75s\tremaining: 59.1ms\n",
      "979:\tlearn: 0.2719965\ttotal: 2.76s\tremaining: 56.3ms\n",
      "980:\tlearn: 0.2718265\ttotal: 2.76s\tremaining: 53.4ms\n",
      "981:\tlearn: 0.2717187\ttotal: 2.76s\tremaining: 50.6ms\n",
      "982:\tlearn: 0.2716395\ttotal: 2.76s\tremaining: 47.8ms\n",
      "983:\tlearn: 0.2715396\ttotal: 2.77s\tremaining: 45ms\n",
      "984:\tlearn: 0.2714143\ttotal: 2.77s\tremaining: 42.2ms\n",
      "985:\tlearn: 0.2711873\ttotal: 2.77s\tremaining: 39.4ms\n",
      "986:\tlearn: 0.2711080\ttotal: 2.78s\tremaining: 36.6ms\n",
      "987:\tlearn: 0.2710125\ttotal: 2.78s\tremaining: 33.8ms\n",
      "988:\tlearn: 0.2709317\ttotal: 2.78s\tremaining: 30.9ms\n",
      "989:\tlearn: 0.2708159\ttotal: 2.78s\tremaining: 28.1ms\n",
      "990:\tlearn: 0.2706426\ttotal: 2.79s\tremaining: 25.3ms\n",
      "991:\tlearn: 0.2704678\ttotal: 2.79s\tremaining: 22.5ms\n",
      "992:\tlearn: 0.2702440\ttotal: 2.79s\tremaining: 19.7ms\n",
      "993:\tlearn: 0.2701346\ttotal: 2.79s\tremaining: 16.9ms\n",
      "994:\tlearn: 0.2700732\ttotal: 2.8s\tremaining: 14.1ms\n",
      "995:\tlearn: 0.2699098\ttotal: 2.8s\tremaining: 11.2ms\n",
      "996:\tlearn: 0.2696571\ttotal: 2.8s\tremaining: 8.44ms\n",
      "997:\tlearn: 0.2695061\ttotal: 2.81s\tremaining: 5.62ms\n",
      "998:\tlearn: 0.2692933\ttotal: 2.81s\tremaining: 2.81ms\n",
      "999:\tlearn: 0.2691147\ttotal: 2.81s\tremaining: 0us\n"
     ]
    }
   ],
   "source": [
    "# Non-Tree\n",
    "\n",
    "clf = CatBoostClassifier()\n",
    "clf.fit(x_ntree_train , y_ntree_train)\n",
    "prediction10 = clf.predict(test_ntree)"
   ]
  },
  {
   "cell_type": "code",
   "execution_count": 62,
   "metadata": {},
   "outputs": [
    {
     "name": "stdout",
     "output_type": "stream",
     "text": [
      "81.55\n",
      "84.49\n"
     ]
    }
   ],
   "source": [
    "score_train = cross_val_score(clf, x_ntree_train,y_ntree_train, cv=k_fold, n_jobs=-1, scoring=\"accuracy\")\n",
    "print (round(np.mean(score_train)*100,2))\n",
    "score_test = cross_val_score(clf, x_ntree_test,y_ntree_test, cv=k_fold, n_jobs=-1, scoring=\"accuracy\")\n",
    "print (round(np.mean(score_test)*100,2))"
   ]
  },
  {
   "cell_type": "code",
   "execution_count": null,
   "metadata": {},
   "outputs": [],
   "source": []
  },
  {
   "cell_type": "code",
   "execution_count": 161,
   "metadata": {
    "collapsed": true
   },
   "outputs": [
    {
     "name": "stdout",
     "output_type": "stream",
     "text": [
      "Learning rate set to 0.00826\n",
      "0:\tlearn: 0.6885000\ttotal: 3.4ms\tremaining: 3.4s\n",
      "1:\tlearn: 0.6835809\ttotal: 5.62ms\tremaining: 2.8s\n",
      "2:\tlearn: 0.6782997\ttotal: 7.67ms\tremaining: 2.55s\n",
      "3:\tlearn: 0.6732388\ttotal: 9.49ms\tremaining: 2.36s\n",
      "4:\tlearn: 0.6680710\ttotal: 10.8ms\tremaining: 2.15s\n",
      "5:\tlearn: 0.6628877\ttotal: 12.4ms\tremaining: 2.05s\n",
      "6:\tlearn: 0.6584000\ttotal: 14ms\tremaining: 1.99s\n",
      "7:\tlearn: 0.6543300\ttotal: 15.2ms\tremaining: 1.88s\n",
      "8:\tlearn: 0.6501759\ttotal: 16.4ms\tremaining: 1.81s\n",
      "9:\tlearn: 0.6455409\ttotal: 18.1ms\tremaining: 1.79s\n",
      "10:\tlearn: 0.6405986\ttotal: 19.8ms\tremaining: 1.78s\n",
      "11:\tlearn: 0.6381590\ttotal: 20.6ms\tremaining: 1.7s\n",
      "12:\tlearn: 0.6350616\ttotal: 22.4ms\tremaining: 1.7s\n",
      "13:\tlearn: 0.6307801\ttotal: 24.6ms\tremaining: 1.74s\n",
      "14:\tlearn: 0.6262502\ttotal: 26.5ms\tremaining: 1.74s\n",
      "15:\tlearn: 0.6229943\ttotal: 27.9ms\tremaining: 1.72s\n",
      "16:\tlearn: 0.6194032\ttotal: 29.7ms\tremaining: 1.72s\n",
      "17:\tlearn: 0.6160209\ttotal: 30.5ms\tremaining: 1.67s\n",
      "18:\tlearn: 0.6122133\ttotal: 32.3ms\tremaining: 1.67s\n",
      "19:\tlearn: 0.6085379\ttotal: 34.6ms\tremaining: 1.7s\n",
      "20:\tlearn: 0.6049463\ttotal: 36.6ms\tremaining: 1.71s\n",
      "21:\tlearn: 0.6014460\ttotal: 38ms\tremaining: 1.69s\n",
      "22:\tlearn: 0.5988684\ttotal: 39.5ms\tremaining: 1.68s\n",
      "23:\tlearn: 0.5948810\ttotal: 41.1ms\tremaining: 1.67s\n",
      "24:\tlearn: 0.5915106\ttotal: 43.4ms\tremaining: 1.69s\n",
      "25:\tlearn: 0.5884124\ttotal: 44.6ms\tremaining: 1.67s\n",
      "26:\tlearn: 0.5852594\ttotal: 46.3ms\tremaining: 1.67s\n",
      "27:\tlearn: 0.5827672\ttotal: 47.2ms\tremaining: 1.64s\n",
      "28:\tlearn: 0.5796160\ttotal: 48.9ms\tremaining: 1.64s\n",
      "29:\tlearn: 0.5773990\ttotal: 50.2ms\tremaining: 1.62s\n",
      "30:\tlearn: 0.5739937\ttotal: 51.8ms\tremaining: 1.62s\n",
      "31:\tlearn: 0.5701990\ttotal: 53.4ms\tremaining: 1.62s\n",
      "32:\tlearn: 0.5674873\ttotal: 55.1ms\tremaining: 1.61s\n",
      "33:\tlearn: 0.5646267\ttotal: 57.4ms\tremaining: 1.63s\n",
      "34:\tlearn: 0.5618091\ttotal: 59.2ms\tremaining: 1.63s\n",
      "35:\tlearn: 0.5600870\ttotal: 60ms\tremaining: 1.61s\n",
      "36:\tlearn: 0.5573255\ttotal: 61.7ms\tremaining: 1.6s\n",
      "37:\tlearn: 0.5548871\ttotal: 64.7ms\tremaining: 1.64s\n",
      "38:\tlearn: 0.5524568\ttotal: 65.8ms\tremaining: 1.62s\n",
      "39:\tlearn: 0.5493212\ttotal: 67.5ms\tremaining: 1.62s\n",
      "40:\tlearn: 0.5465065\ttotal: 69.1ms\tremaining: 1.62s\n",
      "41:\tlearn: 0.5447469\ttotal: 70.1ms\tremaining: 1.6s\n",
      "42:\tlearn: 0.5428180\ttotal: 70.9ms\tremaining: 1.58s\n",
      "43:\tlearn: 0.5405094\ttotal: 72.5ms\tremaining: 1.57s\n",
      "44:\tlearn: 0.5380704\ttotal: 74.2ms\tremaining: 1.57s\n",
      "45:\tlearn: 0.5356064\ttotal: 76.4ms\tremaining: 1.58s\n",
      "46:\tlearn: 0.5340811\ttotal: 77.9ms\tremaining: 1.58s\n",
      "47:\tlearn: 0.5315859\ttotal: 79.7ms\tremaining: 1.58s\n",
      "48:\tlearn: 0.5292862\ttotal: 81.3ms\tremaining: 1.58s\n",
      "49:\tlearn: 0.5276527\ttotal: 82.8ms\tremaining: 1.57s\n",
      "50:\tlearn: 0.5252313\ttotal: 84.6ms\tremaining: 1.57s\n",
      "51:\tlearn: 0.5231911\ttotal: 86.9ms\tremaining: 1.58s\n",
      "52:\tlearn: 0.5208695\ttotal: 90.5ms\tremaining: 1.62s\n",
      "53:\tlearn: 0.5198282\ttotal: 91.3ms\tremaining: 1.6s\n",
      "54:\tlearn: 0.5181252\ttotal: 92.1ms\tremaining: 1.58s\n",
      "55:\tlearn: 0.5158503\ttotal: 93.8ms\tremaining: 1.58s\n",
      "56:\tlearn: 0.5144031\ttotal: 95.2ms\tremaining: 1.57s\n",
      "57:\tlearn: 0.5130818\ttotal: 96.6ms\tremaining: 1.57s\n",
      "58:\tlearn: 0.5113917\ttotal: 98ms\tremaining: 1.56s\n",
      "59:\tlearn: 0.5103515\ttotal: 99.1ms\tremaining: 1.55s\n",
      "60:\tlearn: 0.5079184\ttotal: 101ms\tremaining: 1.55s\n",
      "61:\tlearn: 0.5056123\ttotal: 103ms\tremaining: 1.56s\n",
      "62:\tlearn: 0.5040489\ttotal: 104ms\tremaining: 1.55s\n",
      "63:\tlearn: 0.5026143\ttotal: 105ms\tremaining: 1.54s\n",
      "64:\tlearn: 0.5010590\ttotal: 107ms\tremaining: 1.53s\n",
      "65:\tlearn: 0.4991808\ttotal: 108ms\tremaining: 1.53s\n",
      "66:\tlearn: 0.4973661\ttotal: 110ms\tremaining: 1.53s\n",
      "67:\tlearn: 0.4956854\ttotal: 112ms\tremaining: 1.53s\n",
      "68:\tlearn: 0.4941371\ttotal: 114ms\tremaining: 1.53s\n",
      "69:\tlearn: 0.4924099\ttotal: 116ms\tremaining: 1.53s\n",
      "70:\tlearn: 0.4909112\ttotal: 118ms\tremaining: 1.54s\n",
      "71:\tlearn: 0.4894726\ttotal: 119ms\tremaining: 1.53s\n",
      "72:\tlearn: 0.4877814\ttotal: 121ms\tremaining: 1.54s\n",
      "73:\tlearn: 0.4864987\ttotal: 123ms\tremaining: 1.53s\n",
      "74:\tlearn: 0.4854390\ttotal: 124ms\tremaining: 1.53s\n",
      "75:\tlearn: 0.4845998\ttotal: 125ms\tremaining: 1.52s\n",
      "76:\tlearn: 0.4826992\ttotal: 127ms\tremaining: 1.52s\n",
      "77:\tlearn: 0.4813639\ttotal: 129ms\tremaining: 1.52s\n",
      "78:\tlearn: 0.4802853\ttotal: 130ms\tremaining: 1.52s\n",
      "79:\tlearn: 0.4786355\ttotal: 133ms\tremaining: 1.53s\n",
      "80:\tlearn: 0.4769362\ttotal: 135ms\tremaining: 1.53s\n",
      "81:\tlearn: 0.4756535\ttotal: 136ms\tremaining: 1.52s\n",
      "82:\tlearn: 0.4746396\ttotal: 137ms\tremaining: 1.52s\n",
      "83:\tlearn: 0.4730706\ttotal: 139ms\tremaining: 1.52s\n",
      "84:\tlearn: 0.4715986\ttotal: 141ms\tremaining: 1.52s\n",
      "85:\tlearn: 0.4705276\ttotal: 142ms\tremaining: 1.51s\n",
      "86:\tlearn: 0.4691756\ttotal: 144ms\tremaining: 1.51s\n",
      "87:\tlearn: 0.4676561\ttotal: 146ms\tremaining: 1.51s\n",
      "88:\tlearn: 0.4661315\ttotal: 147ms\tremaining: 1.51s\n",
      "89:\tlearn: 0.4651474\ttotal: 149ms\tremaining: 1.5s\n",
      "90:\tlearn: 0.4637220\ttotal: 150ms\tremaining: 1.5s\n",
      "91:\tlearn: 0.4623363\ttotal: 152ms\tremaining: 1.5s\n",
      "92:\tlearn: 0.4606402\ttotal: 154ms\tremaining: 1.5s\n",
      "93:\tlearn: 0.4599270\ttotal: 155ms\tremaining: 1.49s\n",
      "94:\tlearn: 0.4585939\ttotal: 156ms\tremaining: 1.49s\n",
      "95:\tlearn: 0.4580205\ttotal: 158ms\tremaining: 1.49s\n",
      "96:\tlearn: 0.4568648\ttotal: 160ms\tremaining: 1.49s\n",
      "97:\tlearn: 0.4556976\ttotal: 162ms\tremaining: 1.49s\n",
      "98:\tlearn: 0.4546090\ttotal: 164ms\tremaining: 1.49s\n",
      "99:\tlearn: 0.4533956\ttotal: 166ms\tremaining: 1.49s\n",
      "100:\tlearn: 0.4521431\ttotal: 168ms\tremaining: 1.49s\n",
      "101:\tlearn: 0.4511693\ttotal: 169ms\tremaining: 1.49s\n",
      "102:\tlearn: 0.4507748\ttotal: 170ms\tremaining: 1.48s\n",
      "103:\tlearn: 0.4497703\ttotal: 172ms\tremaining: 1.48s\n",
      "104:\tlearn: 0.4485962\ttotal: 174ms\tremaining: 1.48s\n",
      "105:\tlearn: 0.4475435\ttotal: 176ms\tremaining: 1.48s\n",
      "106:\tlearn: 0.4470006\ttotal: 177ms\tremaining: 1.48s\n",
      "107:\tlearn: 0.4465994\ttotal: 178ms\tremaining: 1.47s\n",
      "108:\tlearn: 0.4454936\ttotal: 181ms\tremaining: 1.48s\n",
      "109:\tlearn: 0.4442780\ttotal: 183ms\tremaining: 1.48s\n",
      "110:\tlearn: 0.4434032\ttotal: 185ms\tremaining: 1.48s\n",
      "111:\tlearn: 0.4427502\ttotal: 187ms\tremaining: 1.48s\n",
      "112:\tlearn: 0.4420524\ttotal: 188ms\tremaining: 1.48s\n",
      "113:\tlearn: 0.4410738\ttotal: 190ms\tremaining: 1.48s\n",
      "114:\tlearn: 0.4405182\ttotal: 192ms\tremaining: 1.48s\n",
      "115:\tlearn: 0.4397514\ttotal: 194ms\tremaining: 1.48s\n",
      "116:\tlearn: 0.4390362\ttotal: 196ms\tremaining: 1.48s\n",
      "117:\tlearn: 0.4379698\ttotal: 198ms\tremaining: 1.48s\n",
      "118:\tlearn: 0.4370737\ttotal: 200ms\tremaining: 1.48s\n",
      "119:\tlearn: 0.4367181\ttotal: 201ms\tremaining: 1.47s\n",
      "120:\tlearn: 0.4360929\ttotal: 202ms\tremaining: 1.47s\n",
      "121:\tlearn: 0.4357777\ttotal: 203ms\tremaining: 1.46s\n",
      "122:\tlearn: 0.4348218\ttotal: 205ms\tremaining: 1.46s\n",
      "123:\tlearn: 0.4342119\ttotal: 207ms\tremaining: 1.46s\n",
      "124:\tlearn: 0.4330633\ttotal: 209ms\tremaining: 1.46s\n",
      "125:\tlearn: 0.4323938\ttotal: 211ms\tremaining: 1.46s\n",
      "126:\tlearn: 0.4314177\ttotal: 213ms\tremaining: 1.47s\n",
      "127:\tlearn: 0.4303403\ttotal: 215ms\tremaining: 1.47s\n",
      "128:\tlearn: 0.4295425\ttotal: 218ms\tremaining: 1.47s\n",
      "129:\tlearn: 0.4288010\ttotal: 220ms\tremaining: 1.47s\n",
      "130:\tlearn: 0.4278430\ttotal: 222ms\tremaining: 1.47s\n",
      "131:\tlearn: 0.4275315\ttotal: 224ms\tremaining: 1.47s\n",
      "132:\tlearn: 0.4268450\ttotal: 226ms\tremaining: 1.48s\n",
      "133:\tlearn: 0.4259938\ttotal: 229ms\tremaining: 1.48s\n",
      "134:\tlearn: 0.4252693\ttotal: 231ms\tremaining: 1.48s\n",
      "135:\tlearn: 0.4246738\ttotal: 233ms\tremaining: 1.48s\n",
      "136:\tlearn: 0.4243123\ttotal: 234ms\tremaining: 1.48s\n",
      "137:\tlearn: 0.4238366\ttotal: 236ms\tremaining: 1.48s\n",
      "138:\tlearn: 0.4232034\ttotal: 238ms\tremaining: 1.48s\n",
      "139:\tlearn: 0.4227732\ttotal: 240ms\tremaining: 1.48s\n",
      "140:\tlearn: 0.4221470\ttotal: 242ms\tremaining: 1.48s\n",
      "141:\tlearn: 0.4216632\ttotal: 245ms\tremaining: 1.48s\n",
      "142:\tlearn: 0.4214029\ttotal: 246ms\tremaining: 1.48s\n",
      "143:\tlearn: 0.4206979\ttotal: 248ms\tremaining: 1.48s\n",
      "144:\tlearn: 0.4202678\ttotal: 250ms\tremaining: 1.47s\n",
      "145:\tlearn: 0.4194467\ttotal: 252ms\tremaining: 1.47s\n",
      "146:\tlearn: 0.4186460\ttotal: 254ms\tremaining: 1.47s\n",
      "147:\tlearn: 0.4179868\ttotal: 256ms\tremaining: 1.47s\n",
      "148:\tlearn: 0.4171106\ttotal: 258ms\tremaining: 1.47s\n",
      "149:\tlearn: 0.4165991\ttotal: 260ms\tremaining: 1.47s\n",
      "150:\tlearn: 0.4158236\ttotal: 261ms\tremaining: 1.47s\n",
      "151:\tlearn: 0.4155156\ttotal: 263ms\tremaining: 1.47s\n",
      "152:\tlearn: 0.4148576\ttotal: 265ms\tremaining: 1.47s\n",
      "153:\tlearn: 0.4143887\ttotal: 268ms\tremaining: 1.47s\n",
      "154:\tlearn: 0.4139361\ttotal: 269ms\tremaining: 1.47s\n",
      "155:\tlearn: 0.4132897\ttotal: 271ms\tremaining: 1.47s\n",
      "156:\tlearn: 0.4126382\ttotal: 274ms\tremaining: 1.47s\n",
      "157:\tlearn: 0.4119771\ttotal: 276ms\tremaining: 1.47s\n",
      "158:\tlearn: 0.4116988\ttotal: 277ms\tremaining: 1.47s\n",
      "159:\tlearn: 0.4111089\ttotal: 279ms\tremaining: 1.46s\n",
      "160:\tlearn: 0.4106689\ttotal: 281ms\tremaining: 1.46s\n",
      "161:\tlearn: 0.4099778\ttotal: 283ms\tremaining: 1.46s\n",
      "162:\tlearn: 0.4097819\ttotal: 284ms\tremaining: 1.46s\n",
      "163:\tlearn: 0.4090830\ttotal: 286ms\tremaining: 1.46s\n",
      "164:\tlearn: 0.4087173\ttotal: 288ms\tremaining: 1.46s\n",
      "165:\tlearn: 0.4081489\ttotal: 290ms\tremaining: 1.45s\n",
      "166:\tlearn: 0.4075997\ttotal: 291ms\tremaining: 1.45s\n",
      "167:\tlearn: 0.4071497\ttotal: 293ms\tremaining: 1.45s\n",
      "168:\tlearn: 0.4068720\ttotal: 295ms\tremaining: 1.45s\n",
      "169:\tlearn: 0.4064850\ttotal: 297ms\tremaining: 1.45s\n",
      "170:\tlearn: 0.4058111\ttotal: 299ms\tremaining: 1.45s\n",
      "171:\tlearn: 0.4052656\ttotal: 301ms\tremaining: 1.45s\n",
      "172:\tlearn: 0.4048641\ttotal: 303ms\tremaining: 1.45s\n",
      "173:\tlearn: 0.4041742\ttotal: 305ms\tremaining: 1.45s\n",
      "174:\tlearn: 0.4034250\ttotal: 307ms\tremaining: 1.45s\n",
      "175:\tlearn: 0.4030372\ttotal: 309ms\tremaining: 1.45s\n",
      "176:\tlearn: 0.4025615\ttotal: 311ms\tremaining: 1.45s\n"
     ]
    },
    {
     "name": "stdout",
     "output_type": "stream",
     "text": [
      "177:\tlearn: 0.4020162\ttotal: 313ms\tremaining: 1.45s\n",
      "178:\tlearn: 0.4019376\ttotal: 314ms\tremaining: 1.44s\n",
      "179:\tlearn: 0.4015796\ttotal: 316ms\tremaining: 1.44s\n",
      "180:\tlearn: 0.4009850\ttotal: 319ms\tremaining: 1.44s\n",
      "181:\tlearn: 0.4004877\ttotal: 321ms\tremaining: 1.44s\n",
      "182:\tlearn: 0.4000917\ttotal: 323ms\tremaining: 1.44s\n",
      "183:\tlearn: 0.3994501\ttotal: 324ms\tremaining: 1.44s\n",
      "184:\tlearn: 0.3989501\ttotal: 326ms\tremaining: 1.44s\n",
      "185:\tlearn: 0.3985252\ttotal: 329ms\tremaining: 1.44s\n",
      "186:\tlearn: 0.3982538\ttotal: 331ms\tremaining: 1.44s\n",
      "187:\tlearn: 0.3979112\ttotal: 333ms\tremaining: 1.44s\n",
      "188:\tlearn: 0.3975661\ttotal: 335ms\tremaining: 1.44s\n",
      "189:\tlearn: 0.3971624\ttotal: 337ms\tremaining: 1.43s\n",
      "190:\tlearn: 0.3966039\ttotal: 339ms\tremaining: 1.43s\n",
      "191:\tlearn: 0.3960823\ttotal: 341ms\tremaining: 1.43s\n",
      "192:\tlearn: 0.3956575\ttotal: 343ms\tremaining: 1.43s\n",
      "193:\tlearn: 0.3952301\ttotal: 345ms\tremaining: 1.43s\n",
      "194:\tlearn: 0.3948153\ttotal: 347ms\tremaining: 1.43s\n",
      "195:\tlearn: 0.3943041\ttotal: 349ms\tremaining: 1.43s\n",
      "196:\tlearn: 0.3937724\ttotal: 351ms\tremaining: 1.43s\n",
      "197:\tlearn: 0.3931173\ttotal: 353ms\tremaining: 1.43s\n",
      "198:\tlearn: 0.3926336\ttotal: 355ms\tremaining: 1.43s\n",
      "199:\tlearn: 0.3919973\ttotal: 357ms\tremaining: 1.43s\n",
      "200:\tlearn: 0.3919109\ttotal: 358ms\tremaining: 1.42s\n",
      "201:\tlearn: 0.3913663\ttotal: 360ms\tremaining: 1.42s\n",
      "202:\tlearn: 0.3909552\ttotal: 362ms\tremaining: 1.42s\n",
      "203:\tlearn: 0.3905019\ttotal: 364ms\tremaining: 1.42s\n",
      "204:\tlearn: 0.3903257\ttotal: 366ms\tremaining: 1.42s\n",
      "205:\tlearn: 0.3900162\ttotal: 368ms\tremaining: 1.42s\n",
      "206:\tlearn: 0.3896277\ttotal: 371ms\tremaining: 1.42s\n",
      "207:\tlearn: 0.3893370\ttotal: 373ms\tremaining: 1.42s\n",
      "208:\tlearn: 0.3891645\ttotal: 375ms\tremaining: 1.42s\n",
      "209:\tlearn: 0.3889171\ttotal: 378ms\tremaining: 1.42s\n",
      "210:\tlearn: 0.3887271\ttotal: 380ms\tremaining: 1.42s\n",
      "211:\tlearn: 0.3884109\ttotal: 382ms\tremaining: 1.42s\n",
      "212:\tlearn: 0.3879686\ttotal: 384ms\tremaining: 1.42s\n",
      "213:\tlearn: 0.3876142\ttotal: 386ms\tremaining: 1.42s\n",
      "214:\tlearn: 0.3872254\ttotal: 388ms\tremaining: 1.42s\n",
      "215:\tlearn: 0.3867351\ttotal: 390ms\tremaining: 1.42s\n",
      "216:\tlearn: 0.3863957\ttotal: 392ms\tremaining: 1.42s\n",
      "217:\tlearn: 0.3863384\ttotal: 393ms\tremaining: 1.41s\n",
      "218:\tlearn: 0.3862195\ttotal: 395ms\tremaining: 1.41s\n",
      "219:\tlearn: 0.3859065\ttotal: 397ms\tremaining: 1.41s\n",
      "220:\tlearn: 0.3857647\ttotal: 399ms\tremaining: 1.41s\n",
      "221:\tlearn: 0.3853697\ttotal: 401ms\tremaining: 1.41s\n",
      "222:\tlearn: 0.3848984\ttotal: 403ms\tremaining: 1.4s\n",
      "223:\tlearn: 0.3848529\ttotal: 404ms\tremaining: 1.4s\n",
      "224:\tlearn: 0.3844338\ttotal: 406ms\tremaining: 1.4s\n",
      "225:\tlearn: 0.3840688\ttotal: 408ms\tremaining: 1.4s\n",
      "226:\tlearn: 0.3837548\ttotal: 410ms\tremaining: 1.4s\n",
      "227:\tlearn: 0.3833629\ttotal: 412ms\tremaining: 1.39s\n",
      "228:\tlearn: 0.3831292\ttotal: 414ms\tremaining: 1.39s\n",
      "229:\tlearn: 0.3827448\ttotal: 416ms\tremaining: 1.39s\n",
      "230:\tlearn: 0.3827036\ttotal: 417ms\tremaining: 1.39s\n",
      "231:\tlearn: 0.3824105\ttotal: 419ms\tremaining: 1.39s\n",
      "232:\tlearn: 0.3820626\ttotal: 421ms\tremaining: 1.39s\n",
      "233:\tlearn: 0.3817649\ttotal: 423ms\tremaining: 1.38s\n",
      "234:\tlearn: 0.3814685\ttotal: 425ms\tremaining: 1.38s\n",
      "235:\tlearn: 0.3814155\ttotal: 426ms\tremaining: 1.38s\n",
      "236:\tlearn: 0.3812030\ttotal: 428ms\tremaining: 1.38s\n",
      "237:\tlearn: 0.3806779\ttotal: 430ms\tremaining: 1.38s\n",
      "238:\tlearn: 0.3805040\ttotal: 432ms\tremaining: 1.37s\n",
      "239:\tlearn: 0.3801655\ttotal: 433ms\tremaining: 1.37s\n",
      "240:\tlearn: 0.3800725\ttotal: 435ms\tremaining: 1.37s\n",
      "241:\tlearn: 0.3796843\ttotal: 437ms\tremaining: 1.37s\n",
      "242:\tlearn: 0.3791942\ttotal: 439ms\tremaining: 1.37s\n",
      "243:\tlearn: 0.3787353\ttotal: 441ms\tremaining: 1.37s\n",
      "244:\tlearn: 0.3784909\ttotal: 443ms\tremaining: 1.37s\n",
      "245:\tlearn: 0.3781851\ttotal: 446ms\tremaining: 1.37s\n",
      "246:\tlearn: 0.3779911\ttotal: 448ms\tremaining: 1.36s\n",
      "247:\tlearn: 0.3776618\ttotal: 451ms\tremaining: 1.37s\n",
      "248:\tlearn: 0.3773633\ttotal: 453ms\tremaining: 1.37s\n",
      "249:\tlearn: 0.3770607\ttotal: 455ms\tremaining: 1.36s\n",
      "250:\tlearn: 0.3768029\ttotal: 458ms\tremaining: 1.36s\n",
      "251:\tlearn: 0.3765773\ttotal: 460ms\tremaining: 1.36s\n",
      "252:\tlearn: 0.3761877\ttotal: 462ms\tremaining: 1.36s\n",
      "253:\tlearn: 0.3757175\ttotal: 464ms\tremaining: 1.36s\n",
      "254:\tlearn: 0.3755598\ttotal: 466ms\tremaining: 1.36s\n",
      "255:\tlearn: 0.3752681\ttotal: 468ms\tremaining: 1.36s\n",
      "256:\tlearn: 0.3746639\ttotal: 470ms\tremaining: 1.36s\n",
      "257:\tlearn: 0.3744801\ttotal: 472ms\tremaining: 1.36s\n",
      "258:\tlearn: 0.3742063\ttotal: 475ms\tremaining: 1.36s\n",
      "259:\tlearn: 0.3740010\ttotal: 477ms\tremaining: 1.36s\n",
      "260:\tlearn: 0.3738714\ttotal: 479ms\tremaining: 1.35s\n",
      "261:\tlearn: 0.3735368\ttotal: 481ms\tremaining: 1.35s\n",
      "262:\tlearn: 0.3733010\ttotal: 483ms\tremaining: 1.35s\n",
      "263:\tlearn: 0.3731364\ttotal: 485ms\tremaining: 1.35s\n",
      "264:\tlearn: 0.3729784\ttotal: 487ms\tremaining: 1.35s\n",
      "265:\tlearn: 0.3727658\ttotal: 489ms\tremaining: 1.35s\n",
      "266:\tlearn: 0.3724746\ttotal: 491ms\tremaining: 1.35s\n",
      "267:\tlearn: 0.3722093\ttotal: 494ms\tremaining: 1.35s\n",
      "268:\tlearn: 0.3720327\ttotal: 496ms\tremaining: 1.35s\n",
      "269:\tlearn: 0.3719192\ttotal: 498ms\tremaining: 1.35s\n",
      "270:\tlearn: 0.3716959\ttotal: 500ms\tremaining: 1.34s\n",
      "271:\tlearn: 0.3716175\ttotal: 502ms\tremaining: 1.34s\n",
      "272:\tlearn: 0.3714303\ttotal: 504ms\tremaining: 1.34s\n",
      "273:\tlearn: 0.3712053\ttotal: 506ms\tremaining: 1.34s\n",
      "274:\tlearn: 0.3711473\ttotal: 508ms\tremaining: 1.34s\n",
      "275:\tlearn: 0.3708220\ttotal: 510ms\tremaining: 1.34s\n",
      "276:\tlearn: 0.3705432\ttotal: 513ms\tremaining: 1.34s\n",
      "277:\tlearn: 0.3702689\ttotal: 515ms\tremaining: 1.34s\n",
      "278:\tlearn: 0.3700340\ttotal: 518ms\tremaining: 1.34s\n",
      "279:\tlearn: 0.3698012\ttotal: 520ms\tremaining: 1.34s\n",
      "280:\tlearn: 0.3693688\ttotal: 522ms\tremaining: 1.34s\n",
      "281:\tlearn: 0.3692802\ttotal: 525ms\tremaining: 1.34s\n",
      "282:\tlearn: 0.3689350\ttotal: 527ms\tremaining: 1.33s\n",
      "283:\tlearn: 0.3685882\ttotal: 530ms\tremaining: 1.33s\n",
      "284:\tlearn: 0.3683119\ttotal: 532ms\tremaining: 1.33s\n",
      "285:\tlearn: 0.3679891\ttotal: 535ms\tremaining: 1.33s\n",
      "286:\tlearn: 0.3676162\ttotal: 537ms\tremaining: 1.33s\n",
      "287:\tlearn: 0.3674567\ttotal: 539ms\tremaining: 1.33s\n",
      "288:\tlearn: 0.3672161\ttotal: 541ms\tremaining: 1.33s\n",
      "289:\tlearn: 0.3670433\ttotal: 543ms\tremaining: 1.33s\n",
      "290:\tlearn: 0.3667661\ttotal: 546ms\tremaining: 1.33s\n",
      "291:\tlearn: 0.3664530\ttotal: 548ms\tremaining: 1.33s\n",
      "292:\tlearn: 0.3663562\ttotal: 550ms\tremaining: 1.33s\n",
      "293:\tlearn: 0.3659425\ttotal: 552ms\tremaining: 1.32s\n",
      "294:\tlearn: 0.3657611\ttotal: 554ms\tremaining: 1.32s\n",
      "295:\tlearn: 0.3656445\ttotal: 556ms\tremaining: 1.32s\n",
      "296:\tlearn: 0.3654892\ttotal: 558ms\tremaining: 1.32s\n",
      "297:\tlearn: 0.3653609\ttotal: 560ms\tremaining: 1.32s\n",
      "298:\tlearn: 0.3650697\ttotal: 562ms\tremaining: 1.32s\n",
      "299:\tlearn: 0.3647814\ttotal: 564ms\tremaining: 1.32s\n",
      "300:\tlearn: 0.3644451\ttotal: 567ms\tremaining: 1.31s\n",
      "301:\tlearn: 0.3640369\ttotal: 569ms\tremaining: 1.31s\n",
      "302:\tlearn: 0.3636602\ttotal: 571ms\tremaining: 1.31s\n",
      "303:\tlearn: 0.3635145\ttotal: 573ms\tremaining: 1.31s\n",
      "304:\tlearn: 0.3633387\ttotal: 576ms\tremaining: 1.31s\n",
      "305:\tlearn: 0.3631481\ttotal: 578ms\tremaining: 1.31s\n",
      "306:\tlearn: 0.3631319\ttotal: 579ms\tremaining: 1.31s\n",
      "307:\tlearn: 0.3630937\ttotal: 580ms\tremaining: 1.3s\n",
      "308:\tlearn: 0.3630246\ttotal: 582ms\tremaining: 1.3s\n",
      "309:\tlearn: 0.3628570\ttotal: 584ms\tremaining: 1.3s\n",
      "310:\tlearn: 0.3628385\ttotal: 585ms\tremaining: 1.29s\n",
      "311:\tlearn: 0.3626029\ttotal: 587ms\tremaining: 1.29s\n",
      "312:\tlearn: 0.3622706\ttotal: 589ms\tremaining: 1.29s\n",
      "313:\tlearn: 0.3621526\ttotal: 591ms\tremaining: 1.29s\n",
      "314:\tlearn: 0.3618964\ttotal: 594ms\tremaining: 1.29s\n",
      "315:\tlearn: 0.3618150\ttotal: 596ms\tremaining: 1.29s\n",
      "316:\tlearn: 0.3617109\ttotal: 598ms\tremaining: 1.29s\n",
      "317:\tlearn: 0.3615990\ttotal: 600ms\tremaining: 1.29s\n",
      "318:\tlearn: 0.3612533\ttotal: 602ms\tremaining: 1.28s\n",
      "319:\tlearn: 0.3610891\ttotal: 604ms\tremaining: 1.28s\n",
      "320:\tlearn: 0.3609461\ttotal: 607ms\tremaining: 1.28s\n",
      "321:\tlearn: 0.3606854\ttotal: 609ms\tremaining: 1.28s\n",
      "322:\tlearn: 0.3605709\ttotal: 611ms\tremaining: 1.28s\n",
      "323:\tlearn: 0.3603883\ttotal: 613ms\tremaining: 1.28s\n",
      "324:\tlearn: 0.3601199\ttotal: 615ms\tremaining: 1.28s\n",
      "325:\tlearn: 0.3598938\ttotal: 618ms\tremaining: 1.28s\n",
      "326:\tlearn: 0.3595300\ttotal: 620ms\tremaining: 1.27s\n",
      "327:\tlearn: 0.3593676\ttotal: 622ms\tremaining: 1.27s\n",
      "328:\tlearn: 0.3590436\ttotal: 624ms\tremaining: 1.27s\n",
      "329:\tlearn: 0.3586348\ttotal: 626ms\tremaining: 1.27s\n",
      "330:\tlearn: 0.3584272\ttotal: 628ms\tremaining: 1.27s\n",
      "331:\tlearn: 0.3582234\ttotal: 631ms\tremaining: 1.27s\n",
      "332:\tlearn: 0.3579658\ttotal: 633ms\tremaining: 1.27s\n",
      "333:\tlearn: 0.3579556\ttotal: 634ms\tremaining: 1.26s\n",
      "334:\tlearn: 0.3577500\ttotal: 636ms\tremaining: 1.26s\n",
      "335:\tlearn: 0.3575811\ttotal: 638ms\tremaining: 1.26s\n",
      "336:\tlearn: 0.3573444\ttotal: 640ms\tremaining: 1.26s\n",
      "337:\tlearn: 0.3571507\ttotal: 642ms\tremaining: 1.26s\n",
      "338:\tlearn: 0.3570388\ttotal: 645ms\tremaining: 1.26s\n",
      "339:\tlearn: 0.3568115\ttotal: 647ms\tremaining: 1.25s\n",
      "340:\tlearn: 0.3566899\ttotal: 649ms\tremaining: 1.25s\n",
      "341:\tlearn: 0.3564827\ttotal: 651ms\tremaining: 1.25s\n",
      "342:\tlearn: 0.3563247\ttotal: 653ms\tremaining: 1.25s\n",
      "343:\tlearn: 0.3560767\ttotal: 655ms\tremaining: 1.25s\n",
      "344:\tlearn: 0.3558986\ttotal: 657ms\tremaining: 1.25s\n",
      "345:\tlearn: 0.3555447\ttotal: 660ms\tremaining: 1.25s\n",
      "346:\tlearn: 0.3554451\ttotal: 662ms\tremaining: 1.25s\n",
      "347:\tlearn: 0.3550488\ttotal: 664ms\tremaining: 1.24s\n",
      "348:\tlearn: 0.3547975\ttotal: 666ms\tremaining: 1.24s\n",
      "349:\tlearn: 0.3546309\ttotal: 668ms\tremaining: 1.24s\n",
      "350:\tlearn: 0.3545554\ttotal: 670ms\tremaining: 1.24s\n",
      "351:\tlearn: 0.3543339\ttotal: 672ms\tremaining: 1.24s\n",
      "352:\tlearn: 0.3540962\ttotal: 674ms\tremaining: 1.24s\n",
      "353:\tlearn: 0.3538925\ttotal: 676ms\tremaining: 1.23s\n",
      "354:\tlearn: 0.3537954\ttotal: 678ms\tremaining: 1.23s\n",
      "355:\tlearn: 0.3536841\ttotal: 681ms\tremaining: 1.23s\n",
      "356:\tlearn: 0.3533737\ttotal: 683ms\tremaining: 1.23s\n",
      "357:\tlearn: 0.3529704\ttotal: 685ms\tremaining: 1.23s\n",
      "358:\tlearn: 0.3528318\ttotal: 687ms\tremaining: 1.23s\n",
      "359:\tlearn: 0.3526723\ttotal: 688ms\tremaining: 1.22s\n",
      "360:\tlearn: 0.3524600\ttotal: 690ms\tremaining: 1.22s\n",
      "361:\tlearn: 0.3522355\ttotal: 692ms\tremaining: 1.22s\n",
      "362:\tlearn: 0.3520735\ttotal: 694ms\tremaining: 1.22s\n",
      "363:\tlearn: 0.3519170\ttotal: 696ms\tremaining: 1.22s\n",
      "364:\tlearn: 0.3516567\ttotal: 698ms\tremaining: 1.21s\n",
      "365:\tlearn: 0.3513579\ttotal: 700ms\tremaining: 1.21s\n",
      "366:\tlearn: 0.3511885\ttotal: 702ms\tremaining: 1.21s\n",
      "367:\tlearn: 0.3510335\ttotal: 704ms\tremaining: 1.21s\n",
      "368:\tlearn: 0.3509257\ttotal: 706ms\tremaining: 1.21s\n",
      "369:\tlearn: 0.3509151\ttotal: 707ms\tremaining: 1.2s\n",
      "370:\tlearn: 0.3507347\ttotal: 709ms\tremaining: 1.2s\n",
      "371:\tlearn: 0.3505527\ttotal: 711ms\tremaining: 1.2s\n",
      "372:\tlearn: 0.3503883\ttotal: 713ms\tremaining: 1.2s\n",
      "373:\tlearn: 0.3501710\ttotal: 714ms\tremaining: 1.2s\n",
      "374:\tlearn: 0.3500255\ttotal: 716ms\tremaining: 1.19s\n",
      "375:\tlearn: 0.3499580\ttotal: 719ms\tremaining: 1.19s\n",
      "376:\tlearn: 0.3498019\ttotal: 721ms\tremaining: 1.19s\n",
      "377:\tlearn: 0.3495895\ttotal: 723ms\tremaining: 1.19s\n",
      "378:\tlearn: 0.3494127\ttotal: 725ms\tremaining: 1.19s\n",
      "379:\tlearn: 0.3493430\ttotal: 726ms\tremaining: 1.19s\n",
      "380:\tlearn: 0.3491999\ttotal: 729ms\tremaining: 1.19s\n",
      "381:\tlearn: 0.3489781\ttotal: 731ms\tremaining: 1.18s\n",
      "382:\tlearn: 0.3488686\ttotal: 733ms\tremaining: 1.18s\n",
      "383:\tlearn: 0.3488618\ttotal: 734ms\tremaining: 1.18s\n",
      "384:\tlearn: 0.3486145\ttotal: 736ms\tremaining: 1.18s\n",
      "385:\tlearn: 0.3485986\ttotal: 737ms\tremaining: 1.17s\n",
      "386:\tlearn: 0.3483707\ttotal: 738ms\tremaining: 1.17s\n",
      "387:\tlearn: 0.3482162\ttotal: 740ms\tremaining: 1.17s\n",
      "388:\tlearn: 0.3480688\ttotal: 742ms\tremaining: 1.17s\n",
      "389:\tlearn: 0.3478608\ttotal: 744ms\tremaining: 1.16s\n",
      "390:\tlearn: 0.3477529\ttotal: 746ms\tremaining: 1.16s\n",
      "391:\tlearn: 0.3475486\ttotal: 747ms\tremaining: 1.16s\n",
      "392:\tlearn: 0.3473574\ttotal: 750ms\tremaining: 1.16s\n",
      "393:\tlearn: 0.3471013\ttotal: 752ms\tremaining: 1.16s\n",
      "394:\tlearn: 0.3469366\ttotal: 754ms\tremaining: 1.15s\n",
      "395:\tlearn: 0.3466837\ttotal: 755ms\tremaining: 1.15s\n",
      "396:\tlearn: 0.3465112\ttotal: 758ms\tremaining: 1.15s\n",
      "397:\tlearn: 0.3463516\ttotal: 759ms\tremaining: 1.15s\n",
      "398:\tlearn: 0.3461663\ttotal: 761ms\tremaining: 1.15s\n",
      "399:\tlearn: 0.3459519\ttotal: 763ms\tremaining: 1.14s\n"
     ]
    },
    {
     "name": "stdout",
     "output_type": "stream",
     "text": [
      "400:\tlearn: 0.3455985\ttotal: 765ms\tremaining: 1.14s\n",
      "401:\tlearn: 0.3453521\ttotal: 767ms\tremaining: 1.14s\n",
      "402:\tlearn: 0.3452005\ttotal: 769ms\tremaining: 1.14s\n",
      "403:\tlearn: 0.3449165\ttotal: 770ms\tremaining: 1.14s\n",
      "404:\tlearn: 0.3447335\ttotal: 772ms\tremaining: 1.13s\n",
      "405:\tlearn: 0.3445941\ttotal: 774ms\tremaining: 1.13s\n",
      "406:\tlearn: 0.3443550\ttotal: 776ms\tremaining: 1.13s\n",
      "407:\tlearn: 0.3442094\ttotal: 778ms\tremaining: 1.13s\n",
      "408:\tlearn: 0.3439820\ttotal: 779ms\tremaining: 1.13s\n",
      "409:\tlearn: 0.3439763\ttotal: 780ms\tremaining: 1.12s\n",
      "410:\tlearn: 0.3439216\ttotal: 782ms\tremaining: 1.12s\n",
      "411:\tlearn: 0.3437530\ttotal: 784ms\tremaining: 1.12s\n",
      "412:\tlearn: 0.3436760\ttotal: 786ms\tremaining: 1.12s\n",
      "413:\tlearn: 0.3434636\ttotal: 788ms\tremaining: 1.11s\n",
      "414:\tlearn: 0.3433580\ttotal: 790ms\tremaining: 1.11s\n",
      "415:\tlearn: 0.3432102\ttotal: 792ms\tremaining: 1.11s\n",
      "416:\tlearn: 0.3430234\ttotal: 793ms\tremaining: 1.11s\n",
      "417:\tlearn: 0.3429592\ttotal: 795ms\tremaining: 1.11s\n",
      "418:\tlearn: 0.3428173\ttotal: 797ms\tremaining: 1.1s\n",
      "419:\tlearn: 0.3426327\ttotal: 799ms\tremaining: 1.1s\n",
      "420:\tlearn: 0.3424487\ttotal: 801ms\tremaining: 1.1s\n",
      "421:\tlearn: 0.3421798\ttotal: 803ms\tremaining: 1.1s\n",
      "422:\tlearn: 0.3421277\ttotal: 805ms\tremaining: 1.1s\n",
      "423:\tlearn: 0.3420950\ttotal: 805ms\tremaining: 1.09s\n",
      "424:\tlearn: 0.3420134\ttotal: 807ms\tremaining: 1.09s\n",
      "425:\tlearn: 0.3418182\ttotal: 810ms\tremaining: 1.09s\n",
      "426:\tlearn: 0.3416573\ttotal: 811ms\tremaining: 1.09s\n",
      "427:\tlearn: 0.3414999\ttotal: 813ms\tremaining: 1.09s\n",
      "428:\tlearn: 0.3413063\ttotal: 815ms\tremaining: 1.08s\n",
      "429:\tlearn: 0.3412128\ttotal: 817ms\tremaining: 1.08s\n",
      "430:\tlearn: 0.3409713\ttotal: 818ms\tremaining: 1.08s\n",
      "431:\tlearn: 0.3408113\ttotal: 820ms\tremaining: 1.08s\n",
      "432:\tlearn: 0.3406419\ttotal: 822ms\tremaining: 1.08s\n",
      "433:\tlearn: 0.3405554\ttotal: 824ms\tremaining: 1.07s\n",
      "434:\tlearn: 0.3404361\ttotal: 826ms\tremaining: 1.07s\n",
      "435:\tlearn: 0.3402465\ttotal: 828ms\tremaining: 1.07s\n",
      "436:\tlearn: 0.3401220\ttotal: 830ms\tremaining: 1.07s\n",
      "437:\tlearn: 0.3400384\ttotal: 831ms\tremaining: 1.07s\n",
      "438:\tlearn: 0.3398571\ttotal: 833ms\tremaining: 1.06s\n",
      "439:\tlearn: 0.3398211\ttotal: 835ms\tremaining: 1.06s\n",
      "440:\tlearn: 0.3396674\ttotal: 837ms\tremaining: 1.06s\n",
      "441:\tlearn: 0.3396092\ttotal: 838ms\tremaining: 1.06s\n",
      "442:\tlearn: 0.3393184\ttotal: 840ms\tremaining: 1.06s\n",
      "443:\tlearn: 0.3391984\ttotal: 842ms\tremaining: 1.05s\n",
      "444:\tlearn: 0.3391294\ttotal: 844ms\tremaining: 1.05s\n",
      "445:\tlearn: 0.3389919\ttotal: 845ms\tremaining: 1.05s\n",
      "446:\tlearn: 0.3388855\ttotal: 847ms\tremaining: 1.05s\n",
      "447:\tlearn: 0.3388103\ttotal: 849ms\tremaining: 1.04s\n",
      "448:\tlearn: 0.3385624\ttotal: 851ms\tremaining: 1.04s\n",
      "449:\tlearn: 0.3384950\ttotal: 852ms\tremaining: 1.04s\n",
      "450:\tlearn: 0.3382638\ttotal: 854ms\tremaining: 1.04s\n",
      "451:\tlearn: 0.3381689\ttotal: 856ms\tremaining: 1.04s\n",
      "452:\tlearn: 0.3380036\ttotal: 857ms\tremaining: 1.03s\n",
      "453:\tlearn: 0.3378402\ttotal: 859ms\tremaining: 1.03s\n",
      "454:\tlearn: 0.3376853\ttotal: 861ms\tremaining: 1.03s\n",
      "455:\tlearn: 0.3375865\ttotal: 862ms\tremaining: 1.03s\n",
      "456:\tlearn: 0.3373963\ttotal: 864ms\tremaining: 1.03s\n",
      "457:\tlearn: 0.3373888\ttotal: 865ms\tremaining: 1.02s\n",
      "458:\tlearn: 0.3372706\ttotal: 867ms\tremaining: 1.02s\n",
      "459:\tlearn: 0.3370733\ttotal: 868ms\tremaining: 1.02s\n",
      "460:\tlearn: 0.3368020\ttotal: 870ms\tremaining: 1.02s\n",
      "461:\tlearn: 0.3367409\ttotal: 872ms\tremaining: 1.01s\n",
      "462:\tlearn: 0.3363996\ttotal: 874ms\tremaining: 1.01s\n",
      "463:\tlearn: 0.3363702\ttotal: 875ms\tremaining: 1.01s\n",
      "464:\tlearn: 0.3361758\ttotal: 877ms\tremaining: 1.01s\n",
      "465:\tlearn: 0.3360612\ttotal: 878ms\tremaining: 1.01s\n",
      "466:\tlearn: 0.3358088\ttotal: 880ms\tremaining: 1s\n",
      "467:\tlearn: 0.3358026\ttotal: 881ms\tremaining: 1s\n",
      "468:\tlearn: 0.3356029\ttotal: 883ms\tremaining: 1000ms\n",
      "469:\tlearn: 0.3354840\ttotal: 885ms\tremaining: 998ms\n",
      "470:\tlearn: 0.3353767\ttotal: 887ms\tremaining: 996ms\n",
      "471:\tlearn: 0.3352382\ttotal: 888ms\tremaining: 994ms\n",
      "472:\tlearn: 0.3351206\ttotal: 890ms\tremaining: 992ms\n",
      "473:\tlearn: 0.3350330\ttotal: 892ms\tremaining: 989ms\n",
      "474:\tlearn: 0.3348233\ttotal: 893ms\tremaining: 987ms\n",
      "475:\tlearn: 0.3346875\ttotal: 895ms\tremaining: 985ms\n",
      "476:\tlearn: 0.3345962\ttotal: 897ms\tremaining: 983ms\n",
      "477:\tlearn: 0.3344714\ttotal: 899ms\tremaining: 981ms\n",
      "478:\tlearn: 0.3342683\ttotal: 900ms\tremaining: 979ms\n",
      "479:\tlearn: 0.3339270\ttotal: 902ms\tremaining: 977ms\n",
      "480:\tlearn: 0.3337027\ttotal: 904ms\tremaining: 975ms\n",
      "481:\tlearn: 0.3336487\ttotal: 905ms\tremaining: 973ms\n",
      "482:\tlearn: 0.3334839\ttotal: 907ms\tremaining: 971ms\n",
      "483:\tlearn: 0.3334201\ttotal: 909ms\tremaining: 969ms\n",
      "484:\tlearn: 0.3333395\ttotal: 910ms\tremaining: 967ms\n",
      "485:\tlearn: 0.3332422\ttotal: 912ms\tremaining: 965ms\n",
      "486:\tlearn: 0.3330407\ttotal: 914ms\tremaining: 963ms\n",
      "487:\tlearn: 0.3330325\ttotal: 915ms\tremaining: 960ms\n",
      "488:\tlearn: 0.3329900\ttotal: 917ms\tremaining: 958ms\n",
      "489:\tlearn: 0.3329638\ttotal: 917ms\tremaining: 955ms\n",
      "490:\tlearn: 0.3328491\ttotal: 919ms\tremaining: 953ms\n",
      "491:\tlearn: 0.3325795\ttotal: 921ms\tremaining: 951ms\n",
      "492:\tlearn: 0.3325304\ttotal: 923ms\tremaining: 950ms\n",
      "493:\tlearn: 0.3324997\ttotal: 925ms\tremaining: 947ms\n",
      "494:\tlearn: 0.3323490\ttotal: 927ms\tremaining: 946ms\n",
      "495:\tlearn: 0.3322289\ttotal: 929ms\tremaining: 944ms\n",
      "496:\tlearn: 0.3320147\ttotal: 931ms\tremaining: 942ms\n",
      "497:\tlearn: 0.3318625\ttotal: 933ms\tremaining: 940ms\n",
      "498:\tlearn: 0.3317368\ttotal: 935ms\tremaining: 938ms\n",
      "499:\tlearn: 0.3316488\ttotal: 937ms\tremaining: 937ms\n",
      "500:\tlearn: 0.3315403\ttotal: 940ms\tremaining: 936ms\n",
      "501:\tlearn: 0.3313333\ttotal: 942ms\tremaining: 934ms\n",
      "502:\tlearn: 0.3312170\ttotal: 944ms\tremaining: 932ms\n",
      "503:\tlearn: 0.3311787\ttotal: 945ms\tremaining: 930ms\n",
      "504:\tlearn: 0.3311596\ttotal: 947ms\tremaining: 928ms\n",
      "505:\tlearn: 0.3310056\ttotal: 948ms\tremaining: 926ms\n",
      "506:\tlearn: 0.3308928\ttotal: 950ms\tremaining: 924ms\n",
      "507:\tlearn: 0.3307749\ttotal: 952ms\tremaining: 922ms\n",
      "508:\tlearn: 0.3306439\ttotal: 954ms\tremaining: 920ms\n",
      "509:\tlearn: 0.3304008\ttotal: 956ms\tremaining: 918ms\n",
      "510:\tlearn: 0.3302230\ttotal: 957ms\tremaining: 916ms\n",
      "511:\tlearn: 0.3300119\ttotal: 959ms\tremaining: 914ms\n",
      "512:\tlearn: 0.3299775\ttotal: 961ms\tremaining: 912ms\n",
      "513:\tlearn: 0.3297573\ttotal: 963ms\tremaining: 910ms\n",
      "514:\tlearn: 0.3297511\ttotal: 964ms\tremaining: 908ms\n",
      "515:\tlearn: 0.3295112\ttotal: 966ms\tremaining: 906ms\n",
      "516:\tlearn: 0.3293332\ttotal: 968ms\tremaining: 904ms\n",
      "517:\tlearn: 0.3291318\ttotal: 969ms\tremaining: 902ms\n",
      "518:\tlearn: 0.3291291\ttotal: 970ms\tremaining: 899ms\n",
      "519:\tlearn: 0.3289946\ttotal: 972ms\tremaining: 897ms\n",
      "520:\tlearn: 0.3288338\ttotal: 974ms\tremaining: 895ms\n",
      "521:\tlearn: 0.3286708\ttotal: 976ms\tremaining: 894ms\n",
      "522:\tlearn: 0.3286385\ttotal: 978ms\tremaining: 892ms\n",
      "523:\tlearn: 0.3285631\ttotal: 980ms\tremaining: 890ms\n",
      "524:\tlearn: 0.3284143\ttotal: 982ms\tremaining: 888ms\n",
      "525:\tlearn: 0.3283431\ttotal: 983ms\tremaining: 886ms\n",
      "526:\tlearn: 0.3282056\ttotal: 985ms\tremaining: 884ms\n",
      "527:\tlearn: 0.3280454\ttotal: 987ms\tremaining: 882ms\n",
      "528:\tlearn: 0.3279765\ttotal: 988ms\tremaining: 880ms\n",
      "529:\tlearn: 0.3277644\ttotal: 990ms\tremaining: 878ms\n",
      "530:\tlearn: 0.3277085\ttotal: 992ms\tremaining: 876ms\n",
      "531:\tlearn: 0.3275980\ttotal: 994ms\tremaining: 874ms\n",
      "532:\tlearn: 0.3274557\ttotal: 996ms\tremaining: 873ms\n",
      "533:\tlearn: 0.3273115\ttotal: 999ms\tremaining: 872ms\n",
      "534:\tlearn: 0.3271962\ttotal: 1s\tremaining: 870ms\n",
      "535:\tlearn: 0.3270966\ttotal: 1s\tremaining: 868ms\n",
      "536:\tlearn: 0.3269317\ttotal: 1s\tremaining: 866ms\n",
      "537:\tlearn: 0.3267890\ttotal: 1s\tremaining: 863ms\n",
      "538:\tlearn: 0.3266385\ttotal: 1.01s\tremaining: 861ms\n",
      "539:\tlearn: 0.3266303\ttotal: 1.01s\tremaining: 859ms\n",
      "540:\tlearn: 0.3265708\ttotal: 1.01s\tremaining: 857ms\n",
      "541:\tlearn: 0.3265565\ttotal: 1.01s\tremaining: 855ms\n",
      "542:\tlearn: 0.3264934\ttotal: 1.01s\tremaining: 854ms\n",
      "543:\tlearn: 0.3263820\ttotal: 1.02s\tremaining: 853ms\n",
      "544:\tlearn: 0.3262762\ttotal: 1.02s\tremaining: 851ms\n",
      "545:\tlearn: 0.3261771\ttotal: 1.02s\tremaining: 849ms\n",
      "546:\tlearn: 0.3261138\ttotal: 1.02s\tremaining: 847ms\n",
      "547:\tlearn: 0.3260044\ttotal: 1.02s\tremaining: 845ms\n",
      "548:\tlearn: 0.3258683\ttotal: 1.02s\tremaining: 843ms\n",
      "549:\tlearn: 0.3257378\ttotal: 1.03s\tremaining: 841ms\n",
      "550:\tlearn: 0.3255638\ttotal: 1.03s\tremaining: 839ms\n",
      "551:\tlearn: 0.3254669\ttotal: 1.03s\tremaining: 837ms\n",
      "552:\tlearn: 0.3253706\ttotal: 1.03s\tremaining: 835ms\n",
      "553:\tlearn: 0.3252833\ttotal: 1.03s\tremaining: 833ms\n",
      "554:\tlearn: 0.3252101\ttotal: 1.03s\tremaining: 831ms\n",
      "555:\tlearn: 0.3250668\ttotal: 1.04s\tremaining: 828ms\n",
      "556:\tlearn: 0.3249459\ttotal: 1.04s\tremaining: 826ms\n",
      "557:\tlearn: 0.3247670\ttotal: 1.04s\tremaining: 824ms\n",
      "558:\tlearn: 0.3246160\ttotal: 1.04s\tremaining: 822ms\n",
      "559:\tlearn: 0.3244262\ttotal: 1.04s\tremaining: 820ms\n",
      "560:\tlearn: 0.3242237\ttotal: 1.04s\tremaining: 818ms\n",
      "561:\tlearn: 0.3241269\ttotal: 1.05s\tremaining: 816ms\n",
      "562:\tlearn: 0.3240176\ttotal: 1.05s\tremaining: 816ms\n",
      "563:\tlearn: 0.3238968\ttotal: 1.05s\tremaining: 814ms\n",
      "564:\tlearn: 0.3237543\ttotal: 1.05s\tremaining: 812ms\n",
      "565:\tlearn: 0.3235911\ttotal: 1.05s\tremaining: 810ms\n",
      "566:\tlearn: 0.3234682\ttotal: 1.06s\tremaining: 808ms\n",
      "567:\tlearn: 0.3233067\ttotal: 1.06s\tremaining: 806ms\n",
      "568:\tlearn: 0.3231482\ttotal: 1.06s\tremaining: 804ms\n",
      "569:\tlearn: 0.3231004\ttotal: 1.06s\tremaining: 801ms\n",
      "570:\tlearn: 0.3230749\ttotal: 1.06s\tremaining: 799ms\n",
      "571:\tlearn: 0.3230727\ttotal: 1.06s\tremaining: 796ms\n",
      "572:\tlearn: 0.3229128\ttotal: 1.07s\tremaining: 794ms\n",
      "573:\tlearn: 0.3227633\ttotal: 1.07s\tremaining: 793ms\n",
      "574:\tlearn: 0.3227610\ttotal: 1.07s\tremaining: 790ms\n",
      "575:\tlearn: 0.3226741\ttotal: 1.07s\tremaining: 788ms\n",
      "576:\tlearn: 0.3225987\ttotal: 1.07s\tremaining: 786ms\n",
      "577:\tlearn: 0.3223964\ttotal: 1.07s\tremaining: 784ms\n",
      "578:\tlearn: 0.3221651\ttotal: 1.07s\tremaining: 782ms\n",
      "579:\tlearn: 0.3221343\ttotal: 1.08s\tremaining: 780ms\n",
      "580:\tlearn: 0.3221057\ttotal: 1.08s\tremaining: 778ms\n"
     ]
    },
    {
     "name": "stdout",
     "output_type": "stream",
     "text": [
      "581:\tlearn: 0.3220832\ttotal: 1.08s\tremaining: 776ms\n",
      "582:\tlearn: 0.3220164\ttotal: 1.08s\tremaining: 774ms\n",
      "583:\tlearn: 0.3219581\ttotal: 1.08s\tremaining: 772ms\n",
      "584:\tlearn: 0.3219531\ttotal: 1.08s\tremaining: 770ms\n",
      "585:\tlearn: 0.3217393\ttotal: 1.09s\tremaining: 768ms\n",
      "586:\tlearn: 0.3215569\ttotal: 1.09s\tremaining: 766ms\n",
      "587:\tlearn: 0.3214047\ttotal: 1.09s\tremaining: 764ms\n",
      "588:\tlearn: 0.3213453\ttotal: 1.09s\tremaining: 762ms\n",
      "589:\tlearn: 0.3211892\ttotal: 1.09s\tremaining: 760ms\n",
      "590:\tlearn: 0.3210191\ttotal: 1.09s\tremaining: 758ms\n",
      "591:\tlearn: 0.3209273\ttotal: 1.1s\tremaining: 756ms\n",
      "592:\tlearn: 0.3207046\ttotal: 1.1s\tremaining: 755ms\n",
      "593:\tlearn: 0.3205705\ttotal: 1.1s\tremaining: 754ms\n",
      "594:\tlearn: 0.3204879\ttotal: 1.1s\tremaining: 752ms\n",
      "595:\tlearn: 0.3203511\ttotal: 1.11s\tremaining: 750ms\n",
      "596:\tlearn: 0.3202280\ttotal: 1.11s\tremaining: 748ms\n",
      "597:\tlearn: 0.3200833\ttotal: 1.11s\tremaining: 746ms\n",
      "598:\tlearn: 0.3198827\ttotal: 1.11s\tremaining: 744ms\n",
      "599:\tlearn: 0.3198676\ttotal: 1.11s\tremaining: 742ms\n",
      "600:\tlearn: 0.3195708\ttotal: 1.11s\tremaining: 740ms\n",
      "601:\tlearn: 0.3195676\ttotal: 1.11s\tremaining: 737ms\n",
      "602:\tlearn: 0.3194938\ttotal: 1.12s\tremaining: 735ms\n",
      "603:\tlearn: 0.3193136\ttotal: 1.12s\tremaining: 734ms\n",
      "604:\tlearn: 0.3191348\ttotal: 1.12s\tremaining: 732ms\n",
      "605:\tlearn: 0.3190725\ttotal: 1.12s\tremaining: 730ms\n",
      "606:\tlearn: 0.3189757\ttotal: 1.12s\tremaining: 728ms\n",
      "607:\tlearn: 0.3188341\ttotal: 1.13s\tremaining: 726ms\n",
      "608:\tlearn: 0.3187108\ttotal: 1.13s\tremaining: 724ms\n",
      "609:\tlearn: 0.3186500\ttotal: 1.13s\tremaining: 722ms\n",
      "610:\tlearn: 0.3185408\ttotal: 1.13s\tremaining: 720ms\n",
      "611:\tlearn: 0.3184198\ttotal: 1.13s\tremaining: 718ms\n",
      "612:\tlearn: 0.3183004\ttotal: 1.13s\tremaining: 716ms\n",
      "613:\tlearn: 0.3182479\ttotal: 1.14s\tremaining: 714ms\n",
      "614:\tlearn: 0.3181363\ttotal: 1.14s\tremaining: 712ms\n",
      "615:\tlearn: 0.3179145\ttotal: 1.14s\tremaining: 710ms\n",
      "616:\tlearn: 0.3178405\ttotal: 1.14s\tremaining: 708ms\n",
      "617:\tlearn: 0.3177608\ttotal: 1.14s\tremaining: 706ms\n",
      "618:\tlearn: 0.3177104\ttotal: 1.14s\tremaining: 704ms\n",
      "619:\tlearn: 0.3175575\ttotal: 1.15s\tremaining: 702ms\n",
      "620:\tlearn: 0.3173835\ttotal: 1.15s\tremaining: 700ms\n",
      "621:\tlearn: 0.3172944\ttotal: 1.15s\tremaining: 698ms\n",
      "622:\tlearn: 0.3172124\ttotal: 1.15s\tremaining: 696ms\n",
      "623:\tlearn: 0.3171476\ttotal: 1.15s\tremaining: 694ms\n",
      "624:\tlearn: 0.3170711\ttotal: 1.15s\tremaining: 692ms\n",
      "625:\tlearn: 0.3169943\ttotal: 1.16s\tremaining: 690ms\n",
      "626:\tlearn: 0.3169288\ttotal: 1.16s\tremaining: 688ms\n",
      "627:\tlearn: 0.3168110\ttotal: 1.16s\tremaining: 686ms\n",
      "628:\tlearn: 0.3164946\ttotal: 1.16s\tremaining: 684ms\n",
      "629:\tlearn: 0.3164131\ttotal: 1.16s\tremaining: 682ms\n",
      "630:\tlearn: 0.3163347\ttotal: 1.16s\tremaining: 680ms\n",
      "631:\tlearn: 0.3162883\ttotal: 1.16s\tremaining: 678ms\n",
      "632:\tlearn: 0.3162113\ttotal: 1.17s\tremaining: 676ms\n",
      "633:\tlearn: 0.3160956\ttotal: 1.17s\tremaining: 675ms\n",
      "634:\tlearn: 0.3160524\ttotal: 1.17s\tremaining: 673ms\n",
      "635:\tlearn: 0.3159012\ttotal: 1.17s\tremaining: 671ms\n",
      "636:\tlearn: 0.3157574\ttotal: 1.17s\tremaining: 669ms\n",
      "637:\tlearn: 0.3156440\ttotal: 1.18s\tremaining: 667ms\n",
      "638:\tlearn: 0.3154980\ttotal: 1.18s\tremaining: 665ms\n",
      "639:\tlearn: 0.3153707\ttotal: 1.18s\tremaining: 663ms\n",
      "640:\tlearn: 0.3151369\ttotal: 1.18s\tremaining: 662ms\n",
      "641:\tlearn: 0.3150282\ttotal: 1.18s\tremaining: 660ms\n",
      "642:\tlearn: 0.3149226\ttotal: 1.19s\tremaining: 658ms\n",
      "643:\tlearn: 0.3148295\ttotal: 1.19s\tremaining: 656ms\n",
      "644:\tlearn: 0.3147764\ttotal: 1.19s\tremaining: 654ms\n",
      "645:\tlearn: 0.3146666\ttotal: 1.19s\tremaining: 653ms\n",
      "646:\tlearn: 0.3144558\ttotal: 1.19s\tremaining: 651ms\n",
      "647:\tlearn: 0.3142725\ttotal: 1.2s\tremaining: 649ms\n",
      "648:\tlearn: 0.3141821\ttotal: 1.2s\tremaining: 648ms\n",
      "649:\tlearn: 0.3141263\ttotal: 1.2s\tremaining: 645ms\n",
      "650:\tlearn: 0.3138730\ttotal: 1.2s\tremaining: 644ms\n",
      "651:\tlearn: 0.3137501\ttotal: 1.2s\tremaining: 642ms\n",
      "652:\tlearn: 0.3136940\ttotal: 1.2s\tremaining: 640ms\n",
      "653:\tlearn: 0.3135047\ttotal: 1.21s\tremaining: 638ms\n",
      "654:\tlearn: 0.3132578\ttotal: 1.21s\tremaining: 636ms\n",
      "655:\tlearn: 0.3130433\ttotal: 1.21s\tremaining: 635ms\n",
      "656:\tlearn: 0.3129566\ttotal: 1.21s\tremaining: 634ms\n",
      "657:\tlearn: 0.3128315\ttotal: 1.22s\tremaining: 633ms\n",
      "658:\tlearn: 0.3127526\ttotal: 1.22s\tremaining: 631ms\n",
      "659:\tlearn: 0.3126192\ttotal: 1.22s\tremaining: 629ms\n",
      "660:\tlearn: 0.3124922\ttotal: 1.22s\tremaining: 627ms\n",
      "661:\tlearn: 0.3124712\ttotal: 1.22s\tremaining: 625ms\n",
      "662:\tlearn: 0.3123280\ttotal: 1.23s\tremaining: 623ms\n",
      "663:\tlearn: 0.3121954\ttotal: 1.23s\tremaining: 621ms\n",
      "664:\tlearn: 0.3120502\ttotal: 1.23s\tremaining: 619ms\n",
      "665:\tlearn: 0.3119738\ttotal: 1.23s\tremaining: 617ms\n",
      "666:\tlearn: 0.3118887\ttotal: 1.23s\tremaining: 616ms\n",
      "667:\tlearn: 0.3117245\ttotal: 1.23s\tremaining: 614ms\n",
      "668:\tlearn: 0.3115657\ttotal: 1.24s\tremaining: 612ms\n",
      "669:\tlearn: 0.3114661\ttotal: 1.24s\tremaining: 610ms\n",
      "670:\tlearn: 0.3113984\ttotal: 1.24s\tremaining: 608ms\n",
      "671:\tlearn: 0.3112864\ttotal: 1.24s\tremaining: 607ms\n",
      "672:\tlearn: 0.3111155\ttotal: 1.24s\tremaining: 605ms\n",
      "673:\tlearn: 0.3110625\ttotal: 1.25s\tremaining: 603ms\n",
      "674:\tlearn: 0.3109104\ttotal: 1.25s\tremaining: 601ms\n",
      "675:\tlearn: 0.3108251\ttotal: 1.25s\tremaining: 599ms\n",
      "676:\tlearn: 0.3107580\ttotal: 1.25s\tremaining: 598ms\n",
      "677:\tlearn: 0.3106549\ttotal: 1.25s\tremaining: 596ms\n",
      "678:\tlearn: 0.3105741\ttotal: 1.26s\tremaining: 594ms\n",
      "679:\tlearn: 0.3104102\ttotal: 1.26s\tremaining: 592ms\n",
      "680:\tlearn: 0.3102526\ttotal: 1.26s\tremaining: 591ms\n",
      "681:\tlearn: 0.3101811\ttotal: 1.26s\tremaining: 589ms\n",
      "682:\tlearn: 0.3099426\ttotal: 1.26s\tremaining: 587ms\n",
      "683:\tlearn: 0.3097753\ttotal: 1.27s\tremaining: 585ms\n",
      "684:\tlearn: 0.3097101\ttotal: 1.27s\tremaining: 583ms\n",
      "685:\tlearn: 0.3096534\ttotal: 1.27s\tremaining: 581ms\n",
      "686:\tlearn: 0.3095144\ttotal: 1.27s\tremaining: 579ms\n",
      "687:\tlearn: 0.3092722\ttotal: 1.27s\tremaining: 578ms\n",
      "688:\tlearn: 0.3091691\ttotal: 1.27s\tremaining: 576ms\n",
      "689:\tlearn: 0.3090851\ttotal: 1.28s\tremaining: 574ms\n",
      "690:\tlearn: 0.3089860\ttotal: 1.28s\tremaining: 572ms\n",
      "691:\tlearn: 0.3088549\ttotal: 1.28s\tremaining: 570ms\n",
      "692:\tlearn: 0.3087692\ttotal: 1.28s\tremaining: 568ms\n",
      "693:\tlearn: 0.3086972\ttotal: 1.28s\tremaining: 567ms\n",
      "694:\tlearn: 0.3085783\ttotal: 1.29s\tremaining: 565ms\n",
      "695:\tlearn: 0.3084392\ttotal: 1.29s\tremaining: 563ms\n",
      "696:\tlearn: 0.3083332\ttotal: 1.29s\tremaining: 561ms\n",
      "697:\tlearn: 0.3082206\ttotal: 1.29s\tremaining: 559ms\n",
      "698:\tlearn: 0.3080408\ttotal: 1.29s\tremaining: 557ms\n",
      "699:\tlearn: 0.3079107\ttotal: 1.3s\tremaining: 555ms\n",
      "700:\tlearn: 0.3077842\ttotal: 1.3s\tremaining: 554ms\n",
      "701:\tlearn: 0.3077166\ttotal: 1.3s\tremaining: 552ms\n",
      "702:\tlearn: 0.3076285\ttotal: 1.3s\tremaining: 550ms\n",
      "703:\tlearn: 0.3074493\ttotal: 1.3s\tremaining: 548ms\n",
      "704:\tlearn: 0.3072364\ttotal: 1.3s\tremaining: 546ms\n",
      "705:\tlearn: 0.3071168\ttotal: 1.31s\tremaining: 544ms\n",
      "706:\tlearn: 0.3070220\ttotal: 1.31s\tremaining: 542ms\n",
      "707:\tlearn: 0.3069231\ttotal: 1.31s\tremaining: 541ms\n",
      "708:\tlearn: 0.3068077\ttotal: 1.31s\tremaining: 539ms\n",
      "709:\tlearn: 0.3067279\ttotal: 1.32s\tremaining: 538ms\n",
      "710:\tlearn: 0.3065166\ttotal: 1.32s\tremaining: 536ms\n",
      "711:\tlearn: 0.3064938\ttotal: 1.32s\tremaining: 534ms\n",
      "712:\tlearn: 0.3063666\ttotal: 1.32s\tremaining: 532ms\n",
      "713:\tlearn: 0.3062414\ttotal: 1.32s\tremaining: 530ms\n",
      "714:\tlearn: 0.3061104\ttotal: 1.32s\tremaining: 528ms\n",
      "715:\tlearn: 0.3058959\ttotal: 1.33s\tremaining: 526ms\n",
      "716:\tlearn: 0.3057111\ttotal: 1.33s\tremaining: 525ms\n",
      "717:\tlearn: 0.3055544\ttotal: 1.33s\tremaining: 524ms\n",
      "718:\tlearn: 0.3053177\ttotal: 1.33s\tremaining: 522ms\n",
      "719:\tlearn: 0.3051567\ttotal: 1.34s\tremaining: 520ms\n",
      "720:\tlearn: 0.3050386\ttotal: 1.34s\tremaining: 518ms\n",
      "721:\tlearn: 0.3048523\ttotal: 1.34s\tremaining: 516ms\n",
      "722:\tlearn: 0.3047747\ttotal: 1.34s\tremaining: 514ms\n",
      "723:\tlearn: 0.3047090\ttotal: 1.34s\tremaining: 513ms\n",
      "724:\tlearn: 0.3046099\ttotal: 1.35s\tremaining: 511ms\n",
      "725:\tlearn: 0.3045508\ttotal: 1.35s\tremaining: 509ms\n",
      "726:\tlearn: 0.3044779\ttotal: 1.35s\tremaining: 507ms\n",
      "727:\tlearn: 0.3043193\ttotal: 1.35s\tremaining: 505ms\n",
      "728:\tlearn: 0.3041322\ttotal: 1.35s\tremaining: 503ms\n",
      "729:\tlearn: 0.3041001\ttotal: 1.35s\tremaining: 501ms\n",
      "730:\tlearn: 0.3040854\ttotal: 1.36s\tremaining: 499ms\n",
      "731:\tlearn: 0.3039265\ttotal: 1.36s\tremaining: 498ms\n",
      "732:\tlearn: 0.3037559\ttotal: 1.36s\tremaining: 497ms\n",
      "733:\tlearn: 0.3036701\ttotal: 1.37s\tremaining: 495ms\n",
      "734:\tlearn: 0.3035328\ttotal: 1.37s\tremaining: 494ms\n",
      "735:\tlearn: 0.3034150\ttotal: 1.37s\tremaining: 492ms\n",
      "736:\tlearn: 0.3032979\ttotal: 1.37s\tremaining: 490ms\n",
      "737:\tlearn: 0.3031341\ttotal: 1.37s\tremaining: 488ms\n",
      "738:\tlearn: 0.3029819\ttotal: 1.38s\tremaining: 486ms\n",
      "739:\tlearn: 0.3028911\ttotal: 1.38s\tremaining: 484ms\n",
      "740:\tlearn: 0.3027663\ttotal: 1.38s\tremaining: 483ms\n",
      "741:\tlearn: 0.3027629\ttotal: 1.38s\tremaining: 480ms\n",
      "742:\tlearn: 0.3026319\ttotal: 1.38s\tremaining: 479ms\n",
      "743:\tlearn: 0.3025835\ttotal: 1.39s\tremaining: 477ms\n",
      "744:\tlearn: 0.3023908\ttotal: 1.39s\tremaining: 475ms\n",
      "745:\tlearn: 0.3022878\ttotal: 1.39s\tremaining: 473ms\n",
      "746:\tlearn: 0.3022864\ttotal: 1.39s\tremaining: 471ms\n",
      "747:\tlearn: 0.3022359\ttotal: 1.39s\tremaining: 469ms\n",
      "748:\tlearn: 0.3021788\ttotal: 1.39s\tremaining: 467ms\n",
      "749:\tlearn: 0.3020325\ttotal: 1.4s\tremaining: 465ms\n",
      "750:\tlearn: 0.3019210\ttotal: 1.4s\tremaining: 463ms\n",
      "751:\tlearn: 0.3018336\ttotal: 1.4s\tremaining: 461ms\n",
      "752:\tlearn: 0.3016689\ttotal: 1.4s\tremaining: 460ms\n"
     ]
    },
    {
     "name": "stdout",
     "output_type": "stream",
     "text": [
      "753:\tlearn: 0.3015280\ttotal: 1.4s\tremaining: 458ms\n",
      "754:\tlearn: 0.3014843\ttotal: 1.41s\tremaining: 456ms\n",
      "755:\tlearn: 0.3012840\ttotal: 1.41s\tremaining: 454ms\n",
      "756:\tlearn: 0.3012206\ttotal: 1.41s\tremaining: 452ms\n",
      "757:\tlearn: 0.3011111\ttotal: 1.41s\tremaining: 451ms\n",
      "758:\tlearn: 0.3010253\ttotal: 1.41s\tremaining: 449ms\n",
      "759:\tlearn: 0.3009312\ttotal: 1.42s\tremaining: 447ms\n",
      "760:\tlearn: 0.3007900\ttotal: 1.42s\tremaining: 445ms\n",
      "761:\tlearn: 0.3006835\ttotal: 1.42s\tremaining: 443ms\n",
      "762:\tlearn: 0.3006259\ttotal: 1.42s\tremaining: 442ms\n",
      "763:\tlearn: 0.3005522\ttotal: 1.42s\tremaining: 440ms\n",
      "764:\tlearn: 0.3004594\ttotal: 1.43s\tremaining: 438ms\n",
      "765:\tlearn: 0.3003996\ttotal: 1.43s\tremaining: 436ms\n",
      "766:\tlearn: 0.3002063\ttotal: 1.43s\tremaining: 434ms\n",
      "767:\tlearn: 0.3001408\ttotal: 1.43s\tremaining: 432ms\n",
      "768:\tlearn: 0.3000308\ttotal: 1.43s\tremaining: 431ms\n",
      "769:\tlearn: 0.2999113\ttotal: 1.44s\tremaining: 429ms\n",
      "770:\tlearn: 0.2998409\ttotal: 1.44s\tremaining: 427ms\n",
      "771:\tlearn: 0.2997145\ttotal: 1.44s\tremaining: 425ms\n",
      "772:\tlearn: 0.2995147\ttotal: 1.44s\tremaining: 423ms\n",
      "773:\tlearn: 0.2994012\ttotal: 1.44s\tremaining: 421ms\n",
      "774:\tlearn: 0.2993658\ttotal: 1.45s\tremaining: 420ms\n",
      "775:\tlearn: 0.2992461\ttotal: 1.45s\tremaining: 418ms\n",
      "776:\tlearn: 0.2990895\ttotal: 1.45s\tremaining: 416ms\n",
      "777:\tlearn: 0.2990190\ttotal: 1.45s\tremaining: 414ms\n",
      "778:\tlearn: 0.2988873\ttotal: 1.45s\tremaining: 413ms\n",
      "779:\tlearn: 0.2987230\ttotal: 1.46s\tremaining: 411ms\n",
      "780:\tlearn: 0.2985481\ttotal: 1.46s\tremaining: 409ms\n",
      "781:\tlearn: 0.2984442\ttotal: 1.46s\tremaining: 407ms\n",
      "782:\tlearn: 0.2983058\ttotal: 1.46s\tremaining: 405ms\n",
      "783:\tlearn: 0.2981233\ttotal: 1.46s\tremaining: 403ms\n",
      "784:\tlearn: 0.2979526\ttotal: 1.47s\tremaining: 402ms\n",
      "785:\tlearn: 0.2978393\ttotal: 1.47s\tremaining: 400ms\n",
      "786:\tlearn: 0.2977653\ttotal: 1.47s\tremaining: 398ms\n",
      "787:\tlearn: 0.2977401\ttotal: 1.47s\tremaining: 396ms\n",
      "788:\tlearn: 0.2976204\ttotal: 1.47s\tremaining: 394ms\n",
      "789:\tlearn: 0.2975564\ttotal: 1.48s\tremaining: 392ms\n",
      "790:\tlearn: 0.2974122\ttotal: 1.48s\tremaining: 390ms\n",
      "791:\tlearn: 0.2973600\ttotal: 1.48s\tremaining: 388ms\n",
      "792:\tlearn: 0.2972660\ttotal: 1.48s\tremaining: 387ms\n",
      "793:\tlearn: 0.2971829\ttotal: 1.48s\tremaining: 385ms\n",
      "794:\tlearn: 0.2970144\ttotal: 1.48s\tremaining: 383ms\n",
      "795:\tlearn: 0.2968176\ttotal: 1.49s\tremaining: 381ms\n",
      "796:\tlearn: 0.2967055\ttotal: 1.49s\tremaining: 379ms\n",
      "797:\tlearn: 0.2966078\ttotal: 1.49s\tremaining: 377ms\n",
      "798:\tlearn: 0.2965293\ttotal: 1.49s\tremaining: 375ms\n",
      "799:\tlearn: 0.2963617\ttotal: 1.49s\tremaining: 374ms\n",
      "800:\tlearn: 0.2963331\ttotal: 1.5s\tremaining: 372ms\n",
      "801:\tlearn: 0.2963047\ttotal: 1.5s\tremaining: 370ms\n",
      "802:\tlearn: 0.2962233\ttotal: 1.5s\tremaining: 368ms\n",
      "803:\tlearn: 0.2960727\ttotal: 1.5s\tremaining: 366ms\n",
      "804:\tlearn: 0.2960084\ttotal: 1.5s\tremaining: 364ms\n",
      "805:\tlearn: 0.2959415\ttotal: 1.5s\tremaining: 362ms\n",
      "806:\tlearn: 0.2958127\ttotal: 1.51s\tremaining: 360ms\n",
      "807:\tlearn: 0.2957387\ttotal: 1.51s\tremaining: 359ms\n",
      "808:\tlearn: 0.2956484\ttotal: 1.51s\tremaining: 357ms\n",
      "809:\tlearn: 0.2955319\ttotal: 1.51s\tremaining: 355ms\n",
      "810:\tlearn: 0.2952982\ttotal: 1.51s\tremaining: 353ms\n",
      "811:\tlearn: 0.2951271\ttotal: 1.52s\tremaining: 351ms\n",
      "812:\tlearn: 0.2950146\ttotal: 1.52s\tremaining: 349ms\n",
      "813:\tlearn: 0.2948909\ttotal: 1.52s\tremaining: 347ms\n",
      "814:\tlearn: 0.2946630\ttotal: 1.52s\tremaining: 346ms\n",
      "815:\tlearn: 0.2946251\ttotal: 1.52s\tremaining: 344ms\n",
      "816:\tlearn: 0.2945775\ttotal: 1.52s\tremaining: 342ms\n",
      "817:\tlearn: 0.2944945\ttotal: 1.53s\tremaining: 340ms\n",
      "818:\tlearn: 0.2943777\ttotal: 1.53s\tremaining: 338ms\n",
      "819:\tlearn: 0.2943066\ttotal: 1.53s\tremaining: 336ms\n",
      "820:\tlearn: 0.2942524\ttotal: 1.53s\tremaining: 334ms\n",
      "821:\tlearn: 0.2941375\ttotal: 1.53s\tremaining: 332ms\n",
      "822:\tlearn: 0.2939859\ttotal: 1.54s\tremaining: 331ms\n",
      "823:\tlearn: 0.2938686\ttotal: 1.54s\tremaining: 329ms\n",
      "824:\tlearn: 0.2937339\ttotal: 1.54s\tremaining: 327ms\n",
      "825:\tlearn: 0.2936481\ttotal: 1.54s\tremaining: 325ms\n",
      "826:\tlearn: 0.2934582\ttotal: 1.54s\tremaining: 323ms\n",
      "827:\tlearn: 0.2932646\ttotal: 1.55s\tremaining: 321ms\n",
      "828:\tlearn: 0.2931333\ttotal: 1.55s\tremaining: 319ms\n",
      "829:\tlearn: 0.2929406\ttotal: 1.55s\tremaining: 318ms\n",
      "830:\tlearn: 0.2927684\ttotal: 1.55s\tremaining: 316ms\n",
      "831:\tlearn: 0.2925711\ttotal: 1.55s\tremaining: 314ms\n",
      "832:\tlearn: 0.2924714\ttotal: 1.55s\tremaining: 312ms\n",
      "833:\tlearn: 0.2923452\ttotal: 1.56s\tremaining: 310ms\n",
      "834:\tlearn: 0.2921511\ttotal: 1.56s\tremaining: 308ms\n",
      "835:\tlearn: 0.2920815\ttotal: 1.56s\tremaining: 306ms\n",
      "836:\tlearn: 0.2920069\ttotal: 1.56s\tremaining: 305ms\n",
      "837:\tlearn: 0.2919076\ttotal: 1.57s\tremaining: 303ms\n",
      "838:\tlearn: 0.2917620\ttotal: 1.57s\tremaining: 301ms\n",
      "839:\tlearn: 0.2917069\ttotal: 1.57s\tremaining: 299ms\n",
      "840:\tlearn: 0.2915312\ttotal: 1.57s\tremaining: 297ms\n",
      "841:\tlearn: 0.2914917\ttotal: 1.57s\tremaining: 295ms\n",
      "842:\tlearn: 0.2913293\ttotal: 1.57s\tremaining: 293ms\n",
      "843:\tlearn: 0.2912215\ttotal: 1.58s\tremaining: 292ms\n",
      "844:\tlearn: 0.2910795\ttotal: 1.58s\tremaining: 290ms\n",
      "845:\tlearn: 0.2908265\ttotal: 1.58s\tremaining: 288ms\n",
      "846:\tlearn: 0.2907202\ttotal: 1.58s\tremaining: 286ms\n",
      "847:\tlearn: 0.2906565\ttotal: 1.58s\tremaining: 284ms\n",
      "848:\tlearn: 0.2904574\ttotal: 1.59s\tremaining: 282ms\n",
      "849:\tlearn: 0.2903019\ttotal: 1.59s\tremaining: 280ms\n",
      "850:\tlearn: 0.2901856\ttotal: 1.59s\tremaining: 278ms\n",
      "851:\tlearn: 0.2901799\ttotal: 1.59s\tremaining: 276ms\n",
      "852:\tlearn: 0.2901037\ttotal: 1.59s\tremaining: 275ms\n",
      "853:\tlearn: 0.2899419\ttotal: 1.59s\tremaining: 273ms\n",
      "854:\tlearn: 0.2897322\ttotal: 1.6s\tremaining: 271ms\n",
      "855:\tlearn: 0.2896085\ttotal: 1.6s\tremaining: 269ms\n",
      "856:\tlearn: 0.2894087\ttotal: 1.6s\tremaining: 267ms\n",
      "857:\tlearn: 0.2892755\ttotal: 1.6s\tremaining: 265ms\n",
      "858:\tlearn: 0.2892178\ttotal: 1.6s\tremaining: 263ms\n",
      "859:\tlearn: 0.2891000\ttotal: 1.61s\tremaining: 262ms\n",
      "860:\tlearn: 0.2889172\ttotal: 1.61s\tremaining: 260ms\n",
      "861:\tlearn: 0.2887550\ttotal: 1.61s\tremaining: 258ms\n",
      "862:\tlearn: 0.2886336\ttotal: 1.61s\tremaining: 256ms\n",
      "863:\tlearn: 0.2885382\ttotal: 1.61s\tremaining: 254ms\n",
      "864:\tlearn: 0.2884483\ttotal: 1.61s\tremaining: 252ms\n",
      "865:\tlearn: 0.2882135\ttotal: 1.62s\tremaining: 250ms\n",
      "866:\tlearn: 0.2881506\ttotal: 1.62s\tremaining: 248ms\n",
      "867:\tlearn: 0.2880084\ttotal: 1.62s\tremaining: 247ms\n",
      "868:\tlearn: 0.2879656\ttotal: 1.62s\tremaining: 245ms\n",
      "869:\tlearn: 0.2878853\ttotal: 1.62s\tremaining: 243ms\n",
      "870:\tlearn: 0.2877685\ttotal: 1.63s\tremaining: 241ms\n",
      "871:\tlearn: 0.2876931\ttotal: 1.63s\tremaining: 239ms\n",
      "872:\tlearn: 0.2875361\ttotal: 1.63s\tremaining: 237ms\n",
      "873:\tlearn: 0.2874436\ttotal: 1.63s\tremaining: 235ms\n",
      "874:\tlearn: 0.2872417\ttotal: 1.63s\tremaining: 233ms\n",
      "875:\tlearn: 0.2871201\ttotal: 1.63s\tremaining: 231ms\n",
      "876:\tlearn: 0.2870184\ttotal: 1.64s\tremaining: 230ms\n",
      "877:\tlearn: 0.2868250\ttotal: 1.64s\tremaining: 228ms\n",
      "878:\tlearn: 0.2866961\ttotal: 1.64s\tremaining: 226ms\n",
      "879:\tlearn: 0.2866044\ttotal: 1.64s\tremaining: 224ms\n",
      "880:\tlearn: 0.2865048\ttotal: 1.64s\tremaining: 222ms\n",
      "881:\tlearn: 0.2862759\ttotal: 1.64s\tremaining: 220ms\n",
      "882:\tlearn: 0.2862375\ttotal: 1.65s\tremaining: 218ms\n",
      "883:\tlearn: 0.2860361\ttotal: 1.65s\tremaining: 216ms\n",
      "884:\tlearn: 0.2859168\ttotal: 1.65s\tremaining: 214ms\n",
      "885:\tlearn: 0.2857784\ttotal: 1.65s\tremaining: 213ms\n",
      "886:\tlearn: 0.2856720\ttotal: 1.65s\tremaining: 211ms\n",
      "887:\tlearn: 0.2855114\ttotal: 1.65s\tremaining: 209ms\n",
      "888:\tlearn: 0.2854855\ttotal: 1.66s\tremaining: 207ms\n",
      "889:\tlearn: 0.2854022\ttotal: 1.66s\tremaining: 205ms\n",
      "890:\tlearn: 0.2852746\ttotal: 1.66s\tremaining: 203ms\n",
      "891:\tlearn: 0.2851843\ttotal: 1.66s\tremaining: 201ms\n",
      "892:\tlearn: 0.2850718\ttotal: 1.66s\tremaining: 199ms\n",
      "893:\tlearn: 0.2849819\ttotal: 1.66s\tremaining: 197ms\n",
      "894:\tlearn: 0.2848640\ttotal: 1.67s\tremaining: 195ms\n",
      "895:\tlearn: 0.2846978\ttotal: 1.67s\tremaining: 194ms\n",
      "896:\tlearn: 0.2845734\ttotal: 1.67s\tremaining: 192ms\n",
      "897:\tlearn: 0.2843844\ttotal: 1.67s\tremaining: 190ms\n",
      "898:\tlearn: 0.2842708\ttotal: 1.67s\tremaining: 188ms\n",
      "899:\tlearn: 0.2841101\ttotal: 1.67s\tremaining: 186ms\n",
      "900:\tlearn: 0.2839502\ttotal: 1.68s\tremaining: 184ms\n",
      "901:\tlearn: 0.2837528\ttotal: 1.68s\tremaining: 182ms\n",
      "902:\tlearn: 0.2836919\ttotal: 1.68s\tremaining: 180ms\n",
      "903:\tlearn: 0.2834944\ttotal: 1.68s\tremaining: 179ms\n",
      "904:\tlearn: 0.2834485\ttotal: 1.68s\tremaining: 177ms\n",
      "905:\tlearn: 0.2833187\ttotal: 1.69s\tremaining: 175ms\n",
      "906:\tlearn: 0.2831958\ttotal: 1.69s\tremaining: 173ms\n",
      "907:\tlearn: 0.2831028\ttotal: 1.69s\tremaining: 171ms\n",
      "908:\tlearn: 0.2829657\ttotal: 1.69s\tremaining: 169ms\n",
      "909:\tlearn: 0.2828138\ttotal: 1.69s\tremaining: 167ms\n",
      "910:\tlearn: 0.2827289\ttotal: 1.69s\tremaining: 166ms\n",
      "911:\tlearn: 0.2826322\ttotal: 1.7s\tremaining: 164ms\n",
      "912:\tlearn: 0.2825383\ttotal: 1.7s\tremaining: 162ms\n",
      "913:\tlearn: 0.2824115\ttotal: 1.7s\tremaining: 160ms\n",
      "914:\tlearn: 0.2823099\ttotal: 1.7s\tremaining: 158ms\n",
      "915:\tlearn: 0.2821956\ttotal: 1.7s\tremaining: 156ms\n",
      "916:\tlearn: 0.2820594\ttotal: 1.7s\tremaining: 154ms\n",
      "917:\tlearn: 0.2820210\ttotal: 1.71s\tremaining: 152ms\n",
      "918:\tlearn: 0.2818771\ttotal: 1.71s\tremaining: 150ms\n",
      "919:\tlearn: 0.2817934\ttotal: 1.71s\tremaining: 149ms\n",
      "920:\tlearn: 0.2816223\ttotal: 1.71s\tremaining: 147ms\n",
      "921:\tlearn: 0.2815192\ttotal: 1.71s\tremaining: 145ms\n",
      "922:\tlearn: 0.2813047\ttotal: 1.71s\tremaining: 143ms\n",
      "923:\tlearn: 0.2812105\ttotal: 1.72s\tremaining: 141ms\n",
      "924:\tlearn: 0.2810871\ttotal: 1.72s\tremaining: 139ms\n",
      "925:\tlearn: 0.2809570\ttotal: 1.72s\tremaining: 137ms\n",
      "926:\tlearn: 0.2808641\ttotal: 1.72s\tremaining: 136ms\n"
     ]
    },
    {
     "name": "stdout",
     "output_type": "stream",
     "text": [
      "927:\tlearn: 0.2807119\ttotal: 1.72s\tremaining: 134ms\n",
      "928:\tlearn: 0.2806137\ttotal: 1.73s\tremaining: 132ms\n",
      "929:\tlearn: 0.2805636\ttotal: 1.73s\tremaining: 130ms\n",
      "930:\tlearn: 0.2804483\ttotal: 1.73s\tremaining: 128ms\n",
      "931:\tlearn: 0.2802737\ttotal: 1.73s\tremaining: 126ms\n",
      "932:\tlearn: 0.2801428\ttotal: 1.73s\tremaining: 125ms\n",
      "933:\tlearn: 0.2800090\ttotal: 1.74s\tremaining: 123ms\n",
      "934:\tlearn: 0.2799442\ttotal: 1.74s\tremaining: 121ms\n",
      "935:\tlearn: 0.2798541\ttotal: 1.74s\tremaining: 119ms\n",
      "936:\tlearn: 0.2796547\ttotal: 1.75s\tremaining: 117ms\n",
      "937:\tlearn: 0.2795294\ttotal: 1.75s\tremaining: 116ms\n",
      "938:\tlearn: 0.2793231\ttotal: 1.75s\tremaining: 114ms\n",
      "939:\tlearn: 0.2792134\ttotal: 1.75s\tremaining: 112ms\n",
      "940:\tlearn: 0.2790615\ttotal: 1.75s\tremaining: 110ms\n",
      "941:\tlearn: 0.2789463\ttotal: 1.75s\tremaining: 108ms\n",
      "942:\tlearn: 0.2789161\ttotal: 1.76s\tremaining: 106ms\n",
      "943:\tlearn: 0.2788413\ttotal: 1.76s\tremaining: 104ms\n",
      "944:\tlearn: 0.2786690\ttotal: 1.76s\tremaining: 102ms\n",
      "945:\tlearn: 0.2785613\ttotal: 1.76s\tremaining: 101ms\n",
      "946:\tlearn: 0.2785116\ttotal: 1.76s\tremaining: 98.7ms\n",
      "947:\tlearn: 0.2783062\ttotal: 1.76s\tremaining: 96.8ms\n",
      "948:\tlearn: 0.2782087\ttotal: 1.77s\tremaining: 95ms\n",
      "949:\tlearn: 0.2780579\ttotal: 1.77s\tremaining: 93.1ms\n",
      "950:\tlearn: 0.2779038\ttotal: 1.77s\tremaining: 91.2ms\n",
      "951:\tlearn: 0.2777441\ttotal: 1.77s\tremaining: 89.4ms\n",
      "952:\tlearn: 0.2776026\ttotal: 1.77s\tremaining: 87.5ms\n",
      "953:\tlearn: 0.2775504\ttotal: 1.78s\tremaining: 85.7ms\n",
      "954:\tlearn: 0.2773596\ttotal: 1.78s\tremaining: 83.8ms\n",
      "955:\tlearn: 0.2771881\ttotal: 1.78s\tremaining: 81.9ms\n",
      "956:\tlearn: 0.2769486\ttotal: 1.78s\tremaining: 80.1ms\n",
      "957:\tlearn: 0.2768060\ttotal: 1.78s\tremaining: 78.2ms\n",
      "958:\tlearn: 0.2766991\ttotal: 1.78s\tremaining: 76.3ms\n",
      "959:\tlearn: 0.2765369\ttotal: 1.79s\tremaining: 74.4ms\n",
      "960:\tlearn: 0.2765097\ttotal: 1.79s\tremaining: 72.6ms\n",
      "961:\tlearn: 0.2763522\ttotal: 1.79s\tremaining: 70.7ms\n",
      "962:\tlearn: 0.2761974\ttotal: 1.79s\tremaining: 68.8ms\n",
      "963:\tlearn: 0.2760045\ttotal: 1.79s\tremaining: 67ms\n",
      "964:\tlearn: 0.2759122\ttotal: 1.79s\tremaining: 65.1ms\n",
      "965:\tlearn: 0.2757951\ttotal: 1.8s\tremaining: 63.3ms\n",
      "966:\tlearn: 0.2756708\ttotal: 1.8s\tremaining: 61.4ms\n",
      "967:\tlearn: 0.2755436\ttotal: 1.8s\tremaining: 59.5ms\n",
      "968:\tlearn: 0.2753810\ttotal: 1.8s\tremaining: 57.7ms\n",
      "969:\tlearn: 0.2752314\ttotal: 1.8s\tremaining: 55.8ms\n",
      "970:\tlearn: 0.2750378\ttotal: 1.81s\tremaining: 53.9ms\n",
      "971:\tlearn: 0.2749156\ttotal: 1.81s\tremaining: 52.1ms\n",
      "972:\tlearn: 0.2748093\ttotal: 1.81s\tremaining: 50.2ms\n",
      "973:\tlearn: 0.2746161\ttotal: 1.81s\tremaining: 48.3ms\n",
      "974:\tlearn: 0.2743901\ttotal: 1.81s\tremaining: 46.5ms\n",
      "975:\tlearn: 0.2742604\ttotal: 1.81s\tremaining: 44.6ms\n",
      "976:\tlearn: 0.2741914\ttotal: 1.82s\tremaining: 42.8ms\n",
      "977:\tlearn: 0.2741000\ttotal: 1.82s\tremaining: 40.9ms\n",
      "978:\tlearn: 0.2739411\ttotal: 1.82s\tremaining: 39ms\n",
      "979:\tlearn: 0.2738876\ttotal: 1.82s\tremaining: 37.2ms\n",
      "980:\tlearn: 0.2738534\ttotal: 1.82s\tremaining: 35.3ms\n",
      "981:\tlearn: 0.2737819\ttotal: 1.82s\tremaining: 33.5ms\n",
      "982:\tlearn: 0.2736436\ttotal: 1.83s\tremaining: 31.6ms\n",
      "983:\tlearn: 0.2734833\ttotal: 1.83s\tremaining: 29.7ms\n",
      "984:\tlearn: 0.2733405\ttotal: 1.83s\tremaining: 27.9ms\n",
      "985:\tlearn: 0.2731752\ttotal: 1.83s\tremaining: 26ms\n",
      "986:\tlearn: 0.2731215\ttotal: 1.83s\tremaining: 24.1ms\n",
      "987:\tlearn: 0.2729650\ttotal: 1.83s\tremaining: 22.3ms\n",
      "988:\tlearn: 0.2727671\ttotal: 1.84s\tremaining: 20.4ms\n",
      "989:\tlearn: 0.2725806\ttotal: 1.84s\tremaining: 18.6ms\n",
      "990:\tlearn: 0.2724236\ttotal: 1.84s\tremaining: 16.7ms\n",
      "991:\tlearn: 0.2722479\ttotal: 1.84s\tremaining: 14.9ms\n",
      "992:\tlearn: 0.2720910\ttotal: 1.84s\tremaining: 13ms\n",
      "993:\tlearn: 0.2719827\ttotal: 1.84s\tremaining: 11.1ms\n",
      "994:\tlearn: 0.2719246\ttotal: 1.85s\tremaining: 9.28ms\n",
      "995:\tlearn: 0.2718484\ttotal: 1.85s\tremaining: 7.42ms\n",
      "996:\tlearn: 0.2716665\ttotal: 1.85s\tremaining: 5.57ms\n",
      "997:\tlearn: 0.2715629\ttotal: 1.85s\tremaining: 3.71ms\n",
      "998:\tlearn: 0.2714644\ttotal: 1.85s\tremaining: 1.85ms\n",
      "999:\tlearn: 0.2713762\ttotal: 1.85s\tremaining: 0us\n"
     ]
    }
   ],
   "source": [
    "# Tree\n",
    "\n",
    "clf = CatBoostClassifier()\n",
    "clf.fit(x_tree_train , y_tree_train)\n",
    "prediction10 = clf.predict(test_tree)"
   ]
  },
  {
   "cell_type": "code",
   "execution_count": 64,
   "metadata": {},
   "outputs": [
    {
     "name": "stdout",
     "output_type": "stream",
     "text": [
      "80.71\n",
      "84.84\n"
     ]
    }
   ],
   "source": [
    "score_train = cross_val_score(clf, x_tree_train,y_tree_train, cv=k_fold, n_jobs=-1, scoring=\"accuracy\")\n",
    "print (round(np.mean(score_train)*100,2))\n",
    "score_test = cross_val_score(clf, x_tree_test,y_tree_test, cv=k_fold, n_jobs=-1, scoring=\"accuracy\")\n",
    "print (round(np.mean(score_test)*100,2))"
   ]
  },
  {
   "cell_type": "code",
   "execution_count": null,
   "metadata": {},
   "outputs": [],
   "source": []
  },
  {
   "cell_type": "code",
   "execution_count": 162,
   "metadata": {},
   "outputs": [],
   "source": [
    "# Ensemble Voting\n",
    "\n",
    "sub=[]\n",
    "sub.append(prediction1)\n",
    "sub.append(prediction2)\n",
    "sub.append(prediction3)\n",
    "sub.append(prediction4)\n",
    "sub.append(prediction5)\n",
    "sub.append(prediction6)\n",
    "sub.append(prediction7)\n",
    "sub.append(prediction8)\n",
    "sub.append(prediction9)\n",
    "sub.append(prediction10)\n",
    "sub = np.array(sub)\n",
    "sub_final = []\n",
    "for i in range (418):\n",
    "    p = 0\n",
    "    n = 0\n",
    "    j = 0\n",
    "    for j in range (10):\n",
    "        if (sub[j][i]==1):\n",
    "            p=p+1\n",
    "        else:\n",
    "            n=n+1\n",
    "    if (p>=n):\n",
    "        sub_final.append(1)\n",
    "    else:\n",
    "        sub_final.append(0)"
   ]
  },
  {
   "cell_type": "code",
   "execution_count": 164,
   "metadata": {},
   "outputs": [],
   "source": [
    "test1 = pd.read_csv(r\"C:\\Users\\admin\\Desktop\\Datasets\\Titanic_Kaggle\\gender_submission.csv\")\n",
    "submission = pd.DataFrame({\"PassengerId\": test1[\"PassengerId\"] , \"Survived\": prediction10})\n",
    "\n",
    "submission[\"PassengerId\"] = submission[\"PassengerId\"].astype(int)\n",
    "submission[\"Survived\"] = submission[\"Survived\"].astype(int)\n",
    "\n",
    "submission.to_csv(r\"C:\\Users\\admin\\Desktop\\submission_titanic.csv\" , index=False , header=True)"
   ]
  },
  {
   "cell_type": "code",
   "execution_count": null,
   "metadata": {},
   "outputs": [],
   "source": []
  }
 ],
 "metadata": {
  "kernelspec": {
   "display_name": "Python 3",
   "language": "python",
   "name": "python3"
  },
  "language_info": {
   "codemirror_mode": {
    "name": "ipython",
    "version": 3
   },
   "file_extension": ".py",
   "mimetype": "text/x-python",
   "name": "python",
   "nbconvert_exporter": "python",
   "pygments_lexer": "ipython3",
   "version": "3.7.6"
  }
 },
 "nbformat": 4,
 "nbformat_minor": 4
}
